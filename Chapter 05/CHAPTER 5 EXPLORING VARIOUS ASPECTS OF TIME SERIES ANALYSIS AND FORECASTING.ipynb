{
 "cells": [
  {
   "cell_type": "markdown",
   "metadata": {},
   "source": [
    "Descriptive Statistics"
   ]
  },
  {
   "cell_type": "code",
   "execution_count": 44,
   "metadata": {},
   "outputs": [],
   "source": [
    "import numpy as np\n",
    "import pandas as pd\n",
    "import matplotlib.pyplot as plt\n",
    "import seaborn as sns\n",
    "%matplotlib inline\n",
    "df_diesel_price = pd.read_csv(\"diesel_price.csv\")"
   ]
  },
  {
   "cell_type": "code",
   "execution_count": 45,
   "metadata": {},
   "outputs": [
    {
     "data": {
      "text/html": [
       "<div>\n",
       "<style scoped>\n",
       "    .dataframe tbody tr th:only-of-type {\n",
       "        vertical-align: middle;\n",
       "    }\n",
       "\n",
       "    .dataframe tbody tr th {\n",
       "        vertical-align: top;\n",
       "    }\n",
       "\n",
       "    .dataframe thead th {\n",
       "        text-align: right;\n",
       "    }\n",
       "</style>\n",
       "<table border=\"1\" class=\"dataframe\">\n",
       "  <thead>\n",
       "    <tr style=\"text-align: right;\">\n",
       "      <th></th>\n",
       "      <th>Diesel price</th>\n",
       "      <th>Detrend by a differencing</th>\n",
       "      <th>Predicted values</th>\n",
       "      <th>Detrend After  Predicted</th>\n",
       "    </tr>\n",
       "  </thead>\n",
       "  <tbody>\n",
       "    <tr>\n",
       "      <th>count</th>\n",
       "      <td>33.000000</td>\n",
       "      <td>23.000000</td>\n",
       "      <td>32.000000</td>\n",
       "      <td>32.000000</td>\n",
       "    </tr>\n",
       "    <tr>\n",
       "      <th>mean</th>\n",
       "      <td>6.205152</td>\n",
       "      <td>0.082174</td>\n",
       "      <td>6.243125</td>\n",
       "      <td>0.065313</td>\n",
       "    </tr>\n",
       "    <tr>\n",
       "      <th>std</th>\n",
       "      <td>1.612116</td>\n",
       "      <td>0.932733</td>\n",
       "      <td>1.356836</td>\n",
       "      <td>0.273307</td>\n",
       "    </tr>\n",
       "    <tr>\n",
       "      <th>min</th>\n",
       "      <td>3.200000</td>\n",
       "      <td>-1.570000</td>\n",
       "      <td>3.760000</td>\n",
       "      <td>-0.510000</td>\n",
       "    </tr>\n",
       "    <tr>\n",
       "      <th>25%</th>\n",
       "      <td>5.120000</td>\n",
       "      <td>-0.365000</td>\n",
       "      <td>5.357500</td>\n",
       "      <td>-0.070000</td>\n",
       "    </tr>\n",
       "    <tr>\n",
       "      <th>50%</th>\n",
       "      <td>5.950000</td>\n",
       "      <td>0.060000</td>\n",
       "      <td>5.935000</td>\n",
       "      <td>0.125000</td>\n",
       "    </tr>\n",
       "    <tr>\n",
       "      <th>75%</th>\n",
       "      <td>7.080000</td>\n",
       "      <td>0.440000</td>\n",
       "      <td>6.940000</td>\n",
       "      <td>0.242500</td>\n",
       "    </tr>\n",
       "    <tr>\n",
       "      <th>max</th>\n",
       "      <td>9.590000</td>\n",
       "      <td>2.170000</td>\n",
       "      <td>9.080000</td>\n",
       "      <td>0.560000</td>\n",
       "    </tr>\n",
       "  </tbody>\n",
       "</table>\n",
       "</div>"
      ],
      "text/plain": [
       "       Diesel price  Detrend by a differencing  Predicted values  \\\n",
       "count     33.000000                  23.000000         32.000000   \n",
       "mean       6.205152                   0.082174          6.243125   \n",
       "std        1.612116                   0.932733          1.356836   \n",
       "min        3.200000                  -1.570000          3.760000   \n",
       "25%        5.120000                  -0.365000          5.357500   \n",
       "50%        5.950000                   0.060000          5.935000   \n",
       "75%        7.080000                   0.440000          6.940000   \n",
       "max        9.590000                   2.170000          9.080000   \n",
       "\n",
       "       Detrend After  Predicted  \n",
       "count                 32.000000  \n",
       "mean                   0.065313  \n",
       "std                    0.273307  \n",
       "min                   -0.510000  \n",
       "25%                   -0.070000  \n",
       "50%                    0.125000  \n",
       "75%                    0.242500  \n",
       "max                    0.560000  "
      ]
     },
     "execution_count": 45,
     "metadata": {},
     "output_type": "execute_result"
    }
   ],
   "source": [
    "df_diesel_price.describe()"
   ]
  },
  {
   "cell_type": "code",
   "execution_count": 6,
   "metadata": {},
   "outputs": [
    {
     "data": {
      "text/html": [
       "<div>\n",
       "<style scoped>\n",
       "    .dataframe tbody tr th:only-of-type {\n",
       "        vertical-align: middle;\n",
       "    }\n",
       "\n",
       "    .dataframe tbody tr th {\n",
       "        vertical-align: top;\n",
       "    }\n",
       "\n",
       "    .dataframe thead th {\n",
       "        text-align: right;\n",
       "    }\n",
       "</style>\n",
       "<table border=\"1\" class=\"dataframe\">\n",
       "  <thead>\n",
       "    <tr style=\"text-align: right;\">\n",
       "      <th></th>\n",
       "      <th>count</th>\n",
       "      <th>mean</th>\n",
       "      <th>std</th>\n",
       "      <th>min</th>\n",
       "      <th>25%</th>\n",
       "      <th>50%</th>\n",
       "      <th>75%</th>\n",
       "      <th>max</th>\n",
       "    </tr>\n",
       "    <tr>\n",
       "      <th>Diesel price</th>\n",
       "      <th></th>\n",
       "      <th></th>\n",
       "      <th></th>\n",
       "      <th></th>\n",
       "      <th></th>\n",
       "      <th></th>\n",
       "      <th></th>\n",
       "      <th></th>\n",
       "    </tr>\n",
       "  </thead>\n",
       "  <tbody>\n",
       "    <tr>\n",
       "      <th>3.20</th>\n",
       "      <td>1.0</td>\n",
       "      <td>3.20</td>\n",
       "      <td>NaN</td>\n",
       "      <td>3.20</td>\n",
       "      <td>3.20</td>\n",
       "      <td>3.20</td>\n",
       "      <td>3.20</td>\n",
       "      <td>3.20</td>\n",
       "    </tr>\n",
       "    <tr>\n",
       "      <th>4.00</th>\n",
       "      <td>1.0</td>\n",
       "      <td>4.00</td>\n",
       "      <td>NaN</td>\n",
       "      <td>4.00</td>\n",
       "      <td>4.00</td>\n",
       "      <td>4.00</td>\n",
       "      <td>4.00</td>\n",
       "      <td>4.00</td>\n",
       "    </tr>\n",
       "    <tr>\n",
       "      <th>4.60</th>\n",
       "      <td>1.0</td>\n",
       "      <td>4.60</td>\n",
       "      <td>NaN</td>\n",
       "      <td>4.60</td>\n",
       "      <td>4.60</td>\n",
       "      <td>4.60</td>\n",
       "      <td>4.60</td>\n",
       "      <td>4.60</td>\n",
       "    </tr>\n",
       "    <tr>\n",
       "      <th>4.80</th>\n",
       "      <td>1.0</td>\n",
       "      <td>4.80</td>\n",
       "      <td>NaN</td>\n",
       "      <td>4.80</td>\n",
       "      <td>4.80</td>\n",
       "      <td>4.80</td>\n",
       "      <td>4.80</td>\n",
       "      <td>4.80</td>\n",
       "    </tr>\n",
       "    <tr>\n",
       "      <th>4.99</th>\n",
       "      <td>1.0</td>\n",
       "      <td>4.99</td>\n",
       "      <td>NaN</td>\n",
       "      <td>4.99</td>\n",
       "      <td>4.99</td>\n",
       "      <td>4.99</td>\n",
       "      <td>4.99</td>\n",
       "      <td>4.99</td>\n",
       "    </tr>\n",
       "  </tbody>\n",
       "</table>\n",
       "</div>"
      ],
      "text/plain": [
       "              count  mean  std   min   25%   50%   75%   max\n",
       "Diesel price                                                \n",
       "3.20            1.0  3.20  NaN  3.20  3.20  3.20  3.20  3.20\n",
       "4.00            1.0  4.00  NaN  4.00  4.00  4.00  4.00  4.00\n",
       "4.60            1.0  4.60  NaN  4.60  4.60  4.60  4.60  4.60\n",
       "4.80            1.0  4.80  NaN  4.80  4.80  4.80  4.80  4.80\n",
       "4.99            1.0  4.99  NaN  4.99  4.99  4.99  4.99  4.99"
      ]
     },
     "execution_count": 6,
     "metadata": {},
     "output_type": "execute_result"
    }
   ],
   "source": [
    "grouped_data = df_diesel_price.groupby([\"Diesel price\"])\n",
    "grouped_data[\"Diesel price\"].describe().head()"
   ]
  },
  {
   "cell_type": "code",
   "execution_count": 7,
   "metadata": {},
   "outputs": [
    {
     "name": "stdout",
     "output_type": "stream",
     "text": [
      "##############################################\n",
      "        Measures of central tendency          \n",
      "Mean: 6.205151515151515\n",
      "Median: 5.95\n",
      "##############################################\n",
      "\n",
      "############################################\n",
      "            Measures of variability           \n",
      "Variance: 2.5989195075757574\n",
      "Standard deviation: 1.6121164683656568\n",
      "Range: 6.39\n",
      "Interquartile range: [5.12 5.95 7.08]\n",
      "############################################\n"
     ]
    }
   ],
   "source": [
    "\n",
    "print(\"##############################################\")\n",
    "print(\"        Measures of central tendency          \")\n",
    "print(\"Mean:\",np.mean(df_diesel_price[\"Diesel price\"], axis=0))\n",
    "print(\"Median:\",np.median(df_diesel_price[\"Diesel price\"], axis=0))\n",
    "#print(\"Mode:\",np.mode(df_diesel_price[\"Diesel price\"], axis=0))\n",
    "print(\"##############################################\")\n",
    "\n",
    "\n",
    "print(\"\\n############################################\")\n",
    "print(\"            Measures of variability           \")\n",
    "print(\"Variance:\",df_diesel_price[\"Diesel price\"].var())\n",
    "print(\"Standard deviation:\", np.std(df_diesel_price[\"Diesel price\"], axis=0, ddof=1))\n",
    "print(\"Range:\", np.ptp(df_diesel_price[\"Diesel price\"], axis=0))\n",
    "print(\"Interquartile range:\",np.quantile(df_diesel_price[\"Diesel price\"],[.25, .5, .75], axis=0))\n",
    "print(\"############################################\")"
   ]
  },
  {
   "cell_type": "code",
   "execution_count": 8,
   "metadata": {},
   "outputs": [
    {
     "data": {
      "text/plain": [
       "6.205151515151515"
      ]
     },
     "execution_count": 8,
     "metadata": {},
     "output_type": "execute_result"
    }
   ],
   "source": [
    "df_diesel_price[\"Diesel price\"].mean()"
   ]
  },
  {
   "cell_type": "code",
   "execution_count": 9,
   "metadata": {},
   "outputs": [
    {
     "data": {
      "text/plain": [
       "5.95"
      ]
     },
     "execution_count": 9,
     "metadata": {},
     "output_type": "execute_result"
    }
   ],
   "source": [
    "df_diesel_price[\"Diesel price\"].median()"
   ]
  },
  {
   "cell_type": "code",
   "execution_count": 10,
   "metadata": {},
   "outputs": [
    {
     "data": {
      "text/plain": [
       "0    5.10\n",
       "1    5.13\n",
       "Name: Diesel price, dtype: float64"
      ]
     },
     "execution_count": 10,
     "metadata": {},
     "output_type": "execute_result"
    }
   ],
   "source": [
    "df_diesel_price[\"Diesel price\"].mode()"
   ]
  },
  {
   "cell_type": "code",
   "execution_count": 11,
   "metadata": {},
   "outputs": [
    {
     "data": {
      "text/plain": [
       "1.6121164683656568"
      ]
     },
     "execution_count": 11,
     "metadata": {},
     "output_type": "execute_result"
    }
   ],
   "source": [
    "df_diesel_price[\"Diesel price\"].std()"
   ]
  },
  {
   "cell_type": "code",
   "execution_count": 12,
   "metadata": {},
   "outputs": [
    {
     "data": {
      "text/plain": [
       "2.5989195075757574"
      ]
     },
     "execution_count": 12,
     "metadata": {},
     "output_type": "execute_result"
    }
   ],
   "source": [
    "df_diesel_price[\"Diesel price\"].var()"
   ]
  },
  {
   "cell_type": "code",
   "execution_count": 13,
   "metadata": {},
   "outputs": [
    {
     "data": {
      "text/plain": [
       "0.25    5.12\n",
       "0.50    5.95\n",
       "0.75    7.08\n",
       "Name: Diesel price, dtype: float64"
      ]
     },
     "execution_count": 13,
     "metadata": {},
     "output_type": "execute_result"
    }
   ],
   "source": [
    "df_diesel_price[\"Diesel price\"].quantile([.25, .5, .75])"
   ]
  },
  {
   "cell_type": "code",
   "execution_count": 14,
   "metadata": {},
   "outputs": [
    {
     "data": {
      "text/plain": [
       "9.59"
      ]
     },
     "execution_count": 14,
     "metadata": {},
     "output_type": "execute_result"
    }
   ],
   "source": [
    "df_diesel_price[\"Diesel price\"].max()"
   ]
  },
  {
   "cell_type": "code",
   "execution_count": 15,
   "metadata": {},
   "outputs": [
    {
     "data": {
      "text/plain": [
       "3.2"
      ]
     },
     "execution_count": 15,
     "metadata": {},
     "output_type": "execute_result"
    }
   ],
   "source": [
    "df_diesel_price[\"Diesel price\"].min()"
   ]
  },
  {
   "cell_type": "markdown",
   "metadata": {},
   "source": [
    "Boxplots"
   ]
  },
  {
   "cell_type": "code",
   "execution_count": 16,
   "metadata": {},
   "outputs": [
    {
     "data": {
      "text/plain": [
       "<matplotlib.axes._subplots.AxesSubplot at 0x239c64812e0>"
      ]
     },
     "execution_count": 16,
     "metadata": {},
     "output_type": "execute_result"
    },
    {
     "data": {
      "image/png": "[encoded data removed]",
      "text/plain": [
       "<Figure size 432x288 with 1 Axes>"
      ]
     },
     "metadata": {
      "needs_background": "light"
     },
     "output_type": "display_data"
    }
   ],
   "source": [
    "df_diesel_price.boxplot(column=\"Diesel price\")"
   ]
  },
  {
   "cell_type": "code",
   "execution_count": 17,
   "metadata": {},
   "outputs": [
    {
     "data": {
      "text/plain": [
       "<matplotlib.axes._subplots.AxesSubplot at 0x239c65467f0>"
      ]
     },
     "execution_count": 17,
     "metadata": {},
     "output_type": "execute_result"
    },
    {
     "data": {
      "image/png": "[encoded data removed]",
      "text/plain": [
       "<Figure size 432x288 with 1 Axes>"
      ]
     },
     "metadata": {
      "needs_background": "light"
     },
     "output_type": "display_data"
    }
   ],
   "source": [
    "sns.boxplot(x=\"Diesel price\",data=df_diesel_price)"
   ]
  },
  {
   "cell_type": "code",
   "execution_count": 18,
   "metadata": {},
   "outputs": [
    {
     "data": {
      "text/plain": [
       "<matplotlib.axes._subplots.AxesSubplot at 0x239c65b8880>"
      ]
     },
     "execution_count": 18,
     "metadata": {},
     "output_type": "execute_result"
    },
    {
     "data": {
      "image/png": "[encoded data removed]",
      "text/plain": [
       "<Figure size 432x288 with 1 Axes>"
      ]
     },
     "metadata": {
      "needs_background": "light"
     },
     "output_type": "display_data"
    }
   ],
   "source": [
    "df_diesel_price[\"Diesel price\"].hist()"
   ]
  },
  {
   "cell_type": "code",
   "execution_count": 19,
   "metadata": {},
   "outputs": [
    {
     "data": {
      "text/plain": [
       "6.205151515151515"
      ]
     },
     "execution_count": 19,
     "metadata": {},
     "output_type": "execute_result"
    }
   ],
   "source": [
    "from scipy.stats import ttest_1samp\n",
    "import numpy as np\n",
    "#print(df_diesel_price[\"Diesel price\"].count)\n",
    "diesel_mean = np.mean(df_diesel_price[\"Diesel price\"])\n",
    "diesel_mean\n",
    "#print(diesel_mean)"
   ]
  },
  {
   "cell_type": "code",
   "execution_count": 20,
   "metadata": {},
   "outputs": [
    {
     "name": "stdout",
     "output_type": "stream",
     "text": [
      "p-values nan\n",
      "we are accepting null hypothesis\n"
     ]
    },
    {
     "name": "stderr",
     "output_type": "stream",
     "text": [
      "C:\\Users\\pandi\\anaconda3\\lib\\site-packages\\scipy\\stats\\_axis_nan_policy.py:502: RuntimeWarning: Precision loss occurred in moment calculation due to catastrophic cancellation. This occurs when the data are nearly identical. Results may be unreliable.\n",
      "  res = hypotest_fun_out(*samples, **kwds)\n",
      "C:\\Users\\pandi\\anaconda3\\lib\\site-packages\\scipy\\stats\\_stats_py.py:1214: RuntimeWarning: divide by zero encountered in divide\n",
      "  var *= np.divide(n, n-ddof)  # to avoid error on division by zero\n",
      "C:\\Users\\pandi\\anaconda3\\lib\\site-packages\\scipy\\stats\\_stats_py.py:1214: RuntimeWarning: invalid value encountered in scalar multiply\n",
      "  var *= np.divide(n, n-ddof)  # to avoid error on division by zero\n"
     ]
    }
   ],
   "source": [
    "tset, pval = ttest_1samp(diesel_mean, 6.2)\n",
    "print(\"p-values\",pval)\n",
    "if pval < 0.05:    # alpha value is 0.05 or 5%\n",
    "   print(\" we are rejecting null hypothesis\")\n",
    "else:\n",
    "  print(\"we are accepting null hypothesis\")"
   ]
  },
  {
   "cell_type": "markdown",
   "metadata": {},
   "source": [
    "<h2>One Sample T-Test</h2>"
   ]
  },
  {
   "cell_type": "code",
   "execution_count": 21,
   "metadata": {},
   "outputs": [
    {
     "name": "stdout",
     "output_type": "stream",
     "text": [
      "######################\n",
      "One Sample T-test\n",
      "######################\n",
      "Statistic: 0.02\n",
      "p-value: 0.99\n"
     ]
    }
   ],
   "source": [
    "import scipy.stats as stats\n",
    "import pandas as pd\n",
    "print(\"######################\")\n",
    "print(\"One Sample T-test\")\n",
    "print(\"######################\")\n",
    "t_statistic, p_value = stats.ttest_1samp(a=df_diesel_price[\"Diesel price\"], popmean=6.2)\n",
    "print(\"Statistic:\",round(t_statistic,2))\n",
    "print(\"p-value:\",round(p_value,2))"
   ]
  },
  {
   "cell_type": "markdown",
   "metadata": {},
   "source": [
    "As the p_value for the given data sample is more than 0.05 \n",
    "So,we accept the null hypothesis and the alternative hypothesis is rejected."
   ]
  },
  {
   "cell_type": "markdown",
   "metadata": {},
   "source": [
    "<h2>Two-Sample T-Test</h2>"
   ]
  },
  {
   "cell_type": "code",
   "execution_count": 22,
   "metadata": {},
   "outputs": [
    {
     "name": "stdout",
     "output_type": "stream",
     "text": [
      "###############################\n",
      "Mean for price set 1 and 2\n",
      "###############################\n",
      "5.158888888888889\n",
      "7.487857142857142\n",
      "\n",
      "\n",
      "###############################\n",
      "Two-Sample T-Test\n",
      "###############################\n"
     ]
    },
    {
     "data": {
      "text/plain": [
       "Ttest_indResult(statistic=-5.684148079534916, pvalue=3.38088331693646e-06)"
      ]
     },
     "execution_count": 22,
     "metadata": {},
     "output_type": "execute_result"
    }
   ],
   "source": [
    "import scipy.stats as stats\n",
    "df_diesel_price_set1 = np.array([5,6,5.6,5.12,5.1,5.34,5.45,4,6.17,4.6,3.2,5.13,4.99,5.2,6.08,5.95,5.13,4.8])\n",
    "df_diesel_price_set2  = np.array([5.1,5.67,5.98,6.04,6.89,7.37,7.85,8.64,9.59,9.11,9.27,9.36,7.69,6.27])\n",
    "print(\"###############################\")\n",
    "print(\"Mean for price set 1 and 2\")\n",
    "print(\"###############################\")\n",
    "print(np.mean(df_diesel_price_set1))\n",
    "print(np.mean(df_diesel_price_set2))\n",
    "print(\"\\n\\n###############################\")\n",
    "print(\"Two-Sample T-Test\")\n",
    "print(\"###############################\")\n",
    "stats.ttest_ind(a=df_diesel_price_set1, b=df_diesel_price_set2, equal_var=True)"
   ]
  },
  {
   "cell_type": "markdown",
   "metadata": {},
   "source": [
    "Two sample t-test has the following hypothesis:\n",
    "\n",
    "H(0) => µ1 = µ2 (Mean of set1 is equal to set2)\n",
    "\n",
    "H(A) => µ1 ≠µ2 (Mean of set1 is NOT equal to set)\n",
    "\n",
    "Here, since the p-value (3.38088) is greater than alpha = 0.05 \n",
    "and mean not equal so we cannot reject the null hypothesis. \n"
   ]
  },
  {
   "cell_type": "markdown",
   "metadata": {},
   "source": [
    "<h2> one-sample Z test "
   ]
  },
  {
   "cell_type": "code",
   "execution_count": 23,
   "metadata": {},
   "outputs": [
    {
     "name": "stdout",
     "output_type": "stream",
     "text": [
      "#######################\n",
      "   One-sample Z test   \n",
      "#######################\n",
      "0.9853542637672824\n",
      "p-value >0.05 \n",
      "Accept null hypothesis\n"
     ]
    }
   ],
   "source": [
    "import pandas as pd\n",
    "from scipy import stats\n",
    "from statsmodels.stats import weightstats as stests\n",
    "ztest ,pval = stests.ztest(df_diesel_price[\"Diesel price\"], x2=None, value=6.2)\n",
    "print(\"#######################\")\n",
    "print(\"   One-sample Z test   \")\n",
    "print(\"#######################\")\n",
    "print(float(pval))\n",
    "if pval<0.05:\n",
    "    print(\"p-value <0.05 \\nReject null hypothesis\")\n",
    "else:\n",
    "    print(\"p-value >0.05 \\nAccept null hypothesis\")"
   ]
  },
  {
   "cell_type": "code",
   "execution_count": 24,
   "metadata": {},
   "outputs": [
    {
     "name": "stdout",
     "output_type": "stream",
     "text": [
      "#######################\n",
      "   Two-sample Z test   \n",
      "#######################\n",
      "1.3146633287005285e-08\n",
      "p-value >0.05\n",
      "Accept null hypothesis\n"
     ]
    }
   ],
   "source": [
    "ztest ,pval1 = stests.ztest(df_diesel_price_set1, x2=df_diesel_price_set2, value=0,alternative='two-sided')\n",
    "print(\"#######################\")\n",
    "print(\"   Two-sample Z test   \")\n",
    "print(\"#######################\")\n",
    "print(float(pval1))\n",
    "if pval<0.05:\n",
    "    print(\"p-value <0.05 \\nReject null hypothesis\")\n",
    "else:\n",
    "    print(\"p-value >0.05\\nAccept null hypothesis\")"
   ]
  },
  {
   "cell_type": "code",
   "execution_count": 25,
   "metadata": {},
   "outputs": [
    {
     "name": "stdout",
     "output_type": "stream",
     "text": [
      "#########################\n",
      " The variance  of set 1 and 2\n",
      "#########################\n",
      "0.5110987654320989\n",
      "2.175831122448979\n",
      "\n",
      "#######################\n",
      "   F test   \n",
      "#######################\n",
      "0.9971210073821054\n",
      "p-value >0.05\n",
      "Accept null hypothesis\n"
     ]
    }
   ],
   "source": [
    "import numpy as np\n",
    "import scipy.stats\n",
    "\n",
    "print(\"#########################\")\n",
    "print(\" The variance  of set 1 and 2\")\n",
    "print(\"#########################\")\n",
    "\n",
    "print(np.var(df_diesel_price_set1))\n",
    "print(np.var(df_diesel_price_set2))\n",
    "\n",
    "f_test = np.var(df_diesel_price_set1, ddof=1)/np.var(df_diesel_price_set2, ddof=1)\n",
    "nun = np.array(df_diesel_price_set1).size-1\n",
    "dun = np.array(df_diesel_price_set2).size-1\n",
    "p_value = 1-scipy.stats.f.cdf(f_test, nun, dun)\n",
    "print(\"\\n#######################\")\n",
    "print(\"   F test   \")\n",
    "print(\"#######################\")\n",
    "print(float(p_value))\n",
    "if p_value<0.05:\n",
    "    print(\"p-value <0.05 \\nReject null hypothesis\")\n",
    "else:\n",
    "    print(\"p-value >0.05\\nAccept null hypothesis\")"
   ]
  },
  {
   "cell_type": "code",
   "execution_count": null,
   "metadata": {},
   "outputs": [],
   "source": []
  },
  {
   "cell_type": "code",
   "execution_count": 30,
   "metadata": {},
   "outputs": [
    {
     "name": "stdout",
     "output_type": "stream",
     "text": [
      "###############################\n",
      "      Mean for all 4 sets     \n",
      "###############################\n",
      "5.308888888888889\n",
      "5.0088888888888885\n",
      "5.387142857142857\n",
      "8.638333333333334\n",
      "\n",
      "\n",
      "#########################\n",
      "The one-way ANOVA Test\n",
      "#########################\n"
     ]
    },
    {
     "data": {
      "text/plain": [
       "F_onewayResult(statistic=32.931723147830255, pvalue=3.6217439172213854e-09)"
      ]
     },
     "execution_count": 30,
     "metadata": {},
     "output_type": "execute_result"
    }
   ],
   "source": [
    "# Importing library\n",
    "from scipy.stats import f_oneway\n",
    "\n",
    "df_diesel_price_set1 = np.array([5,6,5.6,5.12,5.1,5.34,5.45,4,6.17])\n",
    "df_diesel_price_set2 = np.array([4.6,3.2,5.13,4.99,5.2,6.08,5.95,5.13,4.8])\n",
    "df_diesel_price_set3  = np.array([5.1,5.67,5.98,5.34,5.45,4,6.17])\n",
    "df_diesel_price_set4 = np.array([7.37,7.85,8.64,9.59,9.11,9.27])\n",
    "\n",
    "print(\"###############################\")\n",
    "print(\"      Mean for all 4 sets     \")\n",
    "print(\"###############################\")\n",
    "print(np.mean(df_diesel_price_set1))\n",
    "print(np.mean(df_diesel_price_set2))\n",
    "print(np.mean(df_diesel_price_set3))\n",
    "print(np.mean(df_diesel_price_set4))\n",
    "\n",
    "\n",
    "print(\"\\n\\n#########################\")\n",
    "print(\"The one-way ANOVA Test\")\n",
    "print(\"#########################\")\n",
    "f_oneway(df_diesel_price_set1, df_diesel_price_set2, df_diesel_price_set3, df_diesel_price_set4)\n"
   ]
  },
  {
   "cell_type": "code",
   "execution_count": null,
   "metadata": {},
   "outputs": [],
   "source": [
    "the p-value is greater than 0.05 hence we would accept null hypothesis. "
   ]
  },
  {
   "cell_type": "code",
   "execution_count": 37,
   "metadata": {},
   "outputs": [
    {
     "name": "stdout",
     "output_type": "stream",
     "text": [
      "##################################################\n",
      "Box-Cox Transformation Implementation (Lamda -1)  \n",
      "#################################################\n"
     ]
    },
    {
     "data": {
      "image/png": "[encoded data removed]",
      "text/plain": [
       "<Figure size 432x288 with 2 Axes>"
      ]
     },
     "metadata": {
      "needs_background": "light"
     },
     "output_type": "display_data"
    }
   ],
   "source": [
    "print(\"##################################################\")\n",
    "print(\"Box-Cox Transformation Implementation (Lamda -1)  \")\n",
    "print(\"#################################################\")\n",
    "df_diesel_price[\"Diesel price\"] = boxcox(df_diesel_price[\"Diesel price\"], lmbda=-1)\n",
    "pyplot.figure(1)\n",
    "pyplot.subplot(211)\n",
    "pyplot.plot(df_diesel_price[\"Diesel price\"] )\n",
    "pyplot.subplot(212)\n",
    "pyplot.hist(df_diesel_price[\"Diesel price\"] )\n",
    "pyplot.show()"
   ]
  },
  {
   "cell_type": "code",
   "execution_count": 41,
   "metadata": {},
   "outputs": [
    {
     "name": "stdout",
     "output_type": "stream",
     "text": [
      "#####################################################\n",
      "Box-Cox Transformation Implementation (Lamda -0.5)   \n",
      "#####################################################\n"
     ]
    },
    {
     "data": {
      "image/png": "[encoded data removed]",
      "text/plain": [
       "<Figure size 432x288 with 2 Axes>"
      ]
     },
     "metadata": {
      "needs_background": "light"
     },
     "output_type": "display_data"
    }
   ],
   "source": [
    "print(\"#####################################################\")\n",
    "print(\"Box-Cox Transformation Implementation (Lamda -0.5)   \")\n",
    "print(\"#####################################################\")\n",
    "df_diesel_price[\"Diesel price\"] = boxcox(df_diesel_price[\"Diesel price\"], lmbda=-0.5)\n",
    "pyplot.figure(1)\n",
    "pyplot.subplot(211)\n",
    "pyplot.plot(df_diesel_price[\"Diesel price\"] )\n",
    "pyplot.subplot(212)\n",
    "pyplot.hist(df_diesel_price[\"Diesel price\"] )\n",
    "pyplot.show()"
   ]
  },
  {
   "cell_type": "code",
   "execution_count": 46,
   "metadata": {},
   "outputs": [
    {
     "name": "stdout",
     "output_type": "stream",
     "text": [
      "#####################################################\n",
      "Box-Cox Transformation Implementation (Lamda 0.0    \n",
      "#####################################################\n"
     ]
    },
    {
     "data": {
      "image/png": "[encoded data removed]",
      "text/plain": [
       "<Figure size 432x288 with 2 Axes>"
      ]
     },
     "metadata": {
      "needs_background": "light"
     },
     "output_type": "display_data"
    }
   ],
   "source": [
    "from scipy.stats import boxcox\n",
    "from matplotlib import pyplot\n",
    "print(\"#####################################################\")\n",
    "print(\"Box-Cox Transformation Implementation (Lamda 0.0    \")\n",
    "print(\"#####################################################\")\n",
    "df_diesel_price[\"Diesel price\"] = boxcox(df_diesel_price[\"Diesel price\"], lmbda=0.0)\n",
    "pyplot.figure(1)\n",
    "# line plot\n",
    "pyplot.subplot(211)\n",
    "pyplot.plot(df_diesel_price[\"Diesel price\"] )\n",
    "# histogram\n",
    "pyplot.subplot(212)\n",
    "pyplot.hist(df_diesel_price[\"Diesel price\"] )\n",
    "pyplot.show()"
   ]
  },
  {
   "cell_type": "code",
   "execution_count": 47,
   "metadata": {},
   "outputs": [
    {
     "name": "stdout",
     "output_type": "stream",
     "text": [
      "##################################################\n",
      "Box-Cox Transformation Implementation (Lamda 0.5)  \n",
      "#################################################\n"
     ]
    },
    {
     "data": {
      "image/png": "[encoded data removed]",
      "text/plain": [
       "<Figure size 432x288 with 2 Axes>"
      ]
     },
     "metadata": {
      "needs_background": "light"
     },
     "output_type": "display_data"
    }
   ],
   "source": [
    "print(\"##################################################\")\n",
    "print(\"Box-Cox Transformation Implementation (Lamda 0.5)  \")\n",
    "print(\"#################################################\")\n",
    "df_diesel_price[\"Diesel price\"] = boxcox(df_diesel_price[\"Diesel price\"], lmbda=0.5)\n",
    "pyplot.figure(1)\n",
    "pyplot.subplot(211)\n",
    "pyplot.plot(df_diesel_price[\"Diesel price\"] )\n",
    "pyplot.subplot(212)\n",
    "pyplot.hist(df_diesel_price[\"Diesel price\"] )\n",
    "pyplot.show()"
   ]
  },
  {
   "cell_type": "code",
   "execution_count": 48,
   "metadata": {},
   "outputs": [
    {
     "name": "stdout",
     "output_type": "stream",
     "text": [
      "##################################################\n",
      "Box-Cox Transformation Implementation (Lamda 1.0)  \n",
      "#################################################\n"
     ]
    },
    {
     "data": {
      "image/png": "[encoded data removed]",
      "text/plain": [
       "<Figure size 432x288 with 2 Axes>"
      ]
     },
     "metadata": {
      "needs_background": "light"
     },
     "output_type": "display_data"
    }
   ],
   "source": [
    "print(\"##################################################\")\n",
    "print(\"Box-Cox Transformation Implementation (Lamda 1.0)  \")\n",
    "print(\"#################################################\")\n",
    "df_diesel_price[\"Diesel price\"] = boxcox(df_diesel_price[\"Diesel price\"], lmbda=1.0)\n",
    "pyplot.figure(1)\n",
    "pyplot.subplot(211)\n",
    "pyplot.plot(df_diesel_price[\"Diesel price\"] )\n",
    "pyplot.subplot(212)\n",
    "pyplot.hist(df_diesel_price[\"Diesel price\"] )\n",
    "pyplot.show()"
   ]
  },
  {
   "cell_type": "code",
   "execution_count": null,
   "metadata": {},
   "outputs": [],
   "source": []
  }
 ],
 "metadata": {
  "kernelspec": {
   "display_name": "Python 3",
   "language": "python",
   "name": "python3"
  },
  "language_info": {
   "codemirror_mode": {
    "name": "ipython",
    "version": 3
   },
   "file_extension": ".py",
   "mimetype": "text/x-python",
   "name": "python",
   "nbconvert_exporter": "python",
   "pygments_lexer": "ipython3",
   "version": "3.8.3"
  }
 },
 "nbformat": 4,
 "nbformat_minor": 4
}
