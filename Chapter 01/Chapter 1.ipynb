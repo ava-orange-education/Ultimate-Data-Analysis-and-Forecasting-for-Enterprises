{
 "cells": [
  {
   "cell_type": "markdown",
   "metadata": {},
   "source": [
    "Chapter 1: [Introduction to Python and its key packages for DS and ML Projects] "
   ]
  },
  {
   "cell_type": "markdown",
   "metadata": {},
   "source": [
    "How to building series"
   ]
  },
  {
   "cell_type": "code",
   "execution_count": 3,
   "metadata": {},
   "outputs": [
    {
     "data": {
      "text/plain": [
       "1         C\n",
       "2       C++\n",
       "3      Java\n",
       "4    Python\n",
       "dtype: object"
      ]
     },
     "execution_count": 3,
     "metadata": {},
     "output_type": "execute_result"
    }
   ],
   "source": [
    "import pandas as pd \n",
    "series_dict={1:\"C\",2:\"C++\",3:\"Java\",4:\"Python\"}\n",
    "series_obj=pd.Series(series_dict)\n",
    "series_obj "
   ]
  },
  {
   "cell_type": "markdown",
   "metadata": {},
   "source": [
    "How to build dataframe"
   ]
  },
  {
   "cell_type": "code",
   "execution_count": 4,
   "metadata": {},
   "outputs": [
    {
     "data": {
      "text/html": [
       "<div>\n",
       "<style scoped>\n",
       "    .dataframe tbody tr th:only-of-type {\n",
       "        vertical-align: middle;\n",
       "    }\n",
       "\n",
       "    .dataframe tbody tr th {\n",
       "        vertical-align: top;\n",
       "    }\n",
       "\n",
       "    .dataframe thead th {\n",
       "        text-align: right;\n",
       "    }\n",
       "</style>\n",
       "<table border=\"1\" class=\"dataframe\">\n",
       "  <thead>\n",
       "    <tr style=\"text-align: right;\">\n",
       "      <th></th>\n",
       "      <th>Eno</th>\n",
       "      <th>Empname</th>\n",
       "    </tr>\n",
       "  </thead>\n",
       "  <tbody>\n",
       "    <tr>\n",
       "      <th>0</th>\n",
       "      <td>100</td>\n",
       "      <td>John</td>\n",
       "    </tr>\n",
       "    <tr>\n",
       "      <th>1</th>\n",
       "      <td>101</td>\n",
       "      <td>Peter</td>\n",
       "    </tr>\n",
       "    <tr>\n",
       "      <th>2</th>\n",
       "      <td>102</td>\n",
       "      <td>Julia</td>\n",
       "    </tr>\n",
       "    <tr>\n",
       "      <th>3</th>\n",
       "      <td>103</td>\n",
       "      <td>Bell</td>\n",
       "    </tr>\n",
       "    <tr>\n",
       "      <th>4</th>\n",
       "      <td>104</td>\n",
       "      <td>Andrew</td>\n",
       "    </tr>\n",
       "    <tr>\n",
       "      <th>5</th>\n",
       "      <td>105</td>\n",
       "      <td>Shantha</td>\n",
       "    </tr>\n",
       "  </tbody>\n",
       "</table>\n",
       "</div>"
      ],
      "text/plain": [
       "   Eno  Empname\n",
       "0  100     John\n",
       "1  101    Peter\n",
       "2  102    Julia\n",
       "3  103     Bell\n",
       "4  104   Andrew\n",
       "5  105  Shantha"
      ]
     },
     "execution_count": 4,
     "metadata": {},
     "output_type": "execute_result"
    }
   ],
   "source": [
    "import pandas as pd\n",
    "Eno=[100, 101,102, 103, 104,105]\n",
    "Empname=[\"John\",\"Peter\",\"Julia\",\"Bell\",\"Andrew\",\"Shantha\"]\n",
    "Eno_Series = pd.Series(Eno)\n",
    "Empname_Series = pd.Series(Empname)\n",
    "df = {\"Eno\": Eno_Series, \"Empname\": Empname_Series }\n",
    "employee = pd.DataFrame(df)\n",
    "employee"
   ]
  },
  {
   "cell_type": "code",
   "execution_count": 5,
   "metadata": {},
   "outputs": [
    {
     "name": "stdout",
     "output_type": "stream",
     "text": [
      "   IPL Team  Year  Points\n",
      "0       CSK  2021      23\n",
      "1       RCB  2021      43\n",
      "2       KKR  2021      45\n",
      "3        MI  2021      65\n",
      "4       SRH  2021      76\n",
      "5        PK  2021      34\n",
      "6        RR  2021      23\n",
      "7        DC  2021      78\n",
      "8       CSK  2022      89\n",
      "9       RCB  2022      76\n",
      "10      KKR  2022      92\n",
      "11      MIS  2022      87\n",
      "12      SRH  2022      50\n",
      "13       PK  2022      45\n",
      "14       RR  2022      67\n",
      "15       DC  2022      89\n"
     ]
    }
   ],
   "source": [
    "import pandas as pd\n",
    "import numpy as np\n",
    "#building the Dataframe\n",
    "IPL_Team = {\"IPL Team\": [\"CSK\", \"RCB\", \"KKR\", \"MI\", \"SRH\",\n",
    "\"PK\", \"RR\", \"DC\", \"CSK\", \"RCB\", \"KKR\", \"MIS\", \"SRH\",\"PK\", \"RR\", \"DC\"],\n",
    "\"Year\":[2021,2021,2021,2021,2021,2021,2021,2021,2022,2022,2022,2022,2022,2022,2022,2022],\n",
    "\"Points\":[23,43,45,65,76,34,23,78,89,76,92,87,50,45,67,89]}\n",
    "IPL_Team_df = pd.DataFrame(IPL_Team)\n",
    "print(IPL_Team_df)"
   ]
  },
  {
   "cell_type": "code",
   "execution_count": 11,
   "metadata": {},
   "outputs": [
    {
     "data": {
      "text/html": [
       "<div>\n",
       "<style scoped>\n",
       "    .dataframe tbody tr th:only-of-type {\n",
       "        vertical-align: middle;\n",
       "    }\n",
       "\n",
       "    .dataframe tbody tr th {\n",
       "        vertical-align: top;\n",
       "    }\n",
       "\n",
       "    .dataframe thead th {\n",
       "        text-align: right;\n",
       "    }\n",
       "</style>\n",
       "<table border=\"1\" class=\"dataframe\">\n",
       "  <thead>\n",
       "    <tr style=\"text-align: right;\">\n",
       "      <th></th>\n",
       "      <th>IPL Team</th>\n",
       "      <th>Year</th>\n",
       "      <th>Points</th>\n",
       "    </tr>\n",
       "  </thead>\n",
       "  <tbody>\n",
       "    <tr>\n",
       "      <th>0</th>\n",
       "      <td>CSK</td>\n",
       "      <td>2021</td>\n",
       "      <td>23</td>\n",
       "    </tr>\n",
       "    <tr>\n",
       "      <th>1</th>\n",
       "      <td>RCB</td>\n",
       "      <td>2021</td>\n",
       "      <td>43</td>\n",
       "    </tr>\n",
       "    <tr>\n",
       "      <th>2</th>\n",
       "      <td>KKR</td>\n",
       "      <td>2021</td>\n",
       "      <td>45</td>\n",
       "    </tr>\n",
       "    <tr>\n",
       "      <th>3</th>\n",
       "      <td>MI</td>\n",
       "      <td>2021</td>\n",
       "      <td>65</td>\n",
       "    </tr>\n",
       "    <tr>\n",
       "      <th>4</th>\n",
       "      <td>SRH</td>\n",
       "      <td>2021</td>\n",
       "      <td>76</td>\n",
       "    </tr>\n",
       "    <tr>\n",
       "      <th>5</th>\n",
       "      <td>PK</td>\n",
       "      <td>2021</td>\n",
       "      <td>34</td>\n",
       "    </tr>\n",
       "    <tr>\n",
       "      <th>6</th>\n",
       "      <td>RR</td>\n",
       "      <td>2021</td>\n",
       "      <td>23</td>\n",
       "    </tr>\n",
       "    <tr>\n",
       "      <th>7</th>\n",
       "      <td>DC</td>\n",
       "      <td>2021</td>\n",
       "      <td>78</td>\n",
       "    </tr>\n",
       "    <tr>\n",
       "      <th>8</th>\n",
       "      <td>CSK</td>\n",
       "      <td>2022</td>\n",
       "      <td>89</td>\n",
       "    </tr>\n",
       "    <tr>\n",
       "      <th>9</th>\n",
       "      <td>RCB</td>\n",
       "      <td>2022</td>\n",
       "      <td>76</td>\n",
       "    </tr>\n",
       "  </tbody>\n",
       "</table>\n",
       "</div>"
      ],
      "text/plain": [
       "  IPL Team  Year  Points\n",
       "0      CSK  2021      23\n",
       "1      RCB  2021      43\n",
       "2      KKR  2021      45\n",
       "3       MI  2021      65\n",
       "4      SRH  2021      76\n",
       "5       PK  2021      34\n",
       "6       RR  2021      23\n",
       "7       DC  2021      78\n",
       "8      CSK  2022      89\n",
       "9      RCB  2022      76"
      ]
     },
     "execution_count": 11,
     "metadata": {},
     "output_type": "execute_result"
    }
   ],
   "source": [
    "IPL_Team_df.head(10)"
   ]
  },
  {
   "cell_type": "code",
   "execution_count": 13,
   "metadata": {},
   "outputs": [
    {
     "name": "stdout",
     "output_type": "stream",
     "text": [
      "—–CSK—–\n",
      "  IPL Team  Year  Points\n",
      "0      CSK  2021      23\n",
      "8      CSK  2022      89\n",
      "—–DC—–\n",
      "   IPL Team  Year  Points\n",
      "7        DC  2021      78\n",
      "15       DC  2022      89\n",
      "—–KKR—–\n",
      "   IPL Team  Year  Points\n",
      "2       KKR  2021      45\n",
      "10      KKR  2022      92\n",
      "—–MI—–\n",
      "  IPL Team  Year  Points\n",
      "3       MI  2021      65\n",
      "—–MIS—–\n",
      "   IPL Team  Year  Points\n",
      "11      MIS  2022      87\n",
      "—–PK—–\n",
      "   IPL Team  Year  Points\n",
      "5        PK  2021      34\n",
      "13       PK  2022      45\n",
      "—–RCB—–\n",
      "  IPL Team  Year  Points\n",
      "1      RCB  2021      43\n",
      "9      RCB  2022      76\n",
      "—–RR—–\n",
      "   IPL Team  Year  Points\n",
      "6        RR  2021      23\n",
      "14       RR  2022      67\n",
      "—–SRH—–\n",
      "   IPL Team  Year  Points\n",
      "4       SRH  2021      76\n",
      "12      SRH  2022      50\n",
      "\n"
     ]
    }
   ],
   "source": [
    "groups_df = IPL_Team_df.groupby(\"IPL Team\")\n",
    "for Team, group in groups_df:\n",
    "    print(\"—–{}—–\".format(Team))\n",
    "    print(group)\n",
    "print(\"\")"
   ]
  },
  {
   "cell_type": "code",
   "execution_count": 14,
   "metadata": {},
   "outputs": [
    {
     "data": {
      "text/html": [
       "<div>\n",
       "<style scoped>\n",
       "    .dataframe tbody tr th:only-of-type {\n",
       "        vertical-align: middle;\n",
       "    }\n",
       "\n",
       "    .dataframe tbody tr th {\n",
       "        vertical-align: top;\n",
       "    }\n",
       "\n",
       "    .dataframe thead th {\n",
       "        text-align: right;\n",
       "    }\n",
       "</style>\n",
       "<table border=\"1\" class=\"dataframe\">\n",
       "  <thead>\n",
       "    <tr style=\"text-align: right;\">\n",
       "      <th></th>\n",
       "      <th>0</th>\n",
       "      <th>1</th>\n",
       "      <th>2</th>\n",
       "      <th>3</th>\n",
       "      <th>4</th>\n",
       "      <th>5</th>\n",
       "      <th>6</th>\n",
       "      <th>7</th>\n",
       "      <th>8</th>\n",
       "      <th>9</th>\n",
       "      <th>10</th>\n",
       "      <th>11</th>\n",
       "      <th>12</th>\n",
       "      <th>13</th>\n",
       "      <th>14</th>\n",
       "      <th>15</th>\n",
       "    </tr>\n",
       "  </thead>\n",
       "  <tbody>\n",
       "    <tr>\n",
       "      <th>IPL Team</th>\n",
       "      <td>CSK</td>\n",
       "      <td>RCB</td>\n",
       "      <td>KKR</td>\n",
       "      <td>MI</td>\n",
       "      <td>SRH</td>\n",
       "      <td>PK</td>\n",
       "      <td>RR</td>\n",
       "      <td>DC</td>\n",
       "      <td>CSK</td>\n",
       "      <td>RCB</td>\n",
       "      <td>KKR</td>\n",
       "      <td>MIS</td>\n",
       "      <td>SRH</td>\n",
       "      <td>PK</td>\n",
       "      <td>RR</td>\n",
       "      <td>DC</td>\n",
       "    </tr>\n",
       "    <tr>\n",
       "      <th>Year</th>\n",
       "      <td>2021</td>\n",
       "      <td>2021</td>\n",
       "      <td>2021</td>\n",
       "      <td>2021</td>\n",
       "      <td>2021</td>\n",
       "      <td>2021</td>\n",
       "      <td>2021</td>\n",
       "      <td>2021</td>\n",
       "      <td>2022</td>\n",
       "      <td>2022</td>\n",
       "      <td>2022</td>\n",
       "      <td>2022</td>\n",
       "      <td>2022</td>\n",
       "      <td>2022</td>\n",
       "      <td>2022</td>\n",
       "      <td>2022</td>\n",
       "    </tr>\n",
       "    <tr>\n",
       "      <th>Points</th>\n",
       "      <td>23</td>\n",
       "      <td>43</td>\n",
       "      <td>45</td>\n",
       "      <td>65</td>\n",
       "      <td>76</td>\n",
       "      <td>34</td>\n",
       "      <td>23</td>\n",
       "      <td>78</td>\n",
       "      <td>89</td>\n",
       "      <td>76</td>\n",
       "      <td>92</td>\n",
       "      <td>87</td>\n",
       "      <td>50</td>\n",
       "      <td>45</td>\n",
       "      <td>67</td>\n",
       "      <td>89</td>\n",
       "    </tr>\n",
       "  </tbody>\n",
       "</table>\n",
       "</div>"
      ],
      "text/plain": [
       "             0     1     2     3     4     5     6     7     8     9    10  \\\n",
       "IPL Team   CSK   RCB   KKR    MI   SRH    PK    RR    DC   CSK   RCB   KKR   \n",
       "Year      2021  2021  2021  2021  2021  2021  2021  2021  2022  2022  2022   \n",
       "Points      23    43    45    65    76    34    23    78    89    76    92   \n",
       "\n",
       "            11    12    13    14    15  \n",
       "IPL Team   MIS   SRH    PK    RR    DC  \n",
       "Year      2022  2022  2022  2022  2022  \n",
       "Points      87    50    45    67    89  "
      ]
     },
     "execution_count": 14,
     "metadata": {},
     "output_type": "execute_result"
    }
   ],
   "source": [
    "IPL_Team__Tran_df=IPL_Team_df.T\n",
    "IPL_Team__Tran_df.head(3)\n",
    "#print(IPL_Team__Tran_df)\n"
   ]
  },
  {
   "cell_type": "code",
   "execution_count": 8,
   "metadata": {},
   "outputs": [
    {
     "data": {
      "text/plain": [
       "0  IPL Team     CSK\n",
       "   Year        2021\n",
       "   Points        23\n",
       "1  IPL Team     RCB\n",
       "   Year        2021\n",
       "dtype: object"
      ]
     },
     "execution_count": 8,
     "metadata": {},
     "output_type": "execute_result"
    }
   ],
   "source": [
    "IPL_Team_stack_df = IPL_Team_df.stack()\n",
    "IPL_Team_stack_df.head(5)"
   ]
  },
  {
   "cell_type": "code",
   "execution_count": 7,
   "metadata": {},
   "outputs": [
    {
     "data": {
      "text/plain": [
       "IPL Team  0    CSK\n",
       "          1    RCB\n",
       "          2    KKR\n",
       "          3     MI\n",
       "          4    SRH\n",
       "dtype: object"
      ]
     },
     "execution_count": 7,
     "metadata": {},
     "output_type": "execute_result"
    }
   ],
   "source": [
    "IPL_Team_stack_df = IPL_Team_df.unstack()\n",
    "IPL_Team_stack_df.head(5)"
   ]
  },
  {
   "cell_type": "code",
   "execution_count": 13,
   "metadata": {},
   "outputs": [
    {
     "data": {
      "text/html": [
       "<div>\n",
       "<style scoped>\n",
       "    .dataframe tbody tr th:only-of-type {\n",
       "        vertical-align: middle;\n",
       "    }\n",
       "\n",
       "    .dataframe tbody tr th {\n",
       "        vertical-align: top;\n",
       "    }\n",
       "\n",
       "    .dataframe thead th {\n",
       "        text-align: right;\n",
       "    }\n",
       "</style>\n",
       "<table border=\"1\" class=\"dataframe\">\n",
       "  <thead>\n",
       "    <tr style=\"text-align: right;\">\n",
       "      <th></th>\n",
       "      <th></th>\n",
       "      <th>Year</th>\n",
       "    </tr>\n",
       "    <tr>\n",
       "      <th>IPL Team</th>\n",
       "      <th>Points</th>\n",
       "      <th></th>\n",
       "    </tr>\n",
       "  </thead>\n",
       "  <tbody>\n",
       "    <tr>\n",
       "      <th rowspan=\"2\" valign=\"top\">CSK</th>\n",
       "      <th>23</th>\n",
       "      <td>2021</td>\n",
       "    </tr>\n",
       "    <tr>\n",
       "      <th>89</th>\n",
       "      <td>2022</td>\n",
       "    </tr>\n",
       "    <tr>\n",
       "      <th rowspan=\"2\" valign=\"top\">DC</th>\n",
       "      <th>78</th>\n",
       "      <td>2021</td>\n",
       "    </tr>\n",
       "    <tr>\n",
       "      <th>89</th>\n",
       "      <td>2022</td>\n",
       "    </tr>\n",
       "    <tr>\n",
       "      <th>KKR</th>\n",
       "      <th>45</th>\n",
       "      <td>2021</td>\n",
       "    </tr>\n",
       "  </tbody>\n",
       "</table>\n",
       "</div>"
      ],
      "text/plain": [
       "                 Year\n",
       "IPL Team Points      \n",
       "CSK      23      2021\n",
       "         89      2022\n",
       "DC       78      2021\n",
       "         89      2022\n",
       "KKR      45      2021"
      ]
     },
     "execution_count": 13,
     "metadata": {},
     "output_type": "execute_result"
    }
   ],
   "source": [
    "IPL_Team_pivot_df=pd.pivot_table(IPL_Team_df,index =['IPL Team', 'Points'])\n",
    "IPL_Team_pivot_df.head(5)"
   ]
  },
  {
   "cell_type": "code",
   "execution_count": 74,
   "metadata": {},
   "outputs": [
    {
     "name": "stdout",
     "output_type": "stream",
     "text": [
      "  IPL Team  Points variable  value\n",
      "0      CSK      23     Year   2021\n",
      "1      RCB      43     Year   2021\n",
      "2      KKR      45     Year   2021\n",
      "3       MI      65     Year   2021\n",
      "4      SRH      76     Year   2021\n"
     ]
    }
   ],
   "source": [
    "IPL_Team_df_melt = IPL_Team_df.melt(id_vars =[\"IPL Team\", \"Points\"])\n",
    "print(IPL_Team_df_melt.head(5))\n"
   ]
  },
  {
   "cell_type": "code",
   "execution_count": 18,
   "metadata": {},
   "outputs": [
    {
     "data": {
      "text/html": [
       "<div>\n",
       "<style scoped>\n",
       "    .dataframe tbody tr th:only-of-type {\n",
       "        vertical-align: middle;\n",
       "    }\n",
       "\n",
       "    .dataframe tbody tr th {\n",
       "        vertical-align: top;\n",
       "    }\n",
       "\n",
       "    .dataframe thead th {\n",
       "        text-align: right;\n",
       "    }\n",
       "</style>\n",
       "<table border=\"1\" class=\"dataframe\">\n",
       "  <thead>\n",
       "    <tr style=\"text-align: right;\">\n",
       "      <th></th>\n",
       "      <th>Eno</th>\n",
       "      <th>Empname</th>\n",
       "    </tr>\n",
       "  </thead>\n",
       "  <tbody>\n",
       "    <tr>\n",
       "      <th>0</th>\n",
       "      <td>100</td>\n",
       "      <td>John</td>\n",
       "    </tr>\n",
       "    <tr>\n",
       "      <th>1</th>\n",
       "      <td>101</td>\n",
       "      <td>Peter</td>\n",
       "    </tr>\n",
       "    <tr>\n",
       "      <th>2</th>\n",
       "      <td>102</td>\n",
       "      <td>Julia</td>\n",
       "    </tr>\n",
       "    <tr>\n",
       "      <th>3</th>\n",
       "      <td>103</td>\n",
       "      <td>Bell</td>\n",
       "    </tr>\n",
       "    <tr>\n",
       "      <th>4</th>\n",
       "      <td>104</td>\n",
       "      <td>Andrew</td>\n",
       "    </tr>\n",
       "    <tr>\n",
       "      <th>5</th>\n",
       "      <td>105</td>\n",
       "      <td>Shantha</td>\n",
       "    </tr>\n",
       "  </tbody>\n",
       "</table>\n",
       "</div>"
      ],
      "text/plain": [
       "   Eno  Empname\n",
       "0  100     John\n",
       "1  101    Peter\n",
       "2  102    Julia\n",
       "3  103     Bell\n",
       "4  104   Andrew\n",
       "5  105  Shantha"
      ]
     },
     "execution_count": 18,
     "metadata": {},
     "output_type": "execute_result"
    }
   ],
   "source": [
    "#Dataframe -1\n",
    "import pandas as pd\n",
    "Eno=[100, 101,102, 103, 104,105]\n",
    "Empname= [\"John\",\"Peter\",\"Julia\",\"Bell\",\"Andrew\",\"Shantha\"]\n",
    "Eno_Series = pd.Series(Eno)\n",
    "Empname_Series = pd.Series(Empname)\n",
    "df = { \"Eno\": Eno_Series, \"Empname\": Empname_Series }\n",
    "employee1 = pd.DataFrame(df)\n",
    "employee1\n"
   ]
  },
  {
   "cell_type": "code",
   "execution_count": 19,
   "metadata": {},
   "outputs": [
    {
     "data": {
      "text/html": [
       "<div>\n",
       "<style scoped>\n",
       "    .dataframe tbody tr th:only-of-type {\n",
       "        vertical-align: middle;\n",
       "    }\n",
       "\n",
       "    .dataframe tbody tr th {\n",
       "        vertical-align: top;\n",
       "    }\n",
       "\n",
       "    .dataframe thead th {\n",
       "        text-align: right;\n",
       "    }\n",
       "</style>\n",
       "<table border=\"1\" class=\"dataframe\">\n",
       "  <thead>\n",
       "    <tr style=\"text-align: right;\">\n",
       "      <th></th>\n",
       "      <th>Eno</th>\n",
       "      <th>Empname</th>\n",
       "    </tr>\n",
       "  </thead>\n",
       "  <tbody>\n",
       "    <tr>\n",
       "      <th>0</th>\n",
       "      <td>106</td>\n",
       "      <td>James</td>\n",
       "    </tr>\n",
       "    <tr>\n",
       "      <th>1</th>\n",
       "      <td>107</td>\n",
       "      <td>John</td>\n",
       "    </tr>\n",
       "    <tr>\n",
       "      <th>2</th>\n",
       "      <td>108</td>\n",
       "      <td>Philp</td>\n",
       "    </tr>\n",
       "    <tr>\n",
       "      <th>3</th>\n",
       "      <td>109</td>\n",
       "      <td>David</td>\n",
       "    </tr>\n",
       "    <tr>\n",
       "      <th>4</th>\n",
       "      <td>110</td>\n",
       "      <td>Donald</td>\n",
       "    </tr>\n",
       "  </tbody>\n",
       "</table>\n",
       "</div>"
      ],
      "text/plain": [
       "   Eno Empname\n",
       "0  106   James\n",
       "1  107    John\n",
       "2  108   Philp\n",
       "3  109   David\n",
       "4  110  Donald"
      ]
     },
     "execution_count": 19,
     "metadata": {},
     "output_type": "execute_result"
    }
   ],
   "source": [
    "#Dataframe -2\n",
    "Eno1=[106, 107,108, 109, 110]\n",
    "Empname1= [\"James\", \"John\", \"Philp\",\"David\",\"Donald\"]\n",
    "Eno_Series1 = pd.Series(Eno1)\n",
    "Empname_Series1 = pd.Series(Empname1)\n",
    "df = { \"Eno\": Eno_Series1, \"Empname\": Empname_Series1 }\n",
    "employee2 = pd.DataFrame(df)\n",
    "employee2"
   ]
  },
  {
   "cell_type": "code",
   "execution_count": 75,
   "metadata": {},
   "outputs": [
    {
     "data": {
      "text/html": [
       "<div>\n",
       "<style scoped>\n",
       "    .dataframe tbody tr th:only-of-type {\n",
       "        vertical-align: middle;\n",
       "    }\n",
       "\n",
       "    .dataframe tbody tr th {\n",
       "        vertical-align: top;\n",
       "    }\n",
       "\n",
       "    .dataframe thead th {\n",
       "        text-align: right;\n",
       "    }\n",
       "</style>\n",
       "<table border=\"1\" class=\"dataframe\">\n",
       "  <thead>\n",
       "    <tr style=\"text-align: right;\">\n",
       "      <th></th>\n",
       "      <th>Eno</th>\n",
       "      <th>Empname</th>\n",
       "    </tr>\n",
       "  </thead>\n",
       "  <tbody>\n",
       "    <tr>\n",
       "      <th>0</th>\n",
       "      <td>100</td>\n",
       "      <td>John</td>\n",
       "    </tr>\n",
       "    <tr>\n",
       "      <th>1</th>\n",
       "      <td>101</td>\n",
       "      <td>Peter</td>\n",
       "    </tr>\n",
       "    <tr>\n",
       "      <th>2</th>\n",
       "      <td>102</td>\n",
       "      <td>Julia</td>\n",
       "    </tr>\n",
       "    <tr>\n",
       "      <th>3</th>\n",
       "      <td>103</td>\n",
       "      <td>Bell</td>\n",
       "    </tr>\n",
       "    <tr>\n",
       "      <th>4</th>\n",
       "      <td>104</td>\n",
       "      <td>Andrew</td>\n",
       "    </tr>\n",
       "    <tr>\n",
       "      <th>5</th>\n",
       "      <td>105</td>\n",
       "      <td>Shantha</td>\n",
       "    </tr>\n",
       "    <tr>\n",
       "      <th>6</th>\n",
       "      <td>106</td>\n",
       "      <td>James</td>\n",
       "    </tr>\n",
       "    <tr>\n",
       "      <th>7</th>\n",
       "      <td>107</td>\n",
       "      <td>John</td>\n",
       "    </tr>\n",
       "    <tr>\n",
       "      <th>8</th>\n",
       "      <td>108</td>\n",
       "      <td>Philp</td>\n",
       "    </tr>\n",
       "    <tr>\n",
       "      <th>9</th>\n",
       "      <td>109</td>\n",
       "      <td>David</td>\n",
       "    </tr>\n",
       "    <tr>\n",
       "      <th>10</th>\n",
       "      <td>110</td>\n",
       "      <td>Donald</td>\n",
       "    </tr>\n",
       "  </tbody>\n",
       "</table>\n",
       "</div>"
      ],
      "text/plain": [
       "    Eno  Empname\n",
       "0   100     John\n",
       "1   101    Peter\n",
       "2   102    Julia\n",
       "3   103     Bell\n",
       "4   104   Andrew\n",
       "5   105  Shantha\n",
       "6   106    James\n",
       "7   107     John\n",
       "8   108    Philp\n",
       "9   109    David\n",
       "10  110   Donald"
      ]
     },
     "execution_count": 75,
     "metadata": {},
     "output_type": "execute_result"
    }
   ],
   "source": [
    "#Concatenation Operation\n",
    "df_concat = pd.concat([employee1, employee2], ignore_index=True)\n",
    "df_concat"
   ]
  },
  {
   "cell_type": "code",
   "execution_count": 76,
   "metadata": {},
   "outputs": [
    {
     "data": {
      "text/html": [
       "<div>\n",
       "<style scoped>\n",
       "    .dataframe tbody tr th:only-of-type {\n",
       "        vertical-align: middle;\n",
       "    }\n",
       "\n",
       "    .dataframe tbody tr th {\n",
       "        vertical-align: top;\n",
       "    }\n",
       "\n",
       "    .dataframe thead th {\n",
       "        text-align: right;\n",
       "    }\n",
       "</style>\n",
       "<table border=\"1\" class=\"dataframe\">\n",
       "  <thead>\n",
       "    <tr style=\"text-align: right;\">\n",
       "      <th></th>\n",
       "      <th></th>\n",
       "      <th>Eno</th>\n",
       "      <th>Empname</th>\n",
       "    </tr>\n",
       "  </thead>\n",
       "  <tbody>\n",
       "    <tr>\n",
       "      <th rowspan=\"6\" valign=\"top\">Section-A</th>\n",
       "      <th>0</th>\n",
       "      <td>100</td>\n",
       "      <td>John</td>\n",
       "    </tr>\n",
       "    <tr>\n",
       "      <th>1</th>\n",
       "      <td>101</td>\n",
       "      <td>Peter</td>\n",
       "    </tr>\n",
       "    <tr>\n",
       "      <th>2</th>\n",
       "      <td>102</td>\n",
       "      <td>Julia</td>\n",
       "    </tr>\n",
       "    <tr>\n",
       "      <th>3</th>\n",
       "      <td>103</td>\n",
       "      <td>Bell</td>\n",
       "    </tr>\n",
       "    <tr>\n",
       "      <th>4</th>\n",
       "      <td>104</td>\n",
       "      <td>Andrew</td>\n",
       "    </tr>\n",
       "    <tr>\n",
       "      <th>5</th>\n",
       "      <td>105</td>\n",
       "      <td>Shantha</td>\n",
       "    </tr>\n",
       "    <tr>\n",
       "      <th rowspan=\"5\" valign=\"top\">Section-B</th>\n",
       "      <th>0</th>\n",
       "      <td>106</td>\n",
       "      <td>James</td>\n",
       "    </tr>\n",
       "    <tr>\n",
       "      <th>1</th>\n",
       "      <td>107</td>\n",
       "      <td>John</td>\n",
       "    </tr>\n",
       "    <tr>\n",
       "      <th>2</th>\n",
       "      <td>108</td>\n",
       "      <td>Philp</td>\n",
       "    </tr>\n",
       "    <tr>\n",
       "      <th>3</th>\n",
       "      <td>109</td>\n",
       "      <td>David</td>\n",
       "    </tr>\n",
       "    <tr>\n",
       "      <th>4</th>\n",
       "      <td>110</td>\n",
       "      <td>Donald</td>\n",
       "    </tr>\n",
       "  </tbody>\n",
       "</table>\n",
       "</div>"
      ],
      "text/plain": [
       "             Eno  Empname\n",
       "Section-A 0  100     John\n",
       "          1  101    Peter\n",
       "          2  102    Julia\n",
       "          3  103     Bell\n",
       "          4  104   Andrew\n",
       "          5  105  Shantha\n",
       "Section-B 0  106    James\n",
       "          1  107     John\n",
       "          2  108    Philp\n",
       "          3  109    David\n",
       "          4  110   Donald"
      ]
     },
     "execution_count": 76,
     "metadata": {},
     "output_type": "execute_result"
    }
   ],
   "source": [
    "frames_collection = [employee1,employee2]\n",
    "df_concat_keys = pd.concat(frames_collection, keys=[\"Section-A\", \"Section-B\"])\n",
    "df_concat_keys"
   ]
  },
  {
   "cell_type": "code",
   "execution_count": 22,
   "metadata": {},
   "outputs": [
    {
     "data": {
      "text/html": [
       "<div>\n",
       "<style scoped>\n",
       "    .dataframe tbody tr th:only-of-type {\n",
       "        vertical-align: middle;\n",
       "    }\n",
       "\n",
       "    .dataframe tbody tr th {\n",
       "        vertical-align: top;\n",
       "    }\n",
       "\n",
       "    .dataframe thead th {\n",
       "        text-align: right;\n",
       "    }\n",
       "</style>\n",
       "<table border=\"1\" class=\"dataframe\">\n",
       "  <thead>\n",
       "    <tr style=\"text-align: right;\">\n",
       "      <th></th>\n",
       "      <th>Eno</th>\n",
       "      <th>Empname</th>\n",
       "    </tr>\n",
       "  </thead>\n",
       "  <tbody>\n",
       "    <tr>\n",
       "      <th>0</th>\n",
       "      <td>106</td>\n",
       "      <td>James</td>\n",
       "    </tr>\n",
       "    <tr>\n",
       "      <th>1</th>\n",
       "      <td>107</td>\n",
       "      <td>John</td>\n",
       "    </tr>\n",
       "    <tr>\n",
       "      <th>2</th>\n",
       "      <td>108</td>\n",
       "      <td>Philp</td>\n",
       "    </tr>\n",
       "    <tr>\n",
       "      <th>3</th>\n",
       "      <td>109</td>\n",
       "      <td>David</td>\n",
       "    </tr>\n",
       "    <tr>\n",
       "      <th>4</th>\n",
       "      <td>110</td>\n",
       "      <td>Donald</td>\n",
       "    </tr>\n",
       "  </tbody>\n",
       "</table>\n",
       "</div>"
      ],
      "text/plain": [
       "   Eno Empname\n",
       "0  106   James\n",
       "1  107    John\n",
       "2  108   Philp\n",
       "3  109   David\n",
       "4  110  Donald"
      ]
     },
     "execution_count": 22,
     "metadata": {},
     "output_type": "execute_result"
    }
   ],
   "source": [
    "#Dataframe -1\n",
    "Eno1=[106, 107,108, 109, 110]\n",
    "Empname1= [\"James\", \"John\", \"Philp\",\"David\",\"Donald\"]\n",
    "Eno_Series1 = pd.Series(Eno1)\n",
    "Empname_Series1 = pd.Series(Empname1)\n",
    "df = { \"Eno\": Eno_Series1, \"Empname\": Empname_Series1 }\n",
    "employee2 = pd.DataFrame(df)\n",
    "employee2"
   ]
  },
  {
   "cell_type": "code",
   "execution_count": 23,
   "metadata": {},
   "outputs": [
    {
     "data": {
      "text/html": [
       "<div>\n",
       "<style scoped>\n",
       "    .dataframe tbody tr th:only-of-type {\n",
       "        vertical-align: middle;\n",
       "    }\n",
       "\n",
       "    .dataframe tbody tr th {\n",
       "        vertical-align: top;\n",
       "    }\n",
       "\n",
       "    .dataframe thead th {\n",
       "        text-align: right;\n",
       "    }\n",
       "</style>\n",
       "<table border=\"1\" class=\"dataframe\">\n",
       "  <thead>\n",
       "    <tr style=\"text-align: right;\">\n",
       "      <th></th>\n",
       "      <th>Eno</th>\n",
       "      <th>Designation</th>\n",
       "    </tr>\n",
       "  </thead>\n",
       "  <tbody>\n",
       "    <tr>\n",
       "      <th>0</th>\n",
       "      <td>106</td>\n",
       "      <td>UX Programmer</td>\n",
       "    </tr>\n",
       "    <tr>\n",
       "      <th>1</th>\n",
       "      <td>107</td>\n",
       "      <td>Data Architect</td>\n",
       "    </tr>\n",
       "    <tr>\n",
       "      <th>2</th>\n",
       "      <td>108</td>\n",
       "      <td>Project Lead</td>\n",
       "    </tr>\n",
       "    <tr>\n",
       "      <th>3</th>\n",
       "      <td>109</td>\n",
       "      <td>Data Analyst</td>\n",
       "    </tr>\n",
       "    <tr>\n",
       "      <th>4</th>\n",
       "      <td>110</td>\n",
       "      <td>Business Data Analyst</td>\n",
       "    </tr>\n",
       "  </tbody>\n",
       "</table>\n",
       "</div>"
      ],
      "text/plain": [
       "   Eno            Designation\n",
       "0  106          UX Programmer\n",
       "1  107         Data Architect\n",
       "2  108           Project Lead\n",
       "3  109           Data Analyst\n",
       "4  110  Business Data Analyst"
      ]
     },
     "execution_count": 23,
     "metadata": {},
     "output_type": "execute_result"
    }
   ],
   "source": [
    "#Dataframe -2\n",
    "Eno1=[106, 107,108, 109, 110]\n",
    "Designation= [\"UX Programmer\", \"Data Architect\", \"Project Lead\",\"Data Analyst\",\"Business Data Analyst\"]\n",
    "Eno_Series1 = pd.Series(Eno1)\n",
    "Designation_Series1 = pd.Series(Designation)\n",
    "df = { \"Eno\": Eno_Series1, \"Designation\": Designation_Series1 }\n",
    "Designation_df = pd.DataFrame(df)\n",
    "Designation_df"
   ]
  },
  {
   "cell_type": "code",
   "execution_count": 24,
   "metadata": {},
   "outputs": [
    {
     "data": {
      "text/html": [
       "<div>\n",
       "<style scoped>\n",
       "    .dataframe tbody tr th:only-of-type {\n",
       "        vertical-align: middle;\n",
       "    }\n",
       "\n",
       "    .dataframe tbody tr th {\n",
       "        vertical-align: top;\n",
       "    }\n",
       "\n",
       "    .dataframe thead th {\n",
       "        text-align: right;\n",
       "    }\n",
       "</style>\n",
       "<table border=\"1\" class=\"dataframe\">\n",
       "  <thead>\n",
       "    <tr style=\"text-align: right;\">\n",
       "      <th></th>\n",
       "      <th>Eno</th>\n",
       "      <th>Empname</th>\n",
       "      <th>Designation</th>\n",
       "    </tr>\n",
       "  </thead>\n",
       "  <tbody>\n",
       "    <tr>\n",
       "      <th>0</th>\n",
       "      <td>106</td>\n",
       "      <td>James</td>\n",
       "      <td>UX Programmer</td>\n",
       "    </tr>\n",
       "    <tr>\n",
       "      <th>1</th>\n",
       "      <td>107</td>\n",
       "      <td>John</td>\n",
       "      <td>Data Architect</td>\n",
       "    </tr>\n",
       "    <tr>\n",
       "      <th>2</th>\n",
       "      <td>108</td>\n",
       "      <td>Philp</td>\n",
       "      <td>Project Lead</td>\n",
       "    </tr>\n",
       "    <tr>\n",
       "      <th>3</th>\n",
       "      <td>109</td>\n",
       "      <td>David</td>\n",
       "      <td>Data Analyst</td>\n",
       "    </tr>\n",
       "    <tr>\n",
       "      <th>4</th>\n",
       "      <td>110</td>\n",
       "      <td>Donald</td>\n",
       "      <td>Business Data Analyst</td>\n",
       "    </tr>\n",
       "  </tbody>\n",
       "</table>\n",
       "</div>"
      ],
      "text/plain": [
       "   Eno Empname            Designation\n",
       "0  106   James          UX Programmer\n",
       "1  107    John         Data Architect\n",
       "2  108   Philp           Project Lead\n",
       "3  109   David           Data Analyst\n",
       "4  110  Donald  Business Data Analyst"
      ]
     },
     "execution_count": 24,
     "metadata": {},
     "output_type": "execute_result"
    }
   ],
   "source": [
    "df_merge_columns = pd.merge(employee2, Designation_df, on=\"Eno\")\n",
    "df_merge_columns"
   ]
  },
  {
   "cell_type": "code",
   "execution_count": 78,
   "metadata": {},
   "outputs": [
    {
     "name": "stdout",
     "output_type": "stream",
     "text": [
      "   Eno   Ename\n",
      "0  100   James\n",
      "1  101    John\n",
      "2  102   Philp\n",
      "3  103   David\n",
      "4  104  Donald \n",
      "###########################\n",
      "   Eno  Salary          Designation\n",
      "0  100    1000         UI Developer\n",
      "1  101    1200  Sr.Business Analyst\n",
      "2  102    1500         Program Head\n",
      "3  103    1750         Project Lead\n",
      "4  105    2000       System Manager\n"
     ]
    }
   ],
   "source": [
    "df1 = pd.DataFrame({\"Eno\": [100,101,102,103,104],\"Ename\": [\"James\", \"John\", \"Philp\",\"David\",\"Donald\"]})\n",
    "df2 = pd.DataFrame({\"Eno\": [100,101,102,103,105],\"Salary\": [1000, 1200, 1500, 1750,2000],\"Designation\": [\"UI Developer\", \"Sr.Business Analyst\", \"Program Head\", \"Project Lead\",\"System Manager\"]})\n",
    "print(df1,\"\\n###########################\")\n",
    "print(df2)"
   ]
  },
  {
   "cell_type": "markdown",
   "metadata": {},
   "source": [
    "(i) Simple Join"
   ]
  },
  {
   "cell_type": "code",
   "execution_count": 79,
   "metadata": {},
   "outputs": [
    {
     "data": {
      "text/html": [
       "<div>\n",
       "<style scoped>\n",
       "    .dataframe tbody tr th:only-of-type {\n",
       "        vertical-align: middle;\n",
       "    }\n",
       "\n",
       "    .dataframe tbody tr th {\n",
       "        vertical-align: top;\n",
       "    }\n",
       "\n",
       "    .dataframe thead th {\n",
       "        text-align: right;\n",
       "    }\n",
       "</style>\n",
       "<table border=\"1\" class=\"dataframe\">\n",
       "  <thead>\n",
       "    <tr style=\"text-align: right;\">\n",
       "      <th></th>\n",
       "      <th>Eno</th>\n",
       "      <th>Ename</th>\n",
       "      <th>Salary</th>\n",
       "      <th>Designation</th>\n",
       "    </tr>\n",
       "  </thead>\n",
       "  <tbody>\n",
       "    <tr>\n",
       "      <th>0</th>\n",
       "      <td>100</td>\n",
       "      <td>James</td>\n",
       "      <td>1000</td>\n",
       "      <td>UI Developer</td>\n",
       "    </tr>\n",
       "    <tr>\n",
       "      <th>1</th>\n",
       "      <td>101</td>\n",
       "      <td>John</td>\n",
       "      <td>1200</td>\n",
       "      <td>Sr.Business Analyst</td>\n",
       "    </tr>\n",
       "    <tr>\n",
       "      <th>2</th>\n",
       "      <td>102</td>\n",
       "      <td>Philp</td>\n",
       "      <td>1500</td>\n",
       "      <td>Program Head</td>\n",
       "    </tr>\n",
       "    <tr>\n",
       "      <th>3</th>\n",
       "      <td>103</td>\n",
       "      <td>David</td>\n",
       "      <td>1750</td>\n",
       "      <td>Project Lead</td>\n",
       "    </tr>\n",
       "  </tbody>\n",
       "</table>\n",
       "</div>"
      ],
      "text/plain": [
       "   Eno  Ename  Salary          Designation\n",
       "0  100  James    1000         UI Developer\n",
       "1  101   John    1200  Sr.Business Analyst\n",
       "2  102  Philp    1500         Program Head\n",
       "3  103  David    1750         Project Lead"
      ]
     },
     "execution_count": 79,
     "metadata": {},
     "output_type": "execute_result"
    }
   ],
   "source": [
    "df_join = pd.merge(df1, df2, left_on=\"Eno\", right_on=\"Eno\")\n",
    "df_join"
   ]
  },
  {
   "cell_type": "markdown",
   "metadata": {},
   "source": [
    "(ii) Full Outer-join\n",
    "\n"
   ]
  },
  {
   "cell_type": "code",
   "execution_count": 27,
   "metadata": {},
   "outputs": [
    {
     "data": {
      "text/html": [
       "<div>\n",
       "<style scoped>\n",
       "    .dataframe tbody tr th:only-of-type {\n",
       "        vertical-align: middle;\n",
       "    }\n",
       "\n",
       "    .dataframe tbody tr th {\n",
       "        vertical-align: top;\n",
       "    }\n",
       "\n",
       "    .dataframe thead th {\n",
       "        text-align: right;\n",
       "    }\n",
       "</style>\n",
       "<table border=\"1\" class=\"dataframe\">\n",
       "  <thead>\n",
       "    <tr style=\"text-align: right;\">\n",
       "      <th></th>\n",
       "      <th>Eno</th>\n",
       "      <th>Ename</th>\n",
       "      <th>Salary</th>\n",
       "      <th>Designation</th>\n",
       "    </tr>\n",
       "  </thead>\n",
       "  <tbody>\n",
       "    <tr>\n",
       "      <th>0</th>\n",
       "      <td>100</td>\n",
       "      <td>James</td>\n",
       "      <td>1000.0</td>\n",
       "      <td>UI Developer</td>\n",
       "    </tr>\n",
       "    <tr>\n",
       "      <th>1</th>\n",
       "      <td>101</td>\n",
       "      <td>John</td>\n",
       "      <td>1200.0</td>\n",
       "      <td>Sr.Business Analyst</td>\n",
       "    </tr>\n",
       "    <tr>\n",
       "      <th>2</th>\n",
       "      <td>102</td>\n",
       "      <td>Philp</td>\n",
       "      <td>1500.0</td>\n",
       "      <td>Program Head</td>\n",
       "    </tr>\n",
       "    <tr>\n",
       "      <th>3</th>\n",
       "      <td>103</td>\n",
       "      <td>David</td>\n",
       "      <td>1750.0</td>\n",
       "      <td>Project Lead</td>\n",
       "    </tr>\n",
       "    <tr>\n",
       "      <th>4</th>\n",
       "      <td>104</td>\n",
       "      <td>Donald</td>\n",
       "      <td>NaN</td>\n",
       "      <td>NaN</td>\n",
       "    </tr>\n",
       "    <tr>\n",
       "      <th>5</th>\n",
       "      <td>105</td>\n",
       "      <td>NaN</td>\n",
       "      <td>2000.0</td>\n",
       "      <td>System Manager</td>\n",
       "    </tr>\n",
       "  </tbody>\n",
       "</table>\n",
       "</div>"
      ],
      "text/plain": [
       "   Eno   Ename  Salary          Designation\n",
       "0  100   James  1000.0         UI Developer\n",
       "1  101    John  1200.0  Sr.Business Analyst\n",
       "2  102   Philp  1500.0         Program Head\n",
       "3  103   David  1750.0         Project Lead\n",
       "4  104  Donald     NaN                  NaN\n",
       "5  105     NaN  2000.0       System Manager"
      ]
     },
     "execution_count": 27,
     "metadata": {},
     "output_type": "execute_result"
    }
   ],
   "source": [
    "df_outer = pd.merge(df1, df2, on=\"Eno\", how=\"outer\")\n",
    "df_outer"
   ]
  },
  {
   "cell_type": "markdown",
   "metadata": {},
   "source": [
    "(iii) Left-join"
   ]
  },
  {
   "cell_type": "code",
   "execution_count": 28,
   "metadata": {},
   "outputs": [
    {
     "data": {
      "text/html": [
       "<div>\n",
       "<style scoped>\n",
       "    .dataframe tbody tr th:only-of-type {\n",
       "        vertical-align: middle;\n",
       "    }\n",
       "\n",
       "    .dataframe tbody tr th {\n",
       "        vertical-align: top;\n",
       "    }\n",
       "\n",
       "    .dataframe thead th {\n",
       "        text-align: right;\n",
       "    }\n",
       "</style>\n",
       "<table border=\"1\" class=\"dataframe\">\n",
       "  <thead>\n",
       "    <tr style=\"text-align: right;\">\n",
       "      <th></th>\n",
       "      <th>Eno</th>\n",
       "      <th>Ename</th>\n",
       "      <th>Salary</th>\n",
       "      <th>Designation</th>\n",
       "    </tr>\n",
       "  </thead>\n",
       "  <tbody>\n",
       "    <tr>\n",
       "      <th>0</th>\n",
       "      <td>100</td>\n",
       "      <td>James</td>\n",
       "      <td>1000.0</td>\n",
       "      <td>UI Developer</td>\n",
       "    </tr>\n",
       "    <tr>\n",
       "      <th>1</th>\n",
       "      <td>101</td>\n",
       "      <td>John</td>\n",
       "      <td>1200.0</td>\n",
       "      <td>Sr.Business Analyst</td>\n",
       "    </tr>\n",
       "    <tr>\n",
       "      <th>2</th>\n",
       "      <td>102</td>\n",
       "      <td>Philp</td>\n",
       "      <td>1500.0</td>\n",
       "      <td>Program Head</td>\n",
       "    </tr>\n",
       "    <tr>\n",
       "      <th>3</th>\n",
       "      <td>103</td>\n",
       "      <td>David</td>\n",
       "      <td>1750.0</td>\n",
       "      <td>Project Lead</td>\n",
       "    </tr>\n",
       "    <tr>\n",
       "      <th>4</th>\n",
       "      <td>104</td>\n",
       "      <td>Donald</td>\n",
       "      <td>NaN</td>\n",
       "      <td>NaN</td>\n",
       "    </tr>\n",
       "  </tbody>\n",
       "</table>\n",
       "</div>"
      ],
      "text/plain": [
       "   Eno   Ename  Salary          Designation\n",
       "0  100   James  1000.0         UI Developer\n",
       "1  101    John  1200.0  Sr.Business Analyst\n",
       "2  102   Philp  1500.0         Program Head\n",
       "3  103   David  1750.0         Project Lead\n",
       "4  104  Donald     NaN                  NaN"
      ]
     },
     "execution_count": 28,
     "metadata": {},
     "output_type": "execute_result"
    }
   ],
   "source": [
    "df_outer = pd.merge(df1, df2, on=\"Eno\", how=\"left\")\n",
    "df_outer"
   ]
  },
  {
   "cell_type": "markdown",
   "metadata": {},
   "source": [
    "(iv)Right-Outer-join\n"
   ]
  },
  {
   "cell_type": "code",
   "execution_count": 29,
   "metadata": {},
   "outputs": [
    {
     "data": {
      "text/html": [
       "<div>\n",
       "<style scoped>\n",
       "    .dataframe tbody tr th:only-of-type {\n",
       "        vertical-align: middle;\n",
       "    }\n",
       "\n",
       "    .dataframe tbody tr th {\n",
       "        vertical-align: top;\n",
       "    }\n",
       "\n",
       "    .dataframe thead th {\n",
       "        text-align: right;\n",
       "    }\n",
       "</style>\n",
       "<table border=\"1\" class=\"dataframe\">\n",
       "  <thead>\n",
       "    <tr style=\"text-align: right;\">\n",
       "      <th></th>\n",
       "      <th>Eno</th>\n",
       "      <th>Ename</th>\n",
       "      <th>Salary</th>\n",
       "      <th>Designation</th>\n",
       "    </tr>\n",
       "  </thead>\n",
       "  <tbody>\n",
       "    <tr>\n",
       "      <th>0</th>\n",
       "      <td>100</td>\n",
       "      <td>James</td>\n",
       "      <td>1000</td>\n",
       "      <td>UI Developer</td>\n",
       "    </tr>\n",
       "    <tr>\n",
       "      <th>1</th>\n",
       "      <td>101</td>\n",
       "      <td>John</td>\n",
       "      <td>1200</td>\n",
       "      <td>Sr.Business Analyst</td>\n",
       "    </tr>\n",
       "    <tr>\n",
       "      <th>2</th>\n",
       "      <td>102</td>\n",
       "      <td>Philp</td>\n",
       "      <td>1500</td>\n",
       "      <td>Program Head</td>\n",
       "    </tr>\n",
       "    <tr>\n",
       "      <th>3</th>\n",
       "      <td>103</td>\n",
       "      <td>David</td>\n",
       "      <td>1750</td>\n",
       "      <td>Project Lead</td>\n",
       "    </tr>\n",
       "    <tr>\n",
       "      <th>4</th>\n",
       "      <td>105</td>\n",
       "      <td>NaN</td>\n",
       "      <td>2000</td>\n",
       "      <td>System Manager</td>\n",
       "    </tr>\n",
       "  </tbody>\n",
       "</table>\n",
       "</div>"
      ],
      "text/plain": [
       "   Eno  Ename  Salary          Designation\n",
       "0  100  James    1000         UI Developer\n",
       "1  101   John    1200  Sr.Business Analyst\n",
       "2  102  Philp    1500         Program Head\n",
       "3  103  David    1750         Project Lead\n",
       "4  105    NaN    2000       System Manager"
      ]
     },
     "execution_count": 29,
     "metadata": {},
     "output_type": "execute_result"
    }
   ],
   "source": [
    "df_right = pd.merge(df1, df2, on=\"Eno\", how=\"right\")\n",
    "df_right"
   ]
  },
  {
   "cell_type": "markdown",
   "metadata": {},
   "source": [
    "(v)Inner-join"
   ]
  },
  {
   "cell_type": "code",
   "execution_count": 39,
   "metadata": {},
   "outputs": [
    {
     "data": {
      "text/html": [
       "<div>\n",
       "<style scoped>\n",
       "    .dataframe tbody tr th:only-of-type {\n",
       "        vertical-align: middle;\n",
       "    }\n",
       "\n",
       "    .dataframe tbody tr th {\n",
       "        vertical-align: top;\n",
       "    }\n",
       "\n",
       "    .dataframe thead th {\n",
       "        text-align: right;\n",
       "    }\n",
       "</style>\n",
       "<table border=\"1\" class=\"dataframe\">\n",
       "  <thead>\n",
       "    <tr style=\"text-align: right;\">\n",
       "      <th></th>\n",
       "      <th>Eno</th>\n",
       "      <th>Ename</th>\n",
       "      <th>Salary</th>\n",
       "      <th>Designation</th>\n",
       "    </tr>\n",
       "  </thead>\n",
       "  <tbody>\n",
       "    <tr>\n",
       "      <th>0</th>\n",
       "      <td>100</td>\n",
       "      <td>David</td>\n",
       "      <td>1000</td>\n",
       "      <td>Developer</td>\n",
       "    </tr>\n",
       "    <tr>\n",
       "      <th>1</th>\n",
       "      <td>101</td>\n",
       "      <td>John</td>\n",
       "      <td>1200</td>\n",
       "      <td>Sr.Developer</td>\n",
       "    </tr>\n",
       "    <tr>\n",
       "      <th>2</th>\n",
       "      <td>102</td>\n",
       "      <td>Raj</td>\n",
       "      <td>1500</td>\n",
       "      <td>Project Lead</td>\n",
       "    </tr>\n",
       "    <tr>\n",
       "      <th>3</th>\n",
       "      <td>103</td>\n",
       "      <td>Jack</td>\n",
       "      <td>1750</td>\n",
       "      <td>PM</td>\n",
       "    </tr>\n",
       "  </tbody>\n",
       "</table>\n",
       "</div>"
      ],
      "text/plain": [
       "   Eno  Ename  Salary   Designation\n",
       "0  100  David    1000     Developer\n",
       "1  101   John    1200  Sr.Developer\n",
       "2  102    Raj    1500  Project Lead\n",
       "3  103   Jack    1750            PM"
      ]
     },
     "execution_count": 39,
     "metadata": {},
     "output_type": "execute_result"
    }
   ],
   "source": [
    "df_inner = pd.merge(df1, df2, on=\"Eno\", how=\"inner\")\n",
    "df_inner"
   ]
  },
  {
   "cell_type": "code",
   "execution_count": 34,
   "metadata": {},
   "outputs": [
    {
     "data": {
      "text/html": [
       "<div>\n",
       "<style scoped>\n",
       "    .dataframe tbody tr th:only-of-type {\n",
       "        vertical-align: middle;\n",
       "    }\n",
       "\n",
       "    .dataframe tbody tr th {\n",
       "        vertical-align: top;\n",
       "    }\n",
       "\n",
       "    .dataframe thead th {\n",
       "        text-align: right;\n",
       "    }\n",
       "</style>\n",
       "<table border=\"1\" class=\"dataframe\">\n",
       "  <thead>\n",
       "    <tr style=\"text-align: right;\">\n",
       "      <th></th>\n",
       "      <th>Eno</th>\n",
       "      <th>Ename</th>\n",
       "      <th>Salary</th>\n",
       "      <th>Designation</th>\n",
       "    </tr>\n",
       "  </thead>\n",
       "  <tbody>\n",
       "    <tr>\n",
       "      <th>0</th>\n",
       "      <td>100</td>\n",
       "      <td>James</td>\n",
       "      <td>1000</td>\n",
       "      <td>UI Developer</td>\n",
       "    </tr>\n",
       "    <tr>\n",
       "      <th>1</th>\n",
       "      <td>101</td>\n",
       "      <td>John</td>\n",
       "      <td>1200</td>\n",
       "      <td>Sr.Business Analyst</td>\n",
       "    </tr>\n",
       "    <tr>\n",
       "      <th>2</th>\n",
       "      <td>102</td>\n",
       "      <td>Philp</td>\n",
       "      <td>1500</td>\n",
       "      <td>Program Head</td>\n",
       "    </tr>\n",
       "    <tr>\n",
       "      <th>3</th>\n",
       "      <td>103</td>\n",
       "      <td>David</td>\n",
       "      <td>1750</td>\n",
       "      <td>Project Lead</td>\n",
       "    </tr>\n",
       "    <tr>\n",
       "      <th>4</th>\n",
       "      <td>104</td>\n",
       "      <td>Donald</td>\n",
       "      <td>5000</td>\n",
       "      <td>Data Architect</td>\n",
       "    </tr>\n",
       "  </tbody>\n",
       "</table>\n",
       "</div>"
      ],
      "text/plain": [
       "   Eno   Ename  Salary          Designation\n",
       "0  100   James    1000         UI Developer\n",
       "1  101    John    1200  Sr.Business Analyst\n",
       "2  102   Philp    1500         Program Head\n",
       "3  103   David    1750         Project Lead\n",
       "4  104  Donald    5000       Data Architect"
      ]
     },
     "execution_count": 34,
     "metadata": {},
     "output_type": "execute_result"
    }
   ],
   "source": [
    "df1 = pd.DataFrame({\"Eno\": [100,101,102,103,104],\"Ename\": [\"James\", \"John\", \"Philp\",\"David\",\"Donald\"]},\n",
    "index = [\"0\", \"1\", \"2\", \"3\",\"4\"])\n",
    "df2 = pd.DataFrame({\"Salary\": [1000, 1200, 1500, 1750,5000],\"Designation\": [\"UI Developer\", \"Sr.Business Analyst\", \"Program Head\", \"Project Lead\",\"Data Architect\"]},\n",
    "index = [\"0\", \"1\", \"2\", \"3\",\"4\"])\n",
    "df1.join(df2)"
   ]
  },
  {
   "cell_type": "code",
   "execution_count": 36,
   "metadata": {},
   "outputs": [
    {
     "data": {
      "text/html": [
       "<div>\n",
       "<style scoped>\n",
       "    .dataframe tbody tr th:only-of-type {\n",
       "        vertical-align: middle;\n",
       "    }\n",
       "\n",
       "    .dataframe tbody tr th {\n",
       "        vertical-align: top;\n",
       "    }\n",
       "\n",
       "    .dataframe thead th {\n",
       "        text-align: right;\n",
       "    }\n",
       "</style>\n",
       "<table border=\"1\" class=\"dataframe\">\n",
       "  <thead>\n",
       "    <tr style=\"text-align: right;\">\n",
       "      <th></th>\n",
       "      <th>City</th>\n",
       "    </tr>\n",
       "  </thead>\n",
       "  <tbody>\n",
       "    <tr>\n",
       "      <th>0</th>\n",
       "      <td>Chennai</td>\n",
       "    </tr>\n",
       "    <tr>\n",
       "      <th>1</th>\n",
       "      <td>Bangalore</td>\n",
       "    </tr>\n",
       "    <tr>\n",
       "      <th>2</th>\n",
       "      <td>Delhi</td>\n",
       "    </tr>\n",
       "    <tr>\n",
       "      <th>3</th>\n",
       "      <td>Mumbai</td>\n",
       "    </tr>\n",
       "    <tr>\n",
       "      <th>4</th>\n",
       "      <td>Bangalore</td>\n",
       "    </tr>\n",
       "    <tr>\n",
       "      <th>5</th>\n",
       "      <td>Delhi</td>\n",
       "    </tr>\n",
       "    <tr>\n",
       "      <th>6</th>\n",
       "      <td>Chennai</td>\n",
       "    </tr>\n",
       "    <tr>\n",
       "      <th>7</th>\n",
       "      <td>Mumbai</td>\n",
       "    </tr>\n",
       "    <tr>\n",
       "      <th>8</th>\n",
       "      <td>Kolkata</td>\n",
       "    </tr>\n",
       "    <tr>\n",
       "      <th>9</th>\n",
       "      <td>Cochin</td>\n",
       "    </tr>\n",
       "  </tbody>\n",
       "</table>\n",
       "</div>"
      ],
      "text/plain": [
       "        City\n",
       "0    Chennai\n",
       "1  Bangalore\n",
       "2      Delhi\n",
       "3     Mumbai\n",
       "4  Bangalore\n",
       "5      Delhi\n",
       "6    Chennai\n",
       "7     Mumbai\n",
       "8    Kolkata\n",
       "9     Cochin"
      ]
     },
     "execution_count": 36,
     "metadata": {},
     "output_type": "execute_result"
    }
   ],
   "source": [
    "data=pd.DataFrame({\"City\":[\"Chennai\",\"Bangalore\",\"Delhi\",\"Mumbai\",\"Bangalore\",\"Delhi\",\"Chennai\",\"Mumbai\",\"Kolkata\",\"Cochin\"]})\n",
    "data"
   ]
  },
  {
   "cell_type": "code",
   "execution_count": 37,
   "metadata": {},
   "outputs": [
    {
     "data": {
      "text/html": [
       "<div>\n",
       "<style scoped>\n",
       "    .dataframe tbody tr th:only-of-type {\n",
       "        vertical-align: middle;\n",
       "    }\n",
       "\n",
       "    .dataframe tbody tr th {\n",
       "        vertical-align: top;\n",
       "    }\n",
       "\n",
       "    .dataframe thead th {\n",
       "        text-align: right;\n",
       "    }\n",
       "</style>\n",
       "<table border=\"1\" class=\"dataframe\">\n",
       "  <thead>\n",
       "    <tr style=\"text-align: right;\">\n",
       "      <th></th>\n",
       "      <th>City_Chennai</th>\n",
       "      <th>City_Bangalore</th>\n",
       "      <th>City_Delhi</th>\n",
       "      <th>City_Mumbai</th>\n",
       "      <th>City_Kolkata</th>\n",
       "      <th>City_Cochin</th>\n",
       "    </tr>\n",
       "  </thead>\n",
       "  <tbody>\n",
       "    <tr>\n",
       "      <th>0</th>\n",
       "      <td>1.0</td>\n",
       "      <td>0.0</td>\n",
       "      <td>0.0</td>\n",
       "      <td>0.0</td>\n",
       "      <td>0.0</td>\n",
       "      <td>0.0</td>\n",
       "    </tr>\n",
       "    <tr>\n",
       "      <th>1</th>\n",
       "      <td>0.0</td>\n",
       "      <td>1.0</td>\n",
       "      <td>0.0</td>\n",
       "      <td>0.0</td>\n",
       "      <td>0.0</td>\n",
       "      <td>0.0</td>\n",
       "    </tr>\n",
       "    <tr>\n",
       "      <th>2</th>\n",
       "      <td>0.0</td>\n",
       "      <td>0.0</td>\n",
       "      <td>1.0</td>\n",
       "      <td>0.0</td>\n",
       "      <td>0.0</td>\n",
       "      <td>0.0</td>\n",
       "    </tr>\n",
       "    <tr>\n",
       "      <th>3</th>\n",
       "      <td>0.0</td>\n",
       "      <td>0.0</td>\n",
       "      <td>0.0</td>\n",
       "      <td>1.0</td>\n",
       "      <td>0.0</td>\n",
       "      <td>0.0</td>\n",
       "    </tr>\n",
       "    <tr>\n",
       "      <th>4</th>\n",
       "      <td>0.0</td>\n",
       "      <td>1.0</td>\n",
       "      <td>0.0</td>\n",
       "      <td>0.0</td>\n",
       "      <td>0.0</td>\n",
       "      <td>0.0</td>\n",
       "    </tr>\n",
       "    <tr>\n",
       "      <th>5</th>\n",
       "      <td>0.0</td>\n",
       "      <td>0.0</td>\n",
       "      <td>1.0</td>\n",
       "      <td>0.0</td>\n",
       "      <td>0.0</td>\n",
       "      <td>0.0</td>\n",
       "    </tr>\n",
       "    <tr>\n",
       "      <th>6</th>\n",
       "      <td>1.0</td>\n",
       "      <td>0.0</td>\n",
       "      <td>0.0</td>\n",
       "      <td>0.0</td>\n",
       "      <td>0.0</td>\n",
       "      <td>0.0</td>\n",
       "    </tr>\n",
       "    <tr>\n",
       "      <th>7</th>\n",
       "      <td>0.0</td>\n",
       "      <td>0.0</td>\n",
       "      <td>0.0</td>\n",
       "      <td>1.0</td>\n",
       "      <td>0.0</td>\n",
       "      <td>0.0</td>\n",
       "    </tr>\n",
       "    <tr>\n",
       "      <th>8</th>\n",
       "      <td>0.0</td>\n",
       "      <td>0.0</td>\n",
       "      <td>0.0</td>\n",
       "      <td>0.0</td>\n",
       "      <td>1.0</td>\n",
       "      <td>0.0</td>\n",
       "    </tr>\n",
       "    <tr>\n",
       "      <th>9</th>\n",
       "      <td>0.0</td>\n",
       "      <td>0.0</td>\n",
       "      <td>0.0</td>\n",
       "      <td>0.0</td>\n",
       "      <td>0.0</td>\n",
       "      <td>1.0</td>\n",
       "    </tr>\n",
       "  </tbody>\n",
       "</table>\n",
       "</div>"
      ],
      "text/plain": [
       "   City_Chennai  City_Bangalore  City_Delhi  City_Mumbai  City_Kolkata  \\\n",
       "0           1.0             0.0         0.0          0.0           0.0   \n",
       "1           0.0             1.0         0.0          0.0           0.0   \n",
       "2           0.0             0.0         1.0          0.0           0.0   \n",
       "3           0.0             0.0         0.0          1.0           0.0   \n",
       "4           0.0             1.0         0.0          0.0           0.0   \n",
       "5           0.0             0.0         1.0          0.0           0.0   \n",
       "6           1.0             0.0         0.0          0.0           0.0   \n",
       "7           0.0             0.0         0.0          1.0           0.0   \n",
       "8           0.0             0.0         0.0          0.0           1.0   \n",
       "9           0.0             0.0         0.0          0.0           0.0   \n",
       "\n",
       "   City_Cochin  \n",
       "0          0.0  \n",
       "1          0.0  \n",
       "2          0.0  \n",
       "3          0.0  \n",
       "4          0.0  \n",
       "5          0.0  \n",
       "6          0.0  \n",
       "7          0.0  \n",
       "8          0.0  \n",
       "9          1.0  "
      ]
     },
     "execution_count": 37,
     "metadata": {},
     "output_type": "execute_result"
    }
   ],
   "source": [
    "#Create object for one-hot encoding\n",
    "import category_encoders as ce\n",
    "encoder=ce.OneHotEncoder(cols=\"City\",handle_unknown=\"return_nan\",return_df=True,use_cat_names=True)\n",
    "data_encoded = encoder.fit_transform(data)\n",
    "data_encoded"
   ]
  },
  {
   "cell_type": "code",
   "execution_count": 38,
   "metadata": {},
   "outputs": [
    {
     "data": {
      "text/plain": [
       "Timestamp('2004-12-16 00:00:00')"
      ]
     },
     "execution_count": 38,
     "metadata": {},
     "output_type": "execute_result"
    }
   ],
   "source": [
    "import pandas as pd\n",
    "date=pd.to_datetime(\"16th December,2004\")\n",
    "date"
   ]
  },
  {
   "cell_type": "code",
   "execution_count": 39,
   "metadata": {},
   "outputs": [
    {
     "name": "stdout",
     "output_type": "stream",
     "text": [
      "2023-03-27 14:31:28.352986\n"
     ]
    }
   ],
   "source": [
    "import datetime\n",
    "x = datetime.datetime.now()\n",
    "print(x)"
   ]
  },
  {
   "cell_type": "code",
   "execution_count": 40,
   "metadata": {},
   "outputs": [
    {
     "name": "stdout",
     "output_type": "stream",
     "text": [
      "2023\n",
      "Mon\n",
      "Monday\n",
      "27\n",
      "Mar\n",
      "March\n",
      "23\n",
      "2023\n",
      "14\n",
      "31\n",
      "31\n",
      "\n"
     ]
    }
   ],
   "source": [
    "import datetime\n",
    "x = datetime.datetime.now()\n",
    "print(x.year)\n",
    "print(x.strftime(\"%a\"))\n",
    "print(x.strftime(\"%A\"))\n",
    "print(x.strftime(\"%d\"))\n",
    "print(x.strftime(\"%b\"))\n",
    "print(x.strftime(\"%B\"))\n",
    "print(x.strftime(\"%y\"))\n",
    "print(x.strftime(\"%Y\"))\n",
    "print(x.strftime(\"%H\"))\n",
    "print(x.strftime(\"%M\"))\n",
    "print(x.strftime(\"%S\"))\n",
    "print(x.strftime(\"%Z\"))"
   ]
  },
  {
   "cell_type": "markdown",
   "metadata": {},
   "source": [
    "Explicit Type Conversion"
   ]
  },
  {
   "cell_type": "code",
   "execution_count": 42,
   "metadata": {},
   "outputs": [
    {
     "name": "stdout",
     "output_type": "stream",
     "text": [
      "Into integer :  2022\n",
      "into float :  2022.0\n"
     ]
    }
   ],
   "source": [
    "# Type conversion in Python\n",
    "strA = \"2022\" #Sting type\n",
    "# printing string value converting to int\n",
    "intA = int(strA,10)\n",
    "print (\"Into integer : \", intA)\n",
    "# printing string converting to float\n",
    "floatA = float(strA)\n",
    "print (\"into float : \", floatA)\n"
   ]
  },
  {
   "cell_type": "code",
   "execution_count": 43,
   "metadata": {},
   "outputs": [
    {
     "name": "stdout",
     "output_type": "stream",
     "text": [
      "Converting string to list : ['P', 'y', 't', 'h', 'o', 'n']\n",
      "Converting string to list : ('P', 'y', 't', 'h', 'o', 'n')\n"
     ]
    }
   ],
   "source": [
    "strA = \"Python\"\n",
    "ListA = list(strA)\n",
    "print (\"Converting string to list :\",(ListA))\n",
    "tupleA = tuple(strA)\n",
    "print (\"Converting string to list :\",(tupleA))"
   ]
  },
  {
   "cell_type": "markdown",
   "metadata": {},
   "source": [
    "Implicit Type Conversion"
   ]
  },
  {
   "cell_type": "code",
   "execution_count": 44,
   "metadata": {},
   "outputs": [
    {
     "name": "stdout",
     "output_type": "stream",
     "text": [
      "a is of type: <class 'int'>\n",
      "b is of type: <class 'float'>\n",
      "200.6\n",
      "c is of type: <class 'float'>\n"
     ]
    }
   ],
   "source": [
    "a = 100\n",
    "print(\"a is of type:\",type(a))\n",
    "b = 100.6\n",
    "print(\"b is of type:\",type(b))\n",
    "c = a + b\n",
    "print(c)\n",
    "print(\"c is of type:\",type(c))"
   ]
  },
  {
   "cell_type": "markdown",
   "metadata": {},
   "source": [
    "NumPy Exploration"
   ]
  },
  {
   "cell_type": "code",
   "execution_count": 80,
   "metadata": {},
   "outputs": [
    {
     "name": "stdout",
     "output_type": "stream",
     "text": [
      "1-D\n",
      "[ 200  400  600  800 1000]\n"
     ]
    }
   ],
   "source": [
    "import numpy as np\n",
    "print(\"1-D\")\n",
    "a = np.array([200,400,600,800,1000])\n",
    "print (a)"
   ]
  },
  {
   "cell_type": "code",
   "execution_count": 82,
   "metadata": {},
   "outputs": [
    {
     "name": "stdout",
     "output_type": "stream",
     "text": [
      "n-D\n",
      "[[ 500 1000]\n",
      " [2000 4000]]\n"
     ]
    }
   ],
   "source": [
    "print(\"n-D\")\n",
    "a = np.array([[500, 1000], [2000, 4000]])\n",
    "print (a)\n"
   ]
  },
  {
   "cell_type": "code",
   "execution_count": 83,
   "metadata": {},
   "outputs": [
    {
     "name": "stdout",
     "output_type": "stream",
     "text": [
      "No of Dimension(s): 0\n",
      "No of Dimension(s): 1\n",
      "No of Dimension(s): 2\n"
     ]
    }
   ],
   "source": [
    "x = np.array(1)\n",
    "y = np.array([5, 10, 15, 20, 25])\n",
    "z = np.array([[2, 4, 6], [8, 16, 32]])\n",
    "print(\"No of Dimension(s):\",x.ndim)\n",
    "print(\"No of Dimension(s):\",y.ndim)\n",
    "print(\"No of Dimension(s):\",z.ndim)\n"
   ]
  },
  {
   "cell_type": "code",
   "execution_count": 84,
   "metadata": {},
   "outputs": [
    {
     "name": "stdout",
     "output_type": "stream",
     "text": [
      "[10 20 30 40 50]\n",
      "<class 'numpy.ndarray'>\n"
     ]
    }
   ],
   "source": [
    "arr = np.array([10, 20, 30, 40, 50])\n",
    "print(arr)\n",
    "print(type(arr))\n"
   ]
  },
  {
   "cell_type": "code",
   "execution_count": 85,
   "metadata": {},
   "outputs": [
    {
     "name": "stdout",
     "output_type": "stream",
     "text": [
      "<class 'numpy.ndarray'>\n"
     ]
    }
   ],
   "source": [
    "print(type(arr))"
   ]
  },
  {
   "cell_type": "code",
   "execution_count": 89,
   "metadata": {},
   "outputs": [
    {
     "name": "stdout",
     "output_type": "stream",
     "text": [
      "10\n"
     ]
    }
   ],
   "source": [
    "arr = np.array([10, 20, 30, 40, 50])\n",
    "print(arr[0])"
   ]
  },
  {
   "cell_type": "code",
   "execution_count": 90,
   "metadata": {},
   "outputs": [
    {
     "name": "stdout",
     "output_type": "stream",
     "text": [
      "40\n"
     ]
    }
   ],
   "source": [
    "print(arr[3])"
   ]
  },
  {
   "cell_type": "code",
   "execution_count": 92,
   "metadata": {},
   "outputs": [
    {
     "name": "stdout",
     "output_type": "stream",
     "text": [
      "[201 301 401]\n"
     ]
    }
   ],
   "source": [
    "import numpy as np\n",
    "arr = np.array([101, 201, 301, 401, 501, 601, 701])\n",
    "print(arr[1:4])"
   ]
  },
  {
   "cell_type": "code",
   "execution_count": 94,
   "metadata": {},
   "outputs": [
    {
     "name": "stdout",
     "output_type": "stream",
     "text": [
      "Shape of the array: (4, 3)\n",
      "Shape of the array: (3, 4)\n"
     ]
    }
   ],
   "source": [
    "import numpy as np\n",
    "a = np.array([[4,8,12],[5,10,15],[20,25,30],[30,35,40]])\n",
    "print (\"Shape of the array:\",a.shape)\n",
    "a = np.array([[10,20,30,40],[30,40,50,60],[40,45,50,50]])\n",
    "print (\"Shape of the array:\",a.shape)\n"
   ]
  },
  {
   "cell_type": "code",
   "execution_count": 96,
   "metadata": {},
   "outputs": [
    {
     "name": "stdout",
     "output_type": "stream",
     "text": [
      "Array a(Actual shape):\n",
      " [[ 5 10 15]\n",
      " [40 50 60]]\n",
      "Shape of the array:\n",
      " (2, 3)\n",
      "Array b(After reshape):\n",
      " [[ 5 10]\n",
      " [15 40]\n",
      " [50 60]]\n",
      "After Re-shape of the array:\n",
      " (3, 2)\n"
     ]
    }
   ],
   "source": [
    "import numpy as np\n",
    "a = np.array([[5,10,15],[40,50,60]])\n",
    "b = a.reshape(3,2)\n",
    "print (\"Array a(Actual shape):\\n\",a)\n",
    "print (\"Shape of the array:\\n\",a.shape)\n",
    "print (\"Array b(After reshape):\\n\",b)\n",
    "print (\"After Re-shape of the array:\\n\",b.shape)\n"
   ]
  },
  {
   "cell_type": "code",
   "execution_count": 97,
   "metadata": {},
   "outputs": [
    {
     "name": "stdout",
     "output_type": "stream",
     "text": [
      "As-List: [5, 10, 15]\n",
      "As-Array: [ 5 10 15]\n"
     ]
    }
   ],
   "source": [
    "import numpy as np\n",
    "x = [5,10,15]\n",
    "print(\"As-List:\",x)\n",
    "a = np.asarray(x)\n",
    "print(\"As-Array:\",a)\n"
   ]
  },
  {
   "cell_type": "code",
   "execution_count": 98,
   "metadata": {},
   "outputs": [
    {
     "name": "stdout",
     "output_type": "stream",
     "text": [
      "Tuple: (2, 4, 6)\n",
      "As Array: [2 4 6]\n"
     ]
    }
   ],
   "source": [
    "import numpy as np\n",
    "x = (2,4,6)\n",
    "print(\"Tuple:\",x)\n",
    "a = np.asarray(x)\n",
    "print(\"As Array:\",a)\n"
   ]
  },
  {
   "cell_type": "code",
   "execution_count": 99,
   "metadata": {},
   "outputs": [
    {
     "name": "stdout",
     "output_type": "stream",
     "text": [
      "[100 200 300]\n",
      "[400 500 600]\n",
      "Concatenated Array : [100 200 300 400 500 600]\n"
     ]
    }
   ],
   "source": [
    "import numpy as np\n",
    "arr1 = np.array([100, 200, 300])\n",
    "arr2 = np.array([400, 500, 600])\n",
    "print(arr1)\n",
    "print(arr2)\n",
    "arr = np.concatenate((arr1, arr2))\n",
    "print(\"Concatenated Array :\",arr)\n"
   ]
  },
  {
   "cell_type": "code",
   "execution_count": 101,
   "metadata": {},
   "outputs": [
    {
     "name": "stdout",
     "output_type": "stream",
     "text": [
      "Actual Array: [20 25 30 35 40 45 50 55]\n",
      "Spliting into 4\n",
      "Split: [array([20, 25]), array([30, 35]), array([40, 45]), array([50, 55])]\n"
     ]
    }
   ],
   "source": [
    "import numpy as np\n",
    "arr = np.array([20, 25, 30, 35, 40, 45,50,55])\n",
    "print(\"Actual Array:\",arr)\n",
    "newarr = np.array_split(arr, 4)\n",
    "print(\"Spliting into 4\")\n",
    "print(\"Split:\",newarr)\n"
   ]
  },
  {
   "cell_type": "code",
   "execution_count": 103,
   "metadata": {},
   "outputs": [
    {
     "name": "stdout",
     "output_type": "stream",
     "text": [
      "[1000 1100 1200 1300 1400 1500 1600 1700 1800 1900]\n"
     ]
    }
   ],
   "source": [
    "import numpy as np \n",
    "x = np.arange(1000,2000,100)\n",
    "print (x)\n"
   ]
  },
  {
   "cell_type": "code",
   "execution_count": 105,
   "metadata": {},
   "outputs": [
    {
     "name": "stdout",
     "output_type": "stream",
     "text": [
      "[1 2 3 4]\n",
      "[2 2 2 2]\n",
      "Array Multiplicaton\n",
      "\n",
      "[2 4 6 8]\n"
     ]
    }
   ],
   "source": [
    "a = np.array([1,2,3,4])\n",
    "b = np.array([2,2,2,2])\n",
    "print (a)\n",
    "print (b)\n",
    "c = a * b\n",
    "print(\"Array Multiplicaton\\n\")\n",
    "print (c)"
   ]
  },
  {
   "cell_type": "code",
   "execution_count": 107,
   "metadata": {},
   "outputs": [
    {
     "name": "stdout",
     "output_type": "stream",
     "text": [
      "Array-A: [ 4  8 12]\n",
      "Array-B: [5 5 5]\n",
      "A+B of arrays: [ 9 13 17]\n",
      "A-B of arrays: [-1  3  7]\n",
      "A*B of arrays: [20 40 60]\n",
      "A/B of arrays: [0.8 1.6 2.4]\n"
     ]
    }
   ],
   "source": [
    "a = np.array([4,8,12])\n",
    "b = np.array([5,5,5])\n",
    "print (\"Array-A:\",a)\n",
    "print (\"Array-B:\" ,b)\n",
    "print (\"A+B of arrays:\",np.add(a,b))\n",
    "print (\"A-B of arrays:\",np.subtract(a,b))\n",
    "print (\"A*B of arrays:\" ,np.multiply(a,b))\n",
    "print (\"A/B of arrays:\" ,np.divide(a,b))\n"
   ]
  },
  {
   "cell_type": "code",
   "execution_count": 108,
   "metadata": {},
   "outputs": [
    {
     "name": "stdout",
     "output_type": "stream",
     "text": [
      "Given array is:\n",
      "----------------------\n",
      "[[10 15 20]\n",
      " [ 4  8 12]\n",
      " [ 5 15 20]]\n",
      "Maximum : 20\n",
      "Minimum : 4\n",
      "Standard Deviation : 5.566655577722377\n",
      "Variance : 30.98765432098765\n",
      "Percentile : 4.32\n",
      "----------------------\n"
     ]
    }
   ],
   "source": [
    "import numpy as np\n",
    "a = np.array([[10,15,20],[4,8,12],[5,15,20]])\n",
    "print (\"Given array is:\")\n",
    "print(\"----------------------\")\n",
    "print (a)\n",
    "print (\"Maximum :\",np.amax(a))\n",
    "print (\"Minimum :\",np.amin(a))\n",
    "print (\"Standard Deviation :\",np.std(a))\n",
    "print (\"Variance :\",np.var(a))\n",
    "print(\"Percentile :\",np.percentile(a, 4))\n",
    "print(\"----------------------\")"
   ]
  },
  {
   "cell_type": "code",
   "execution_count": 112,
   "metadata": {},
   "outputs": [
    {
     "name": "stdout",
     "output_type": "stream",
     "text": [
      "Matrix and vector products\n",
      "****************************\n",
      "Dot Operation: [[105 150]\n",
      " [225 330]]\n",
      "*****************************************\n",
      "vdot : 450\n",
      "**************************\n",
      "Matrix eigenvalues\n",
      "(array([-1.86140662, 26.86140662]), array([[-0.82456484, -0.41597356],\n",
      "       [ 0.56576746, -0.90937671]]))\n",
      "*****************************************\n",
      "[-1.86140662 26.86140662]\n",
      "*****************************************\n",
      "Solving equations and inverting matrices\n",
      "[[6.00000000e-01 1.77635684e-16]\n",
      " [4.99600361e-17 6.00000000e-01]]\n",
      "*****************************************\n",
      "[[-0.4  0.2]\n",
      " [ 0.3 -0.1]]\n"
     ]
    }
   ],
   "source": [
    "import numpy.matlib\n",
    "import numpy as np\n",
    "import numpy.linalg as npla\n",
    "a = np.array([[5,10],[15,20]])\n",
    "b = np.array([[3,6],[9,12]])\n",
    "print(\"Matrix and vector products\")\n",
    "print(\"****************************\")\n",
    "print (\"Dot Operation:\", np.dot(a,b))\n",
    "print(\"*****************************************\")\n",
    "print (\"vdot :\",np.vdot(a,b))\n",
    "print(\"**************************\")\n",
    "print(\"Matrix eigenvalues\")\n",
    "print(npla.linalg.eig(a))\n",
    "print(\"*****************************************\")\n",
    "print(npla.linalg.eigvals(a))\n",
    "print(\"*****************************************\")\n",
    "print(\"Solving equations and inverting matrices\")\n",
    "print(npla.linalg.solve(a, b))\n",
    "print(\"*****************************************\")\n",
    "print(npla.linalg.inv(a))"
   ]
  },
  {
   "cell_type": "code",
   "execution_count": 64,
   "metadata": {},
   "outputs": [
    {
     "data": {
      "image/png": "[encoded data removed]",
      "text/plain": [
       "<Figure size 432x288 with 1 Axes>"
      ]
     },
     "metadata": {
      "needs_background": "light"
     },
     "output_type": "display_data"
    }
   ],
   "source": [
    "import numpy as np\n",
    "from matplotlib import pyplot as plt\n",
    "x = np.arange(1,11)\n",
    "#simple linear equation\n",
    "y = 5 * x + 2\n",
    "plt.title(\"Matplotlib demo\")\n",
    "plt.xlabel(\"height\")\n",
    "plt.ylabel(\"weight\")\n",
    "plt.plot(x,y)\n",
    "plt.show()\n"
   ]
  },
  {
   "cell_type": "code",
   "execution_count": 65,
   "metadata": {},
   "outputs": [
    {
     "data": {
      "image/png": "[encoded data removed]",
      "text/plain": [
       "<Figure size 432x288 with 1 Axes>"
      ]
     },
     "metadata": {
      "needs_background": "light"
     },
     "output_type": "display_data"
    }
   ],
   "source": [
    "import numpy as np\n",
    "import matplotlib.pyplot as plt\n",
    "x = np.arange(0, 6 * np.pi, 0.5)\n",
    "y = np.sin(x)\n",
    "plt.title(\"Sine Wave Form\")\n",
    "plt.plot(x, y)\n",
    "plt.show()\n"
   ]
  },
  {
   "cell_type": "code",
   "execution_count": 67,
   "metadata": {},
   "outputs": [
    {
     "data": {
      "image/png": "[encoded data removed]",
      "text/plain": [
       "<Figure size 432x288 with 1 Axes>"
      ]
     },
     "metadata": {
      "needs_background": "light"
     },
     "output_type": "display_data"
    }
   ],
   "source": [
    "from matplotlib import pyplot as plt\n",
    "x = [15,25,30]\n",
    "y = [20,25,35]\n",
    "x2 = [9,5,16]\n",
    "y2 = [5,10,6]\n",
    "plt.bar(x, y, align = \"center\")\n",
    "plt.bar(x2, y2, align = \"center\")\n",
    "plt.ylabel(\"Performance\")\n",
    "plt.xlabel(\"Slots\")\n",
    "plt.show()\n"
   ]
  },
  {
   "cell_type": "code",
   "execution_count": 68,
   "metadata": {},
   "outputs": [
    {
     "name": "stdout",
     "output_type": "stream",
     "text": [
      "Capitalize (Welcome to Python): Welcome to python\n",
      "Title (Welcome to Python): Welcome To Python\n",
      "Lower (PYTHON): ['python']\n",
      "Upper (python): PYTHON\n",
      "Split (hello how are you?): ['hello', 'how', 'are', 'you?']\n",
      "Split (Python,Pandas,NumPy): ['Python', 'Pandas', 'NumPy']\n",
      "Strip (welcome watts): elcome watts\n",
      "Join (dmy): d:m:y\n",
      "Join (dmy): ['d:m:y' 'y-m-d']\n",
      "Replace Python is a programming language: Python is a powerful is programming language\n",
      "Concatenate two strings Hello,Mr.Babu: ['HelloMr.Babu']\n",
      "Concatenation example [Hello, Hi],[ Shantha , Babu]: ['Hello Shantha ' 'Hi Babu']\n"
     ]
    }
   ],
   "source": [
    "import numpy as np\n",
    "print(\"Capitalize (Welcome to Python):\",np.char.capitalize(\"Welcome to Python\"))\n",
    "print(\"Title (Welcome to Python):\",np.char.title(\"Welcome to Python\"))\n",
    "print(\"Lower (PYTHON):\",np.char.lower([\"PYTHON\"]))\n",
    "print(\"Upper (python):\",np.char.upper(\"python\"))\n",
    "print(\"Split (hello how are you?):\",np.char.split (\"hello how are you?\"))\n",
    "print(\"Split (Python,Pandas,NumPy):\",np.char.split (\"Python,Pandas,NumPy\", sep = \",\"))\n",
    "print(\"Strip (welcome watts):\",np.char.strip(\"welcome watts\",\"w\"))\n",
    "print(\"Join (dmy):\",np.char.join(\":\",\"dmy\"))\n",
    "print(\"Join (dmy):\",np.char.join([\":\",\"-\"],[\"dmy\",\"ymd\"]))\n",
    "print(\"Replace Python is a programming language:\", np.char.replace(\"Python is a programming language\",\"programming\",\"powerful is programming\"))\n",
    "print(\"Concatenate two strings Hello,Mr.Babu:\",np.char.add([\"Hello\"],[\"Mr.Babu\"]))\n",
    "print(\"Concatenation example [Hello, Hi],[ Shantha , Babu]:\",np.char.add([\"Hello\", \"Hi\"],[\" Shantha \", \" Babu\"]))\n"
   ]
  },
  {
   "cell_type": "markdown",
   "metadata": {},
   "source": [
    "Mathematical statistics and Pandas - Python"
   ]
  },
  {
   "cell_type": "code",
   "execution_count": 69,
   "metadata": {},
   "outputs": [],
   "source": [
    "import math\n",
    "import statistics\n",
    "import numpy as np\n",
    "import scipy.stats\n",
    "import pandas as pd"
   ]
  },
  {
   "cell_type": "code",
   "execution_count": 115,
   "metadata": {},
   "outputs": [
    {
     "name": "stdout",
     "output_type": "stream",
     "text": [
      "mean : 37.07692307692308\n",
      "*****************************************\n",
      "median : 35\n",
      "*****************************************\n",
      "mode : 20\n",
      "*****************************************\n",
      "stdev : 20.536396707884023\n",
      "*****************************************\n",
      "variance : 421.7435897435897\n"
     ]
    }
   ],
   "source": [
    "_list = [15,20,50,16,10,25,60,70,20,60,35,51,50]\n",
    "#mean\n",
    "x = statistics.mean(_list)\n",
    "print(\"mean :\",x)\n",
    "print(\"*****************************************\")\n",
    "#median\n",
    "y = statistics.median(example_list)\n",
    "print(\"median :\",y)\n",
    "print(\"*****************************************\")\n",
    "#mode\n",
    "z = statistics.mode(example_list)\n",
    "print(\"mode :\",z)\n",
    "print(\"*****************************************\")\n",
    "#stdev\n",
    "a = statistics.stdev(example_list)\n",
    "print(\"stdev :\",a)\n",
    "print(\"*****************************************\")\n",
    "#variance\n",
    "b = statistics.variance(example_list)\n",
    "print(\"variance :\",b)"
   ]
  },
  {
   "cell_type": "markdown",
   "metadata": {},
   "source": [
    "Python Pandas - Workng file"
   ]
  },
  {
   "cell_type": "markdown",
   "metadata": {},
   "source": [
    "Python Pandas - How to read in data from file"
   ]
  },
  {
   "cell_type": "code",
   "execution_count": 71,
   "metadata": {},
   "outputs": [],
   "source": [
    "import pandas as pd"
   ]
  },
  {
   "cell_type": "code",
   "execution_count": 72,
   "metadata": {},
   "outputs": [],
   "source": [
    "f= open(\"sample.txt\",\"w+\")"
   ]
  },
  {
   "cell_type": "code",
   "execution_count": 113,
   "metadata": {},
   "outputs": [],
   "source": [
    "f.write(\"Welcome to Python\\n\")\n",
    "f.write(\"*****************Pandas*****************\\n\")\n",
    "f.write(\"Provides data structures of high-level and a wide variety of tools for analysis\\n\")\n",
    "f.write(\"Ability to translate complex operations with data using one or two commands.\\n\")\n",
    "f.write(\"Methods for grouping, combining data, and filtering, as well as time-series functionality.\\n\")\n",
    "f.write(\"Re-indexing, Iteration, Sorting, Aggregations, Concatenations and Visualizations\")\n",
    "f.close() "
   ]
  },
  {
   "cell_type": "code",
   "execution_count": 114,
   "metadata": {},
   "outputs": [],
   "source": [
    "f=open(\"sample.txt\", \"r\")"
   ]
  },
  {
   "cell_type": "code",
   "execution_count": 115,
   "metadata": {},
   "outputs": [],
   "source": [
    "contents =f.read()"
   ]
  },
  {
   "cell_type": "code",
   "execution_count": 116,
   "metadata": {},
   "outputs": [
    {
     "name": "stdout",
     "output_type": "stream",
     "text": [
      "Welcome to Python\n",
      "*****************Pandas*****************\n",
      "Provides data structures of high-level and a wide variety of tools for analysis\n",
      "Ability to translate complex operations with data using one or two commands.\n",
      "Methods for grouping, combining data, and filtering, as well as time-series functionality.\n",
      "Re-indexing, Iteration, Sorting, Aggregations, Concatenations and Visualizations\n"
     ]
    }
   ],
   "source": [
    "print(contents)"
   ]
  },
  {
   "cell_type": "code",
   "execution_count": 117,
   "metadata": {},
   "outputs": [],
   "source": [
    "f=open(\"sample.txt\", \"a+\")"
   ]
  },
  {
   "cell_type": "code",
   "execution_count": 118,
   "metadata": {},
   "outputs": [],
   "source": [
    "f.write(\"\\n*****************Pandas - Append  *****************\\n\")\n",
    "f.close() "
   ]
  },
  {
   "cell_type": "code",
   "execution_count": 119,
   "metadata": {},
   "outputs": [],
   "source": [
    "f=open(\"sample.txt\", \"r\")"
   ]
  },
  {
   "cell_type": "code",
   "execution_count": 120,
   "metadata": {},
   "outputs": [],
   "source": [
    "contents =f.read()"
   ]
  },
  {
   "cell_type": "code",
   "execution_count": 121,
   "metadata": {},
   "outputs": [
    {
     "name": "stdout",
     "output_type": "stream",
     "text": [
      "Welcome to Python\n",
      "*****************Pandas*****************\n",
      "Provides data structures of high-level and a wide variety of tools for analysis\n",
      "Ability to translate complex operations with data using one or two commands.\n",
      "Methods for grouping, combining data, and filtering, as well as time-series functionality.\n",
      "Re-indexing, Iteration, Sorting, Aggregations, Concatenations and Visualizations\n",
      "*****************Pandas - Append  *****************\n",
      "\n"
     ]
    }
   ],
   "source": [
    "print(contents)"
   ]
  },
  {
   "cell_type": "code",
   "execution_count": 122,
   "metadata": {},
   "outputs": [],
   "source": [
    "f.close() "
   ]
  },
  {
   "cell_type": "code",
   "execution_count": 123,
   "metadata": {},
   "outputs": [
    {
     "name": "stdout",
     "output_type": "stream",
     "text": [
      "Welcome to Python\n",
      "*****************Pandas*****************\n",
      "Provides data structures of high-level and a wide variety of tools for analysis\n",
      "Ability to translate complex operations with data using one or two commands.\n",
      "Methods for grouping, combining data, and filtering, as well as time-series functionality.\n",
      "Re-indexing, Iteration, Sorting, Aggregations, Concatenations and Visualizations\n",
      "*****************Pandas - Append  *****************\n",
      "\n"
     ]
    }
   ],
   "source": [
    "print(contents)"
   ]
  },
  {
   "cell_type": "code",
   "execution_count": 124,
   "metadata": {},
   "outputs": [],
   "source": [
    "with open('sample.txt', 'r') as f:\n",
    "    data = f.read()"
   ]
  },
  {
   "cell_type": "code",
   "execution_count": 125,
   "metadata": {},
   "outputs": [
    {
     "data": {
      "text/plain": [
       "'Welcome to Python\\n*****************Pandas*****************\\nProvides data structures of high-level and a wide variety of tools for analysis\\nAbility to translate complex operations with data using one or two commands.\\nMethods for grouping, combining data, and filtering, as well as time-series functionality.\\nRe-indexing, Iteration, Sorting, Aggregations, Concatenations and Visualizations\\n*****************Pandas - Append  *****************\\n'"
      ]
     },
     "execution_count": 125,
     "metadata": {},
     "output_type": "execute_result"
    }
   ],
   "source": [
    "data"
   ]
  },
  {
   "cell_type": "code",
   "execution_count": 126,
   "metadata": {},
   "outputs": [],
   "source": [
    "with open(\"sample.txt\", 'a+') as f:\n",
    "    data = '\\n some data to be written to the file'\n",
    "    f.write(data)\n",
    "    f.close()"
   ]
  },
  {
   "cell_type": "code",
   "execution_count": 127,
   "metadata": {},
   "outputs": [
    {
     "data": {
      "text/plain": [
       "'Welcome to Python\\n*****************Pandas*****************\\nProvides data structures of high-level and a wide variety of tools for analysis\\nAbility to translate complex operations with data using one or two commands.\\nMethods for grouping, combining data, and filtering, as well as time-series functionality.\\nRe-indexing, Iteration, Sorting, Aggregations, Concatenations and Visualizations\\n*****************Pandas - Append  *****************\\n\\n some data to be written to the file'"
      ]
     },
     "execution_count": 127,
     "metadata": {},
     "output_type": "execute_result"
    }
   ],
   "source": [
    "with open('sample.txt', 'r') as f:\n",
    "    data = f.read()\n",
    "data"
   ]
  },
  {
   "cell_type": "code",
   "execution_count": null,
   "metadata": {},
   "outputs": [],
   "source": []
  }
 ],
 "metadata": {
  "kernelspec": {
   "display_name": "Python 3",
   "language": "python",
   "name": "python3"
  },
  "language_info": {
   "codemirror_mode": {
    "name": "ipython",
    "version": 3
   },
   "file_extension": ".py",
   "mimetype": "text/x-python",
   "name": "python",
   "nbconvert_exporter": "python",
   "pygments_lexer": "ipython3",
   "version": "3.8.3"
  }
 },
 "nbformat": 4,
 "nbformat_minor": 4
}
