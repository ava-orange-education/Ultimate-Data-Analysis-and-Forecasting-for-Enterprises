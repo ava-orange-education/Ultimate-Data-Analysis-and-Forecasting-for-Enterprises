{
 "cells": [
  {
   "cell_type": "markdown",
   "metadata": {},
   "source": [
    "<h2>Import Libereries </h2>"
   ]
  },
  {
   "cell_type": "code",
   "execution_count": 406,
   "metadata": {},
   "outputs": [],
   "source": [
    "####################################\n",
    "#Import all the required libraries#\n",
    "###################################\n",
    "\n",
    "# Import pandas,numpy and matplot libraries\n",
    "import pandas as pd\n",
    "import numpy as np\n",
    "import matplotlib.pyplot as plt\n",
    "%matplotlib inline\n",
    "\n",
    "# Import Statsmodels,adf and eval measures libraries\n",
    "from statsmodels.tsa.api import VAR\n",
    "from statsmodels.tsa.stattools import adfuller\n",
    "from statsmodels.tools.eval_measures import rmse, aic"
   ]
  },
  {
   "cell_type": "markdown",
   "metadata": {},
   "source": [
    "<h2>Load data</h2>"
   ]
  },
  {
   "cell_type": "code",
   "execution_count": 407,
   "metadata": {},
   "outputs": [
    {
     "data": {
      "text/html": [
       "<div>\n",
       "<style scoped>\n",
       "    .dataframe tbody tr th:only-of-type {\n",
       "        vertical-align: middle;\n",
       "    }\n",
       "\n",
       "    .dataframe tbody tr th {\n",
       "        vertical-align: top;\n",
       "    }\n",
       "\n",
       "    .dataframe thead th {\n",
       "        text-align: right;\n",
       "    }\n",
       "</style>\n",
       "<table border=\"1\" class=\"dataframe\">\n",
       "  <thead>\n",
       "    <tr style=\"text-align: right;\">\n",
       "      <th></th>\n",
       "      <th>Date</th>\n",
       "      <th>Buy_stock_amount</th>\n",
       "      <th>Selling_stock_amount</th>\n",
       "    </tr>\n",
       "  </thead>\n",
       "  <tbody>\n",
       "    <tr>\n",
       "      <th>0</th>\n",
       "      <td>01-01-2021</td>\n",
       "      <td>1518.43</td>\n",
       "      <td>3593.48</td>\n",
       "    </tr>\n",
       "    <tr>\n",
       "      <th>1</th>\n",
       "      <td>02-01-2021</td>\n",
       "      <td>1517.35</td>\n",
       "      <td>3593.19</td>\n",
       "    </tr>\n",
       "    <tr>\n",
       "      <th>2</th>\n",
       "      <td>03-01-2021</td>\n",
       "      <td>1517.87</td>\n",
       "      <td>3618.81</td>\n",
       "    </tr>\n",
       "    <tr>\n",
       "      <th>3</th>\n",
       "      <td>04-01-2021</td>\n",
       "      <td>1521.39</td>\n",
       "      <td>3622.37</td>\n",
       "    </tr>\n",
       "    <tr>\n",
       "      <th>4</th>\n",
       "      <td>05-01-2021</td>\n",
       "      <td>1532.26</td>\n",
       "      <td>3654.15</td>\n",
       "    </tr>\n",
       "  </tbody>\n",
       "</table>\n",
       "</div>"
      ],
      "text/plain": [
       "         Date  Buy_stock_amount  Selling_stock_amount\n",
       "0  01-01-2021           1518.43               3593.48\n",
       "1  02-01-2021           1517.35               3593.19\n",
       "2  03-01-2021           1517.87               3618.81\n",
       "3  04-01-2021           1521.39               3622.37\n",
       "4  05-01-2021           1532.26               3654.15"
      ]
     },
     "execution_count": 407,
     "metadata": {},
     "output_type": "execute_result"
    }
   ],
   "source": [
    "df_Stock_Buy_Selling = pd.read_csv('Stock_Buy_Selling.csv')\n",
    "df_Stock_Buy_Selling.head()"
   ]
  },
  {
   "cell_type": "markdown",
   "metadata": {},
   "source": [
    "<h2>Preparing the dataset</h2>"
   ]
  },
  {
   "cell_type": "code",
   "execution_count": 408,
   "metadata": {},
   "outputs": [
    {
     "name": "stdout",
     "output_type": "stream",
     "text": [
      "######################\n",
      "Preparing the dataset\n",
      "######################\n"
     ]
    },
    {
     "data": {
      "text/html": [
       "<div>\n",
       "<style scoped>\n",
       "    .dataframe tbody tr th:only-of-type {\n",
       "        vertical-align: middle;\n",
       "    }\n",
       "\n",
       "    .dataframe tbody tr th {\n",
       "        vertical-align: top;\n",
       "    }\n",
       "\n",
       "    .dataframe thead th {\n",
       "        text-align: right;\n",
       "    }\n",
       "</style>\n",
       "<table border=\"1\" class=\"dataframe\">\n",
       "  <thead>\n",
       "    <tr style=\"text-align: right;\">\n",
       "      <th></th>\n",
       "      <th>Buy_stock_amount</th>\n",
       "      <th>Selling_stock_amount</th>\n",
       "    </tr>\n",
       "  </thead>\n",
       "  <tbody>\n",
       "    <tr>\n",
       "      <th>0</th>\n",
       "      <td>1518.43</td>\n",
       "      <td>3593.48</td>\n",
       "    </tr>\n",
       "    <tr>\n",
       "      <th>1</th>\n",
       "      <td>1517.35</td>\n",
       "      <td>3593.19</td>\n",
       "    </tr>\n",
       "    <tr>\n",
       "      <th>2</th>\n",
       "      <td>1517.87</td>\n",
       "      <td>3618.81</td>\n",
       "    </tr>\n",
       "    <tr>\n",
       "      <th>3</th>\n",
       "      <td>1521.39</td>\n",
       "      <td>3622.37</td>\n",
       "    </tr>\n",
       "    <tr>\n",
       "      <th>4</th>\n",
       "      <td>1532.26</td>\n",
       "      <td>3654.15</td>\n",
       "    </tr>\n",
       "  </tbody>\n",
       "</table>\n",
       "</div>"
      ],
      "text/plain": [
       "   Buy_stock_amount  Selling_stock_amount\n",
       "0           1518.43               3593.48\n",
       "1           1517.35               3593.19\n",
       "2           1517.87               3618.81\n",
       "3           1521.39               3622.37\n",
       "4           1532.26               3654.15"
      ]
     },
     "execution_count": 408,
     "metadata": {},
     "output_type": "execute_result"
    }
   ],
   "source": [
    "print(\"######################\")\n",
    "print(\"Preparing the dataset\")\n",
    "print(\"######################\")\n",
    "\n",
    "df_Stock_Buy_Selling = df_Stock_Buy_Selling[[\"Buy_stock_amount\",\"Selling_stock_amount\"]]\n",
    "df_Stock_Buy_Selling.head()"
   ]
  },
  {
   "cell_type": "markdown",
   "metadata": {},
   "source": [
    "<h2>Visualization of dataset</h2>"
   ]
  },
  {
   "cell_type": "code",
   "execution_count": 409,
   "metadata": {},
   "outputs": [
    {
     "name": "stdout",
     "output_type": "stream",
     "text": [
      "\t\t\t\t**********************************************\n",
      "\t\t\t\t   Visualization of Stock Buy and Selling     \n",
      "\t\t\t\t**********************************************\n"
     ]
    },
    {
     "data": {
      "text/plain": [
       "<matplotlib.axes._subplots.AxesSubplot at 0x2bc561c70a0>"
      ]
     },
     "execution_count": 409,
     "metadata": {},
     "output_type": "execute_result"
    },
    {
     "data": {
      "image/png": "[encoded data removed]",
      "text/plain": [
       "<Figure size 432x288 with 1 Axes>"
      ]
     },
     "metadata": {
      "needs_background": "light"
     },
     "output_type": "display_data"
    }
   ],
   "source": [
    "print(\"\\t\\t\\t\\t**********************************************\")\n",
    "print(\"\\t\\t\\t\\t   Visualization of Stock Buy and Selling     \")\n",
    "print(\"\\t\\t\\t\\t**********************************************\")\n",
    "df_Stock_Buy_Selling.plot()"
   ]
  },
  {
   "cell_type": "code",
   "execution_count": 410,
   "metadata": {},
   "outputs": [
    {
     "name": "stdout",
     "output_type": "stream",
     "text": [
      "\t\t\t\t**********************************************************************\n",
      "\t\t\t\t   Pattern of TS in their log values of Stock Buy and Selling data    \n",
      "\t\t\t\t**********************************************************************\n"
     ]
    },
    {
     "data": {
      "text/plain": [
       "<matplotlib.axes._subplots.AxesSubplot at 0x2bc58728550>"
      ]
     },
     "execution_count": 410,
     "metadata": {},
     "output_type": "execute_result"
    },
    {
     "data": {
      "image/png": "[encoded data removed]",
      "text/plain": [
       "<Figure size 432x288 with 1 Axes>"
      ]
     },
     "metadata": {
      "needs_background": "light"
     },
     "output_type": "display_data"
    }
   ],
   "source": [
    "print(\"\\t\\t\\t\\t**********************************************************************\")\n",
    "print(\"\\t\\t\\t\\t   Pattern of TS in their log values of Stock Buy and Selling data    \")\n",
    "print(\"\\t\\t\\t\\t**********************************************************************\")\n",
    "\n",
    "data = np.log(df_Stock_Buy_Selling).diff().dropna()\n",
    "data.plot()"
   ]
  },
  {
   "cell_type": "markdown",
   "metadata": {},
   "source": [
    "<h2>Check for Stationarity -Dickey-fuller Test</h2>"
   ]
  },
  {
   "cell_type": "code",
   "execution_count": 411,
   "metadata": {},
   "outputs": [
    {
     "name": "stdout",
     "output_type": "stream",
     "text": [
      "*********************************************\n",
      "Dickey-fuller Test - Result- Buy_stock_amount\n",
      "*********************************************\n",
      "Test Statistic                    2.727828\n",
      "p-value                           0.999088\n",
      "#lags used                        4.000000\n",
      "Observation numbers for test    194.000000\n",
      "critical value (1%)              -3.464515\n",
      "critical value (5%)              -2.876556\n",
      "critical value (10%)             -2.574775\n",
      "dtype: float64\n",
      "**************************************************\n",
      "Dickey-fuller Test - Result (Selling_stock_amount)\n",
      "**************************************************\n",
      "Test Statistic                   -0.345914\n",
      "p-value                           0.918745\n",
      "#lags used                        4.000000\n",
      "Observation numbers for test    194.000000\n",
      "critical value (1%)              -3.464515\n",
      "critical value (5%)              -2.876556\n",
      "critical value (10%)             -2.574775\n",
      "dtype: float64\n"
     ]
    }
   ],
   "source": [
    "print(\"*********************************************\")\n",
    "print(\"Dickey-fuller Test - Result- Buy_stock_amount\")\n",
    "print(\"*********************************************\")\n",
    "#calling adfuller function for diesel price with autolag='AIC'\n",
    "df_adftest = adfuller(df_Stock_Buy_Selling[\"Buy_stock_amount\"],autolag='AIC')\n",
    "#getting output from df_adftest\n",
    "dfoutput=pd.Series(df_adftest[0:4],index=['Test Statistic','p-value','#lags used','Observation numbers for test'])\n",
    "for key,value in df_adftest[4].items():\n",
    "    dfoutput['critical value (%s)'%key]= value\n",
    "print(dfoutput)\n",
    "\n",
    "print(\"**************************************************\")\n",
    "print(\"Dickey-fuller Test - Result (Selling_stock_amount)\")\n",
    "print(\"**************************************************\")\n",
    "#calling adfuller function for diesel price with autolag='AIC'\n",
    "df_adftest = adfuller(df_Stock_Buy_Selling[\"Selling_stock_amount\"],autolag='AIC')\n",
    "#getting output from df_adftest\n",
    "dfoutput=pd.Series(df_adftest[0:4],index=['Test Statistic','p-value','#lags used','Observation numbers for test'])\n",
    "for key,value in df_adftest[4].items():\n",
    "    dfoutput['critical value (%s)'%key]= value\n",
    "print(dfoutput)"
   ]
  },
  {
   "cell_type": "markdown",
   "metadata": {},
   "source": [
    "<h2>Train-Test Split</h2>"
   ]
  },
  {
   "cell_type": "code",
   "execution_count": 412,
   "metadata": {},
   "outputs": [
    {
     "name": "stdout",
     "output_type": "stream",
     "text": [
      "#################################\n",
      "          Train-Test Split       \n",
      "#################################\n",
      "Train datset size: (129, 2)\n",
      "Test datset size: (70, 2)\n"
     ]
    }
   ],
   "source": [
    "print(\"#################################\")\n",
    "print(\"          Train-Test Split       \")\n",
    "print(\"#################################\")\n",
    "test_split = 70\n",
    "df_train = df_Stock_Buy_Selling[:-test_split]\n",
    "df_test = df_Stock_Buy_Selling[-test_split:]\n",
    "# Check size\n",
    "print(\"Train datset size:\",df_train.shape) \n",
    "print(\"Test datset size:\",df_test.shape)"
   ]
  },
  {
   "cell_type": "code",
   "execution_count": 413,
   "metadata": {},
   "outputs": [
    {
     "data": {
      "text/html": [
       "<div>\n",
       "<style scoped>\n",
       "    .dataframe tbody tr th:only-of-type {\n",
       "        vertical-align: middle;\n",
       "    }\n",
       "\n",
       "    .dataframe tbody tr th {\n",
       "        vertical-align: top;\n",
       "    }\n",
       "\n",
       "    .dataframe thead th {\n",
       "        text-align: right;\n",
       "    }\n",
       "</style>\n",
       "<table border=\"1\" class=\"dataframe\">\n",
       "  <thead>\n",
       "    <tr style=\"text-align: right;\">\n",
       "      <th></th>\n",
       "      <th>Buy_stock_amount</th>\n",
       "      <th>Selling_stock_amount</th>\n",
       "    </tr>\n",
       "  </thead>\n",
       "  <tbody>\n",
       "    <tr>\n",
       "      <th>0</th>\n",
       "      <td>1518.43</td>\n",
       "      <td>3593.48</td>\n",
       "    </tr>\n",
       "    <tr>\n",
       "      <th>1</th>\n",
       "      <td>1517.35</td>\n",
       "      <td>3593.19</td>\n",
       "    </tr>\n",
       "    <tr>\n",
       "      <th>2</th>\n",
       "      <td>1517.87</td>\n",
       "      <td>3618.81</td>\n",
       "    </tr>\n",
       "    <tr>\n",
       "      <th>3</th>\n",
       "      <td>1521.39</td>\n",
       "      <td>3622.37</td>\n",
       "    </tr>\n",
       "    <tr>\n",
       "      <th>4</th>\n",
       "      <td>1532.26</td>\n",
       "      <td>3654.15</td>\n",
       "    </tr>\n",
       "  </tbody>\n",
       "</table>\n",
       "</div>"
      ],
      "text/plain": [
       "   Buy_stock_amount  Selling_stock_amount\n",
       "0           1518.43               3593.48\n",
       "1           1517.35               3593.19\n",
       "2           1517.87               3618.81\n",
       "3           1521.39               3622.37\n",
       "4           1532.26               3654.15"
      ]
     },
     "execution_count": 413,
     "metadata": {},
     "output_type": "execute_result"
    }
   ],
   "source": [
    "df_train.head()"
   ]
  },
  {
   "cell_type": "code",
   "execution_count": 414,
   "metadata": {},
   "outputs": [
    {
     "data": {
      "text/html": [
       "<div>\n",
       "<style scoped>\n",
       "    .dataframe tbody tr th:only-of-type {\n",
       "        vertical-align: middle;\n",
       "    }\n",
       "\n",
       "    .dataframe tbody tr th {\n",
       "        vertical-align: top;\n",
       "    }\n",
       "\n",
       "    .dataframe thead th {\n",
       "        text-align: right;\n",
       "    }\n",
       "</style>\n",
       "<table border=\"1\" class=\"dataframe\">\n",
       "  <thead>\n",
       "    <tr style=\"text-align: right;\">\n",
       "      <th></th>\n",
       "      <th>Buy_stock_amount</th>\n",
       "      <th>Selling_stock_amount</th>\n",
       "    </tr>\n",
       "  </thead>\n",
       "  <tbody>\n",
       "    <tr>\n",
       "      <th>129</th>\n",
       "      <td>2880.04</td>\n",
       "      <td>6612.30</td>\n",
       "    </tr>\n",
       "    <tr>\n",
       "      <th>130</th>\n",
       "      <td>2887.26</td>\n",
       "      <td>6621.11</td>\n",
       "    </tr>\n",
       "    <tr>\n",
       "      <th>131</th>\n",
       "      <td>2898.87</td>\n",
       "      <td>6644.15</td>\n",
       "    </tr>\n",
       "    <tr>\n",
       "      <th>132</th>\n",
       "      <td>2917.35</td>\n",
       "      <td>6710.96</td>\n",
       "    </tr>\n",
       "    <tr>\n",
       "      <th>133</th>\n",
       "      <td>2927.91</td>\n",
       "      <td>6733.41</td>\n",
       "    </tr>\n",
       "  </tbody>\n",
       "</table>\n",
       "</div>"
      ],
      "text/plain": [
       "     Buy_stock_amount  Selling_stock_amount\n",
       "129           2880.04               6612.30\n",
       "130           2887.26               6621.11\n",
       "131           2898.87               6644.15\n",
       "132           2917.35               6710.96\n",
       "133           2927.91               6733.41"
      ]
     },
     "execution_count": 414,
     "metadata": {},
     "output_type": "execute_result"
    }
   ],
   "source": [
    "df_test.head()"
   ]
  },
  {
   "cell_type": "code",
   "execution_count": 415,
   "metadata": {},
   "outputs": [
    {
     "name": "stdout",
     "output_type": "stream",
     "text": [
      "#################################\n",
      "   Applying 1st difference       \n",
      "#################################\n"
     ]
    },
    {
     "data": {
      "text/html": [
       "<div>\n",
       "<style scoped>\n",
       "    .dataframe tbody tr th:only-of-type {\n",
       "        vertical-align: middle;\n",
       "    }\n",
       "\n",
       "    .dataframe tbody tr th {\n",
       "        vertical-align: top;\n",
       "    }\n",
       "\n",
       "    .dataframe thead th {\n",
       "        text-align: right;\n",
       "    }\n",
       "</style>\n",
       "<table border=\"1\" class=\"dataframe\">\n",
       "  <thead>\n",
       "    <tr style=\"text-align: right;\">\n",
       "      <th></th>\n",
       "      <th>Buy_stock_amount</th>\n",
       "      <th>Selling_stock_amount</th>\n",
       "    </tr>\n",
       "  </thead>\n",
       "  <tbody>\n",
       "    <tr>\n",
       "      <th>1</th>\n",
       "      <td>-1.08</td>\n",
       "      <td>-0.29</td>\n",
       "    </tr>\n",
       "    <tr>\n",
       "      <th>2</th>\n",
       "      <td>0.52</td>\n",
       "      <td>25.62</td>\n",
       "    </tr>\n",
       "    <tr>\n",
       "      <th>3</th>\n",
       "      <td>3.52</td>\n",
       "      <td>3.56</td>\n",
       "    </tr>\n",
       "    <tr>\n",
       "      <th>4</th>\n",
       "      <td>10.87</td>\n",
       "      <td>31.78</td>\n",
       "    </tr>\n",
       "    <tr>\n",
       "      <th>5</th>\n",
       "      <td>10.74</td>\n",
       "      <td>32.89</td>\n",
       "    </tr>\n",
       "  </tbody>\n",
       "</table>\n",
       "</div>"
      ],
      "text/plain": [
       "   Buy_stock_amount  Selling_stock_amount\n",
       "1             -1.08                 -0.29\n",
       "2              0.52                 25.62\n",
       "3              3.52                  3.56\n",
       "4             10.87                 31.78\n",
       "5             10.74                 32.89"
      ]
     },
     "execution_count": 415,
     "metadata": {},
     "output_type": "execute_result"
    }
   ],
   "source": [
    "print(\"#################################\")\n",
    "print(\"   Applying 1st difference       \")\n",
    "print(\"#################################\")\n",
    "df_differ = df_train.diff().dropna()\n",
    "df_differ.head()"
   ]
  },
  {
   "cell_type": "code",
   "execution_count": 416,
   "metadata": {},
   "outputs": [
    {
     "name": "stdout",
     "output_type": "stream",
     "text": [
      "****************************************************\n",
      "Re-run Dickey-fuller Test - Result- Buy_stock_amount\n",
      "****************************************************\n",
      "Test Statistic                   -5.352843\n",
      "p-value                           0.000004\n",
      "#lags used                        3.000000\n",
      "Observation numbers for test    124.000000\n",
      "critical value (1%)              -3.484220\n",
      "critical value (5%)              -2.885145\n",
      "critical value (10%)             -2.579359\n",
      "dtype: float64\n",
      "*********************************************************\n",
      "Re-run Dickey-fuller Test - Result (Selling_stock_amount)\n",
      "*********************************************************\n",
      "Test Statistic                   -1.104614\n",
      "p-value                           0.713228\n",
      "#lags used                        9.000000\n",
      "Observation numbers for test    118.000000\n",
      "critical value (1%)              -3.487022\n",
      "critical value (5%)              -2.886363\n",
      "critical value (10%)             -2.580009\n",
      "dtype: float64\n"
     ]
    }
   ],
   "source": [
    "print(\"****************************************************\")\n",
    "print(\"Re-run Dickey-fuller Test - Result- Buy_stock_amount\")\n",
    "print(\"****************************************************\")\n",
    "df_adftest = adfuller(df_differ[\"Buy_stock_amount\"],autolag='AIC')\n",
    "dfoutput=pd.Series(df_adftest[0:4],index=['Test Statistic','p-value','#lags used','Observation numbers for test'])\n",
    "for key,value in df_adftest[4].items():\n",
    "    dfoutput['critical value (%s)'%key]= value\n",
    "print(dfoutput)\n",
    "\n",
    "print(\"*********************************************************\")\n",
    "print(\"Re-run Dickey-fuller Test - Result (Selling_stock_amount)\")\n",
    "print(\"*********************************************************\")\n",
    "df_adftest = adfuller(df_differ[\"Selling_stock_amount\"],autolag='AIC')\n",
    "dfoutput=pd.Series(df_adftest[0:4],index=['Test Statistic','p-value','#lags used','Observation numbers for test'])\n",
    "for key,value in df_adftest[4].items():\n",
    "    dfoutput['critical value (%s)'%key]= value\n",
    "print(dfoutput)"
   ]
  },
  {
   "cell_type": "code",
   "execution_count": null,
   "metadata": {},
   "outputs": [],
   "source": []
  },
  {
   "cell_type": "markdown",
   "metadata": {},
   "source": [
    "<h2>Grid Search for Order P</h2>"
   ]
  },
  {
   "cell_type": "code",
   "execution_count": 418,
   "metadata": {},
   "outputs": [
    {
     "name": "stdout",
     "output_type": "stream",
     "text": [
      "****************************************************************\n",
      "      Select the Order (P) of VAR model using select_order      \n",
      "****************************************************************\n"
     ]
    },
    {
     "data": {
      "text/html": [
       "<table class=\"simpletable\">\n",
       "<caption>VAR Order Selection (* highlights the minimums)</caption>\n",
       "<tr>\n",
       "   <td></td>      <th>AIC</th>         <th>BIC</th>         <th>FPE</th>        <th>HQIC</th>    \n",
       "</tr>\n",
       "<tr>\n",
       "  <th>0</th>  <td>     21.13</td>  <td>     21.18</td>  <td> 1.508e+09</td>  <td>     21.15</td> \n",
       "</tr>\n",
       "<tr>\n",
       "  <th>1</th>  <td>     10.47</td>  <td>     10.61</td>  <td> 3.516e+04</td>  <td>     10.53</td> \n",
       "</tr>\n",
       "<tr>\n",
       "  <th>2</th>  <td>     10.34</td>  <td>     10.58*</td> <td> 3.095e+04</td>  <td>     10.44*</td>\n",
       "</tr>\n",
       "<tr>\n",
       "  <th>3</th>  <td>     10.36</td>  <td>     10.69</td>  <td> 3.148e+04</td>  <td>     10.49</td> \n",
       "</tr>\n",
       "<tr>\n",
       "  <th>4</th>  <td>     10.29</td>  <td>     10.72</td>  <td> 2.948e+04</td>  <td>     10.46</td> \n",
       "</tr>\n",
       "<tr>\n",
       "  <th>5</th>  <td>     10.26</td>  <td>     10.78</td>  <td> 2.862e+04</td>  <td>     10.47</td> \n",
       "</tr>\n",
       "<tr>\n",
       "  <th>6</th>  <td>     10.25*</td> <td>     10.87</td>  <td> 2.839e+04*</td> <td>     10.50</td> \n",
       "</tr>\n",
       "<tr>\n",
       "  <th>7</th>  <td>     10.26</td>  <td>     10.98</td>  <td> 2.877e+04</td>  <td>     10.55</td> \n",
       "</tr>\n",
       "<tr>\n",
       "  <th>8</th>  <td>     10.30</td>  <td>     11.11</td>  <td> 2.997e+04</td>  <td>     10.63</td> \n",
       "</tr>\n",
       "<tr>\n",
       "  <th>9</th>  <td>     10.35</td>  <td>     11.26</td>  <td> 3.157e+04</td>  <td>     10.72</td> \n",
       "</tr>\n",
       "<tr>\n",
       "  <th>10</th> <td>     10.27</td>  <td>     11.26</td>  <td> 2.899e+04</td>  <td>     10.67</td> \n",
       "</tr>\n",
       "<tr>\n",
       "  <th>11</th> <td>     10.26</td>  <td>     11.35</td>  <td> 2.875e+04</td>  <td>     10.70</td> \n",
       "</tr>\n",
       "<tr>\n",
       "  <th>12</th> <td>     10.28</td>  <td>     11.46</td>  <td> 2.941e+04</td>  <td>     10.76</td> \n",
       "</tr>\n",
       "<tr>\n",
       "  <th>13</th> <td>     10.30</td>  <td>     11.59</td>  <td> 3.036e+04</td>  <td>     10.82</td> \n",
       "</tr>\n",
       "</table>"
      ],
      "text/latex": [
       "\\begin{center}\n",
       "\\begin{tabular}{lcccc}\n",
       "\\toprule\n",
       "            & \\textbf{AIC} & \\textbf{BIC} & \\textbf{FPE} & \\textbf{HQIC}  \\\\\n",
       "\\midrule\n",
       "\\textbf{0}  &       21.13  &       21.18  &   1.508e+09  &        21.15   \\\\\n",
       "\\textbf{1}  &       10.47  &       10.61  &   3.516e+04  &        10.53   \\\\\n",
       "\\textbf{2}  &       10.34  &      10.58*  &   3.095e+04  &       10.44*   \\\\\n",
       "\\textbf{3}  &       10.36  &       10.69  &   3.148e+04  &        10.49   \\\\\n",
       "\\textbf{4}  &       10.29  &       10.72  &   2.948e+04  &        10.46   \\\\\n",
       "\\textbf{5}  &       10.26  &       10.78  &   2.862e+04  &        10.47   \\\\\n",
       "\\textbf{6}  &      10.25*  &       10.87  &  2.839e+04*  &        10.50   \\\\\n",
       "\\textbf{7}  &       10.26  &       10.98  &   2.877e+04  &        10.55   \\\\\n",
       "\\textbf{8}  &       10.30  &       11.11  &   2.997e+04  &        10.63   \\\\\n",
       "\\textbf{9}  &       10.35  &       11.26  &   3.157e+04  &        10.72   \\\\\n",
       "\\textbf{10} &       10.27  &       11.26  &   2.899e+04  &        10.67   \\\\\n",
       "\\textbf{11} &       10.26  &       11.35  &   2.875e+04  &        10.70   \\\\\n",
       "\\textbf{12} &       10.28  &       11.46  &   2.941e+04  &        10.76   \\\\\n",
       "\\textbf{13} &       10.30  &       11.59  &   3.036e+04  &        10.82   \\\\\n",
       "\\bottomrule\n",
       "\\end{tabular}\n",
       "%\\caption{VAR Order Selection (* highlights the minimums)}\n",
       "\\end{center}"
      ],
      "text/plain": [
       "<class 'statsmodels.iolib.table.SimpleTable'>"
      ]
     },
     "execution_count": 418,
     "metadata": {},
     "output_type": "execute_result"
    }
   ],
   "source": [
    "print(\"****************************************************************\")\n",
    "print(\"      Select the Order (P) of VAR model using select_order      \")\n",
    "print(\"****************************************************************\")\n",
    "Order_of_VAR_model= var_model.select_order()\n",
    "Order_of_VAR_model.summary()"
   ]
  },
  {
   "cell_type": "code",
   "execution_count": 397,
   "metadata": {},
   "outputs": [
    {
     "name": "stdout",
     "output_type": "stream",
     "text": [
      "****************************************************************\n",
      "      Select the Order (P) of VAR model using iterative method  \n",
      "****************************************************************\n",
      "******************************\n",
      "Order = 1\n",
      "AIC:  10.349366797840396\n",
      "BIC:  10.483055716461628\n",
      "******************************\n",
      "******************************\n",
      "Order = 2\n",
      "AIC:  10.206042474464235\n",
      "BIC:  10.429994213555464\n",
      "******************************\n",
      "******************************\n",
      "Order = 3\n",
      "AIC:  10.225571325080146\n",
      "BIC:  10.540713759185866\n",
      "******************************\n",
      "******************************\n",
      "Order = 4\n",
      "AIC:  10.176869167828809\n",
      "BIC:  10.58414634600034\n",
      "******************************\n",
      "******************************\n",
      "Order = 5\n",
      "AIC:  10.149485037266157\n",
      "BIC:  10.649857573099307\n",
      "******************************\n",
      "******************************\n",
      "Order = 6\n",
      "AIC:  10.155201687131003\n",
      "BIC:  10.74964716062436\n",
      "******************************\n",
      "******************************\n",
      "Order = 7\n",
      "AIC:  10.168084326759509\n",
      "BIC:  10.857597698415228\n",
      "******************************\n",
      "******************************\n",
      "Order = 8\n",
      "AIC:  10.221372940824974\n",
      "BIC:  11.006966978430668\n",
      "******************************\n",
      "******************************\n",
      "Order = 9\n",
      "AIC:  10.290962763511747\n",
      "BIC:  11.173668482059394\n",
      "******************************\n"
     ]
    }
   ],
   "source": [
    "print(\"****************************************************************\")\n",
    "print(\"      Select the Order (P) of VAR model using iterative method  \")\n",
    "print(\"****************************************************************\")\n",
    "for i in range(1,10):\n",
    "    VAR_results = var_model.fit(i)\n",
    "    print(\"******************************\")\n",
    "    print(\"Order =\", i)\n",
    "    print(\"AIC: \", VAR_results.aic)\n",
    "    print(\"BIC: \", VAR_results.bic)\n",
    "    print(\"******************************\")"
   ]
  },
  {
   "cell_type": "markdown",
   "metadata": {},
   "source": [
    "<h2> Fit the model at 4</h2>"
   ]
  },
  {
   "cell_type": "code",
   "execution_count": 398,
   "metadata": {},
   "outputs": [
    {
     "name": "stdout",
     "output_type": "stream",
     "text": [
      "*****************************************\n",
      "      Building VAR model and summary     \n",
      "*****************************************\n"
     ]
    },
    {
     "data": {
      "text/plain": [
       "  Summary of Regression Results   \n",
       "==================================\n",
       "Model:                         VAR\n",
       "Method:                        OLS\n",
       "Date:           Sat, 01, Jul, 2023\n",
       "Time:                     16:49:51\n",
       "--------------------------------------------------------------------\n",
       "No. of Equations:         2.00000    BIC:                    10.5841\n",
       "Nobs:                     125.000    HQIC:                   10.3423\n",
       "Log likelihood:          -972.789    FPE:                    26301.2\n",
       "AIC:                      10.1769    Det(Omega_mle):         22886.8\n",
       "--------------------------------------------------------------------\n",
       "Results for equation Buy_stock_amount\n",
       "==========================================================================================\n",
       "                             coefficient       std. error           t-stat            prob\n",
       "------------------------------------------------------------------------------------------\n",
       "const                          -8.054644         6.241317           -1.291           0.197\n",
       "L1.Buy_stock_amount             1.104450         0.091551           12.064           0.000\n",
       "L1.Selling_stock_amount         0.029362         0.032138            0.914           0.361\n",
       "L2.Buy_stock_amount            -0.106893         0.139745           -0.765           0.444\n",
       "L2.Selling_stock_amount        -0.067499         0.036673           -1.841           0.066\n",
       "L3.Buy_stock_amount             0.166618         0.140154            1.189           0.235\n",
       "L3.Selling_stock_amount        -0.011132         0.037068           -0.300           0.764\n",
       "L4.Buy_stock_amount            -0.192696         0.090272           -2.135           0.033\n",
       "L4.Selling_stock_amount         0.065118         0.032926            1.978           0.048\n",
       "==========================================================================================\n",
       "\n",
       "Results for equation Selling_stock_amount\n",
       "==========================================================================================\n",
       "                             coefficient       std. error           t-stat            prob\n",
       "------------------------------------------------------------------------------------------\n",
       "const                          -1.515808        18.081774           -0.084           0.933\n",
       "L1.Buy_stock_amount             0.256539         0.265232            0.967           0.333\n",
       "L1.Selling_stock_amount         0.539063         0.093106            5.790           0.000\n",
       "L2.Buy_stock_amount            -0.373243         0.404857           -0.922           0.357\n",
       "L2.Selling_stock_amount         0.266555         0.106246            2.509           0.012\n",
       "L3.Buy_stock_amount            -0.536521         0.406040           -1.321           0.186\n",
       "L3.Selling_stock_amount         0.169385         0.107389            1.577           0.115\n",
       "L4.Buy_stock_amount             0.651524         0.261529            2.491           0.013\n",
       "L4.Selling_stock_amount         0.035254         0.095391            0.370           0.712\n",
       "==========================================================================================\n",
       "\n",
       "Correlation matrix of residuals\n",
       "                        Buy_stock_amount  Selling_stock_amount\n",
       "Buy_stock_amount                1.000000             -0.213597\n",
       "Selling_stock_amount           -0.213597              1.000000\n",
       "\n"
      ]
     },
     "execution_count": 398,
     "metadata": {},
     "output_type": "execute_result"
    }
   ],
   "source": [
    "print(\"*****************************************\")\n",
    "print(\"      Building VAR model and summary     \")\n",
    "print(\"*****************************************\")\n",
    "VAR_results = var_model.fit(4)\n",
    "VAR_results.summary()"
   ]
  },
  {
   "cell_type": "code",
   "execution_count": 399,
   "metadata": {},
   "outputs": [
    {
     "name": "stdout",
     "output_type": "stream",
     "text": [
      "**********************************************************************************\n",
      "Analysis of Serial Correlation of Residuals  using Durbin Watson Statistic        \n",
      "**********************************************************************************\n",
      "Buy_stock_amount : 1.87\n",
      "Selling_stock_amount : 2.04\n"
     ]
    }
   ],
   "source": [
    "print(\"**********************************************************************************\")\n",
    "print(\"Analysis of Serial Correlation of Residuals  using Durbin Watson Statistic        \")\n",
    "print(\"**********************************************************************************\")\n",
    "from statsmodels.stats.stattools import durbin_watson\n",
    "ScoR_DWS = durbin_watson(VAR_results.resid)\n",
    "for col, val in zip(df_Stock_Buy_Selling.columns, ScoR_DWS):\n",
    "    print(adjust(col), ':', round(val, 2))"
   ]
  },
  {
   "cell_type": "markdown",
   "metadata": {},
   "source": [
    "<h2> Forecast VAR model </h2>"
   ]
  },
  {
   "cell_type": "code",
   "execution_count": 400,
   "metadata": {},
   "outputs": [
    {
     "name": "stdout",
     "output_type": "stream",
     "text": [
      "*************************************\n",
      "Get the lag order from the VAR model \n",
      "*************************************\n",
      "lag order : 4\n"
     ]
    }
   ],
   "source": [
    "print(\"*************************************\")\n",
    "print(\"Get the lag order from the VAR model \")\n",
    "print(\"*************************************\")\n",
    "lag_order = VAR_results.k_ar\n",
    "print(\"lag order :\",lag_order)"
   ]
  },
  {
   "cell_type": "code",
   "execution_count": 401,
   "metadata": {},
   "outputs": [
    {
     "name": "stdout",
     "output_type": "stream",
     "text": [
      "*******************************\n",
      "Building Forecasting using lag \n",
      "*******************************\n"
     ]
    },
    {
     "data": {
      "text/plain": [
       "array([[14.08, 59.92],\n",
       "       [13.74, 77.56],\n",
       "       [14.26,  2.15],\n",
       "       [14.7 , 39.55]])"
      ]
     },
     "execution_count": 401,
     "metadata": {},
     "output_type": "execute_result"
    }
   ],
   "source": [
    "print(\"*******************************\")\n",
    "print(\"Building Forecasting using lag \")\n",
    "print(\"*******************************\")\n",
    "forecast_input = df_differ.values[-lag_order:]\n",
    "forecast_input"
   ]
  },
  {
   "cell_type": "code",
   "execution_count": 402,
   "metadata": {},
   "outputs": [
    {
     "name": "stdout",
     "output_type": "stream",
     "text": [
      "*********************************\n",
      "Forecasting Dataset for analysis \n",
      "*********************************\n"
     ]
    },
    {
     "data": {
      "text/html": [
       "<div>\n",
       "<style scoped>\n",
       "    .dataframe tbody tr th:only-of-type {\n",
       "        vertical-align: middle;\n",
       "    }\n",
       "\n",
       "    .dataframe tbody tr th {\n",
       "        vertical-align: top;\n",
       "    }\n",
       "\n",
       "    .dataframe thead th {\n",
       "        text-align: right;\n",
       "    }\n",
       "</style>\n",
       "<table border=\"1\" class=\"dataframe\">\n",
       "  <thead>\n",
       "    <tr style=\"text-align: right;\">\n",
       "      <th></th>\n",
       "      <th>Buy_stock_amount_2d</th>\n",
       "      <th>Selling_stock_amount_2d</th>\n",
       "    </tr>\n",
       "  </thead>\n",
       "  <tbody>\n",
       "    <tr>\n",
       "      <th>129</th>\n",
       "      <td>10.287239</td>\n",
       "      <td>35.877458</td>\n",
       "    </tr>\n",
       "    <tr>\n",
       "      <th>130</th>\n",
       "      <td>4.874545</td>\n",
       "      <td>29.918678</td>\n",
       "    </tr>\n",
       "    <tr>\n",
       "      <th>131</th>\n",
       "      <td>-5.912631</td>\n",
       "      <td>29.765257</td>\n",
       "    </tr>\n",
       "    <tr>\n",
       "      <th>132</th>\n",
       "      <td>-15.193986</td>\n",
       "      <td>30.697767</td>\n",
       "    </tr>\n",
       "    <tr>\n",
       "      <th>133</th>\n",
       "      <td>-24.478311</td>\n",
       "      <td>31.694967</td>\n",
       "    </tr>\n",
       "    <tr>\n",
       "      <th>...</th>\n",
       "      <td>...</td>\n",
       "      <td>...</td>\n",
       "    </tr>\n",
       "    <tr>\n",
       "      <th>194</th>\n",
       "      <td>-227.615044</td>\n",
       "      <td>85.000887</td>\n",
       "    </tr>\n",
       "    <tr>\n",
       "      <th>195</th>\n",
       "      <td>-227.969646</td>\n",
       "      <td>84.974838</td>\n",
       "    </tr>\n",
       "    <tr>\n",
       "      <th>196</th>\n",
       "      <td>-228.306695</td>\n",
       "      <td>84.942605</td>\n",
       "    </tr>\n",
       "    <tr>\n",
       "      <th>197</th>\n",
       "      <td>-228.627264</td>\n",
       "      <td>84.904524</td>\n",
       "    </tr>\n",
       "    <tr>\n",
       "      <th>198</th>\n",
       "      <td>-228.932362</td>\n",
       "      <td>84.860906</td>\n",
       "    </tr>\n",
       "  </tbody>\n",
       "</table>\n",
       "<p>70 rows × 2 columns</p>\n",
       "</div>"
      ],
      "text/plain": [
       "     Buy_stock_amount_2d  Selling_stock_amount_2d\n",
       "129            10.287239                35.877458\n",
       "130             4.874545                29.918678\n",
       "131            -5.912631                29.765257\n",
       "132           -15.193986                30.697767\n",
       "133           -24.478311                31.694967\n",
       "..                   ...                      ...\n",
       "194          -227.615044                85.000887\n",
       "195          -227.969646                84.974838\n",
       "196          -228.306695                84.942605\n",
       "197          -228.627264                84.904524\n",
       "198          -228.932362                84.860906\n",
       "\n",
       "[70 rows x 2 columns]"
      ]
     },
     "execution_count": 402,
     "metadata": {},
     "output_type": "execute_result"
    }
   ],
   "source": [
    "print(\"*********************************\")\n",
    "print(\"Forecasting Dataset for analysis \")\n",
    "print(\"*********************************\")\n",
    "fc_Stock_Buy_Selling = VAR_results.forecast(y=forecast_input, steps=test_split)\n",
    "df_Stock_Buy_Selling_forecast = pd.DataFrame(fc_Stock_Buy_Selling, index=df_Stock_Buy_Selling.index[-test_split:], columns=df_Stock_Buy_Selling.columns + '_2d')\n",
    "df_Stock_Buy_Selling_forecast"
   ]
  },
  {
   "cell_type": "code",
   "execution_count": 403,
   "metadata": {},
   "outputs": [
    {
     "name": "stdout",
     "output_type": "stream",
     "text": [
      "***************************************************\n",
      "    Stock_Buy_Selling    Forecasting Plot          \n",
      "***************************************************\n"
     ]
    },
    {
     "data": {
      "text/plain": [
       "<matplotlib.axes._subplots.AxesSubplot at 0x2bc56196730>"
      ]
     },
     "execution_count": 403,
     "metadata": {},
     "output_type": "execute_result"
    },
    {
     "data": {
      "image/png": "[encoded data removed]",
      "text/plain": [
       "<Figure size 432x288 with 1 Axes>"
      ]
     },
     "metadata": {
      "needs_background": "light"
     },
     "output_type": "display_data"
    }
   ],
   "source": [
    "print(\"***************************************************\")\n",
    "print(\"    Stock_Buy_Selling    Forecasting Plot          \")\n",
    "print(\"***************************************************\")\n",
    "df_Stock_Buy_Selling_forecast.plot()"
   ]
  },
  {
   "cell_type": "code",
   "execution_count": 404,
   "metadata": {},
   "outputs": [
    {
     "name": "stdout",
     "output_type": "stream",
     "text": [
      "***************************\n",
      "       Model Evaluation    \n",
      "***************************\n",
      "Mean : -3585.6982402764497\n",
      "MAE (Mean absolute error)  : 3585.6982402764497\n",
      "MPE (Mean Percentage Error) : -1.0477819392347547\n",
      "RMSE (Root Mean Squared Error) : 3607.4479295363303\n"
     ]
    }
   ],
   "source": [
    "forcast_actual=df_Stock_Buy_Selling_forecast[\"Buy_stock_amount_2d\"] - df_Stock_Buy_Selling[\"Buy_stock_amount\"]\n",
    "forcast_data=df_Stock_Buy_Selling_forecast[\"Buy_stock_amount_2d\"]\n",
    "actual_data=df_Stock_Buy_Selling[\"Buy_stock_amount\"]\n",
    "me = np.mean(forcast_actual) \n",
    "mae = np.mean(np.abs(forcast_actual))\n",
    "mpe = np.mean((forcast_actual)/actual_data)   \n",
    "rmse = np.mean((forcast_actual)**2)**.5 \n",
    "\n",
    "print(\"***************************\")\n",
    "print(\"       Model Evaluation    \")\n",
    "print(\"***************************\")\n",
    "print(\"Mean :\",me)\n",
    "print(\"MAE (Mean absolute error)  :\",mae)\n",
    "print(\"MPE (Mean Percentage Error) :\",mpe)\n",
    "print(\"RMSE (Root Mean Squared Error) :\",rmse)"
   ]
  },
  {
   "cell_type": "markdown",
   "metadata": {},
   "source": [
    "<h2> VARMAX </h2>"
   ]
  },
  {
   "cell_type": "code",
   "execution_count": 489,
   "metadata": {},
   "outputs": [],
   "source": [
    "VARMAX_results=VARMAX(df_train, order=(1, 2))"
   ]
  },
  {
   "cell_type": "code",
   "execution_count": 490,
   "metadata": {},
   "outputs": [],
   "source": [
    "VARMAX_model=VARMAX_results.fit(disp=False)"
   ]
  },
  {
   "cell_type": "code",
   "execution_count": 491,
   "metadata": {},
   "outputs": [
    {
     "data": {
      "text/html": [
       "<table class=\"simpletable\">\n",
       "<caption>Statespace Model Results</caption>\n",
       "<tr>\n",
       "  <th>Dep. Variable:</th>   <td>['Buy_stock_amount', 'Selling_stock_amount']</td> <th>  No. Observations:  </th>    <td>129</td>   \n",
       "</tr>\n",
       "<tr>\n",
       "  <th>Model:</th>                            <td>VARMA(1,2)</td>                  <th>  Log Likelihood     </th> <td>-2511.970</td>\n",
       "</tr>\n",
       "<tr>\n",
       "  <th></th>                                  <td>+ intercept</td>                 <th>  AIC                </th> <td>5057.939</td> \n",
       "</tr>\n",
       "<tr>\n",
       "  <th>Date:</th>                          <td>Mon, 03 Jul 2023</td>               <th>  BIC                </th> <td>5106.556</td> \n",
       "</tr>\n",
       "<tr>\n",
       "  <th>Time:</th>                              <td>01:57:50</td>                   <th>  HQIC               </th> <td>5077.693</td> \n",
       "</tr>\n",
       "<tr>\n",
       "  <th>Sample:</th>                                <td>0</td>                      <th>                     </th>     <td> </td>    \n",
       "</tr>\n",
       "<tr>\n",
       "  <th></th>                                    <td> - 129</td>                    <th>                     </th>     <td> </td>    \n",
       "</tr>\n",
       "<tr>\n",
       "  <th>Covariance Type:</th>                      <td>opg</td>                     <th>                     </th>     <td> </td>    \n",
       "</tr>\n",
       "</table>\n",
       "<table class=\"simpletable\">\n",
       "<tr>\n",
       "  <th>Ljung-Box (L1) (Q):</th>     <td>9.27, 81.09</td> <th>  Jarque-Bera (JB):  </th> <td>20.25, 2.89</td>\n",
       "</tr>\n",
       "<tr>\n",
       "  <th>Prob(Q):</th>                <td>0.00, 0.00</td>  <th>  Prob(JB):          </th> <td>0.00, 0.24</td> \n",
       "</tr>\n",
       "<tr>\n",
       "  <th>Heteroskedasticity (H):</th> <td>3.80, 6.63</td>  <th>  Skew:              </th> <td>0.14, 0.23</td> \n",
       "</tr>\n",
       "<tr>\n",
       "  <th>Prob(H) (two-sided):</th>    <td>0.00, 0.00</td>  <th>  Kurtosis:          </th> <td>4.92, 2.43</td> \n",
       "</tr>\n",
       "</table>\n",
       "<table class=\"simpletable\">\n",
       "<caption>Results for equation Buy_stock_amount</caption>\n",
       "<tr>\n",
       "               <td></td>                 <th>coef</th>     <th>std err</th>      <th>z</th>      <th>P>|z|</th>  <th>[0.025</th>    <th>0.975]</th>  \n",
       "</tr>\n",
       "<tr>\n",
       "  <th>intercept</th>                  <td> 2124.6367</td> <td>   20.133</td> <td>  105.529</td> <td> 0.000</td> <td> 2085.176</td> <td> 2164.097</td>\n",
       "</tr>\n",
       "<tr>\n",
       "  <th>L1.Buy_stock_amount</th>        <td>    2.9376</td> <td>    0.064</td> <td>   46.220</td> <td> 0.000</td> <td>    2.813</td> <td>    3.062</td>\n",
       "</tr>\n",
       "<tr>\n",
       "  <th>L1.Selling_stock_amount</th>    <td>   -1.3025</td> <td>    0.029</td> <td>  -45.590</td> <td> 0.000</td> <td>   -1.358</td> <td>   -1.246</td>\n",
       "</tr>\n",
       "<tr>\n",
       "  <th>L1.e(Buy_stock_amount)</th>     <td>   -2.8548</td> <td>    0.058</td> <td>  -48.840</td> <td> 0.000</td> <td>   -2.969</td> <td>   -2.740</td>\n",
       "</tr>\n",
       "<tr>\n",
       "  <th>L1.e(Selling_stock_amount)</th> <td>    1.4301</td> <td>    0.035</td> <td>   41.440</td> <td> 0.000</td> <td>    1.362</td> <td>    1.498</td>\n",
       "</tr>\n",
       "<tr>\n",
       "  <th>L2.e(Buy_stock_amount)</th>     <td>   -4.5204</td> <td>    0.098</td> <td>  -46.052</td> <td> 0.000</td> <td>   -4.713</td> <td>   -4.328</td>\n",
       "</tr>\n",
       "<tr>\n",
       "  <th>L2.e(Selling_stock_amount)</th> <td>    2.6746</td> <td>    0.053</td> <td>   50.867</td> <td> 0.000</td> <td>    2.572</td> <td>    2.778</td>\n",
       "</tr>\n",
       "</table>\n",
       "<table class=\"simpletable\">\n",
       "<caption>Results for equation Selling_stock_amount</caption>\n",
       "<tr>\n",
       "               <td></td>                 <th>coef</th>     <th>std err</th>      <th>z</th>      <th>P>|z|</th>  <th>[0.025</th>    <th>0.975]</th>  \n",
       "</tr>\n",
       "<tr>\n",
       "  <th>intercept</th>                  <td> 4927.9871</td> <td>   11.513</td> <td>  428.053</td> <td> 0.000</td> <td> 4905.423</td> <td> 4950.551</td>\n",
       "</tr>\n",
       "<tr>\n",
       "  <th>L1.Buy_stock_amount</th>        <td>    4.8525</td> <td>    0.144</td> <td>   33.632</td> <td> 0.000</td> <td>    4.570</td> <td>    5.135</td>\n",
       "</tr>\n",
       "<tr>\n",
       "  <th>L1.Selling_stock_amount</th>    <td>   -2.1752</td> <td>    0.064</td> <td>  -33.858</td> <td> 0.000</td> <td>   -2.301</td> <td>   -2.049</td>\n",
       "</tr>\n",
       "<tr>\n",
       "  <th>L1.e(Buy_stock_amount)</th>     <td>   -6.6424</td> <td>    0.141</td> <td>  -47.017</td> <td> 0.000</td> <td>   -6.919</td> <td>   -6.366</td>\n",
       "</tr>\n",
       "<tr>\n",
       "  <th>L1.e(Selling_stock_amount)</th> <td>    3.3892</td> <td>    0.055</td> <td>   61.133</td> <td> 0.000</td> <td>    3.281</td> <td>    3.498</td>\n",
       "</tr>\n",
       "<tr>\n",
       "  <th>L2.e(Buy_stock_amount)</th>     <td>   -8.3567</td> <td>    0.242</td> <td>  -34.523</td> <td> 0.000</td> <td>   -8.831</td> <td>   -7.882</td>\n",
       "</tr>\n",
       "<tr>\n",
       "  <th>L2.e(Selling_stock_amount)</th> <td>    4.8850</td> <td>    0.099</td> <td>   49.224</td> <td> 0.000</td> <td>    4.691</td> <td>    5.080</td>\n",
       "</tr>\n",
       "</table>\n",
       "<table class=\"simpletable\">\n",
       "<caption>Error covariance matrix</caption>\n",
       "<tr>\n",
       "                         <td></td>                           <th>coef</th>     <th>std err</th>      <th>z</th>      <th>P>|z|</th>  <th>[0.025</th>    <th>0.975]</th>  \n",
       "</tr>\n",
       "<tr>\n",
       "  <th>sqrt.var.Buy_stock_amount</th>                      <td>   15.1218</td> <td>    0.497</td> <td>   30.415</td> <td> 0.000</td> <td>   14.147</td> <td>   16.096</td>\n",
       "</tr>\n",
       "<tr>\n",
       "  <th>sqrt.cov.Buy_stock_amount.Selling_stock_amount</th> <td>   16.9644</td> <td>    1.601</td> <td>   10.598</td> <td> 0.000</td> <td>   13.827</td> <td>   20.102</td>\n",
       "</tr>\n",
       "<tr>\n",
       "  <th>sqrt.var.Selling_stock_amount</th>                  <td>   29.7222</td> <td>    0.521</td> <td>   57.007</td> <td> 0.000</td> <td>   28.700</td> <td>   30.744</td>\n",
       "</tr>\n",
       "</table><br/><br/>Warnings:<br/>[1] Covariance matrix calculated using the outer product of gradients (complex-step).<br/>[2] Covariance matrix is singular or near-singular, with condition number 2.57e+17. Standard errors may be unstable."
      ],
      "text/latex": [
       "\\begin{center}\n",
       "\\begin{tabular}{lclc}\n",
       "\\toprule\n",
       "\\textbf{Dep. Variable:}                                     & ['Buy\\_stock\\_amount', 'Selling\\_stock\\_amount'] & \\textbf{  No. Observations:  } &     129      \\\\\n",
       "\\textbf{Model:}                                             &                    VARMA(1,2)                    & \\textbf{  Log Likelihood     } &  -2511.970   \\\\\n",
       "\\textbf{}                                                   &                   + intercept                    & \\textbf{  AIC                } &   5057.939   \\\\\n",
       "\\textbf{Date:}                                              &                 Mon, 03 Jul 2023                 & \\textbf{  BIC                } &   5106.556   \\\\\n",
       "\\textbf{Time:}                                              &                     01:57:50                     & \\textbf{  HQIC               } &   5077.693   \\\\\n",
       "\\textbf{Sample:}                                            &                        0                         & \\textbf{                     } &              \\\\\n",
       "\\textbf{}                                                   &                       - 129                      & \\textbf{                     } &              \\\\\n",
       "\\textbf{Covariance Type:}                                   &                       opg                        & \\textbf{                     } &              \\\\\n",
       "\\textbf{Ljung-Box (L1) (Q):}     & 9.27, 81.09 & \\textbf{  Jarque-Bera (JB):  } & 20.25, 2.89  \\\\\n",
       "\\textbf{Prob(Q):}                &  0.00, 0.00 & \\textbf{  Prob(JB):          } &  0.00, 0.24  \\\\\n",
       "\\textbf{Heteroskedasticity (H):} &  3.80, 6.63 & \\textbf{  Skew:              } &  0.14, 0.23  \\\\\n",
       "\\textbf{Prob(H) (two-sided):}    &  0.00, 0.00 & \\textbf{  Kurtosis:          } &  4.92, 2.43  \\\\\n",
       "\\bottomrule\n",
       "\\end{tabular}\n",
       "\\begin{tabular}{lcccccc}\n",
       "                                      & \\textbf{coef} & \\textbf{std err} & \\textbf{z} & \\textbf{P$> |$z$|$} & \\textbf{[0.025} & \\textbf{0.975]}  \\\\\n",
       "\\midrule\n",
       "\\textbf{intercept}                    &    2124.6367  &       20.133     &   105.529  &         0.000        &     2085.176    &     2164.097     \\\\\n",
       "\\textbf{L1.Buy\\_stock\\_amount}        &       2.9376  &        0.064     &    46.220  &         0.000        &        2.813    &        3.062     \\\\\n",
       "\\textbf{L1.Selling\\_stock\\_amount}    &      -1.3025  &        0.029     &   -45.590  &         0.000        &       -1.358    &       -1.246     \\\\\n",
       "\\textbf{L1.e(Buy\\_stock\\_amount)}     &      -2.8548  &        0.058     &   -48.840  &         0.000        &       -2.969    &       -2.740     \\\\\n",
       "\\textbf{L1.e(Selling\\_stock\\_amount)} &       1.4301  &        0.035     &    41.440  &         0.000        &        1.362    &        1.498     \\\\\n",
       "\\textbf{L2.e(Buy\\_stock\\_amount)}     &      -4.5204  &        0.098     &   -46.052  &         0.000        &       -4.713    &       -4.328     \\\\\n",
       "\\textbf{L2.e(Selling\\_stock\\_amount)} &       2.6746  &        0.053     &    50.867  &         0.000        &        2.572    &        2.778     \\\\\n",
       "                                      & \\textbf{coef} & \\textbf{std err} & \\textbf{z} & \\textbf{P$> |$z$|$} & \\textbf{[0.025} & \\textbf{0.975]}  \\\\\n",
       "\\midrule\n",
       "\\textbf{intercept}                    &    4927.9871  &       11.513     &   428.053  &         0.000        &     4905.423    &     4950.551     \\\\\n",
       "\\textbf{L1.Buy\\_stock\\_amount}        &       4.8525  &        0.144     &    33.632  &         0.000        &        4.570    &        5.135     \\\\\n",
       "\\textbf{L1.Selling\\_stock\\_amount}    &      -2.1752  &        0.064     &   -33.858  &         0.000        &       -2.301    &       -2.049     \\\\\n",
       "\\textbf{L1.e(Buy\\_stock\\_amount)}     &      -6.6424  &        0.141     &   -47.017  &         0.000        &       -6.919    &       -6.366     \\\\\n",
       "\\textbf{L1.e(Selling\\_stock\\_amount)} &       3.3892  &        0.055     &    61.133  &         0.000        &        3.281    &        3.498     \\\\\n",
       "\\textbf{L2.e(Buy\\_stock\\_amount)}     &      -8.3567  &        0.242     &   -34.523  &         0.000        &       -8.831    &       -7.882     \\\\\n",
       "\\textbf{L2.e(Selling\\_stock\\_amount)} &       4.8850  &        0.099     &    49.224  &         0.000        &        4.691    &        5.080     \\\\\n",
       "                                                            & \\textbf{coef} & \\textbf{std err} & \\textbf{z} & \\textbf{P$> |$z$|$} & \\textbf{[0.025} & \\textbf{0.975]}  \\\\\n",
       "\\midrule\n",
       "\\textbf{sqrt.var.Buy\\_stock\\_amount}                        &      15.1218  &        0.497     &    30.415  &         0.000        &       14.147    &       16.096     \\\\\n",
       "\\textbf{sqrt.cov.Buy\\_stock\\_amount.Selling\\_stock\\_amount} &      16.9644  &        1.601     &    10.598  &         0.000        &       13.827    &       20.102     \\\\\n",
       "\\textbf{sqrt.var.Selling\\_stock\\_amount}                    &      29.7222  &        0.521     &    57.007  &         0.000        &       28.700    &       30.744     \\\\\n",
       "\\bottomrule\n",
       "\\end{tabular}\n",
       "%\\caption{Statespace Model Results}\n",
       "\\end{center}\n",
       "\n",
       "Warnings: \\newline\n",
       " [1] Covariance matrix calculated using the outer product of gradients (complex-step). \\newline\n",
       " [2] Covariance matrix is singular or near-singular, with condition number 2.57e+17. Standard errors may be unstable."
      ],
      "text/plain": [
       "<class 'statsmodels.iolib.summary.Summary'>\n",
       "\"\"\"\n",
       "                                        Statespace Model Results                                        \n",
       "========================================================================================================\n",
       "Dep. Variable:     ['Buy_stock_amount', 'Selling_stock_amount']   No. Observations:                  129\n",
       "Model:                                               VARMA(1,2)   Log Likelihood               -2511.970\n",
       "                                                    + intercept   AIC                           5057.939\n",
       "Date:                                          Mon, 03 Jul 2023   BIC                           5106.556\n",
       "Time:                                                  01:57:50   HQIC                          5077.693\n",
       "Sample:                                                       0                                         \n",
       "                                                          - 129                                         \n",
       "Covariance Type:                                            opg                                         \n",
       "===================================================================================\n",
       "Ljung-Box (L1) (Q):            9.27, 81.09   Jarque-Bera (JB):          20.25, 2.89\n",
       "Prob(Q):                        0.00, 0.00   Prob(JB):                   0.00, 0.24\n",
       "Heteroskedasticity (H):         3.80, 6.63   Skew:                       0.14, 0.23\n",
       "Prob(H) (two-sided):            0.00, 0.00   Kurtosis:                   4.92, 2.43\n",
       "                            Results for equation Buy_stock_amount                             \n",
       "==============================================================================================\n",
       "                                 coef    std err          z      P>|z|      [0.025      0.975]\n",
       "----------------------------------------------------------------------------------------------\n",
       "intercept                   2124.6367     20.133    105.529      0.000    2085.176    2164.097\n",
       "L1.Buy_stock_amount            2.9376      0.064     46.220      0.000       2.813       3.062\n",
       "L1.Selling_stock_amount       -1.3025      0.029    -45.590      0.000      -1.358      -1.246\n",
       "L1.e(Buy_stock_amount)        -2.8548      0.058    -48.840      0.000      -2.969      -2.740\n",
       "L1.e(Selling_stock_amount)     1.4301      0.035     41.440      0.000       1.362       1.498\n",
       "L2.e(Buy_stock_amount)        -4.5204      0.098    -46.052      0.000      -4.713      -4.328\n",
       "L2.e(Selling_stock_amount)     2.6746      0.053     50.867      0.000       2.572       2.778\n",
       "                          Results for equation Selling_stock_amount                           \n",
       "==============================================================================================\n",
       "                                 coef    std err          z      P>|z|      [0.025      0.975]\n",
       "----------------------------------------------------------------------------------------------\n",
       "intercept                   4927.9871     11.513    428.053      0.000    4905.423    4950.551\n",
       "L1.Buy_stock_amount            4.8525      0.144     33.632      0.000       4.570       5.135\n",
       "L1.Selling_stock_amount       -2.1752      0.064    -33.858      0.000      -2.301      -2.049\n",
       "L1.e(Buy_stock_amount)        -6.6424      0.141    -47.017      0.000      -6.919      -6.366\n",
       "L1.e(Selling_stock_amount)     3.3892      0.055     61.133      0.000       3.281       3.498\n",
       "L2.e(Buy_stock_amount)        -8.3567      0.242    -34.523      0.000      -8.831      -7.882\n",
       "L2.e(Selling_stock_amount)     4.8850      0.099     49.224      0.000       4.691       5.080\n",
       "                                             Error covariance matrix                                              \n",
       "==================================================================================================================\n",
       "                                                     coef    std err          z      P>|z|      [0.025      0.975]\n",
       "------------------------------------------------------------------------------------------------------------------\n",
       "sqrt.var.Buy_stock_amount                         15.1218      0.497     30.415      0.000      14.147      16.096\n",
       "sqrt.cov.Buy_stock_amount.Selling_stock_amount    16.9644      1.601     10.598      0.000      13.827      20.102\n",
       "sqrt.var.Selling_stock_amount                     29.7222      0.521     57.007      0.000      28.700      30.744\n",
       "==================================================================================================================\n",
       "\n",
       "Warnings:\n",
       "[1] Covariance matrix calculated using the outer product of gradients (complex-step).\n",
       "[2] Covariance matrix is singular or near-singular, with condition number 2.57e+17. Standard errors may be unstable.\n",
       "\"\"\""
      ]
     },
     "execution_count": 491,
     "metadata": {},
     "output_type": "execute_result"
    }
   ],
   "source": [
    "VARMAX_model.summary()"
   ]
  },
  {
   "cell_type": "code",
   "execution_count": 484,
   "metadata": {},
   "outputs": [
    {
     "data": {
      "text/html": [
       "<div>\n",
       "<style scoped>\n",
       "    .dataframe tbody tr th:only-of-type {\n",
       "        vertical-align: middle;\n",
       "    }\n",
       "\n",
       "    .dataframe tbody tr th {\n",
       "        vertical-align: top;\n",
       "    }\n",
       "\n",
       "    .dataframe thead th {\n",
       "        text-align: right;\n",
       "    }\n",
       "</style>\n",
       "<table border=\"1\" class=\"dataframe\">\n",
       "  <thead>\n",
       "    <tr style=\"text-align: right;\">\n",
       "      <th></th>\n",
       "      <th>Buy_stock_amount</th>\n",
       "      <th>Selling_stock_amount</th>\n",
       "    </tr>\n",
       "  </thead>\n",
       "  <tbody>\n",
       "    <tr>\n",
       "      <th>129</th>\n",
       "      <td>2910.386358</td>\n",
       "      <td>6447.970162</td>\n",
       "    </tr>\n",
       "    <tr>\n",
       "      <th>130</th>\n",
       "      <td>2946.983160</td>\n",
       "      <td>6259.374810</td>\n",
       "    </tr>\n",
       "    <tr>\n",
       "      <th>131</th>\n",
       "      <td>2628.796908</td>\n",
       "      <td>5612.640483</td>\n",
       "    </tr>\n",
       "    <tr>\n",
       "      <th>132</th>\n",
       "      <td>2536.471245</td>\n",
       "      <td>5475.438487</td>\n",
       "    </tr>\n",
       "    <tr>\n",
       "      <th>133</th>\n",
       "      <td>2443.963178</td>\n",
       "      <td>5325.875418</td>\n",
       "    </tr>\n",
       "    <tr>\n",
       "      <th>134</th>\n",
       "      <td>2367.019529</td>\n",
       "      <td>5202.315160</td>\n",
       "    </tr>\n",
       "    <tr>\n",
       "      <th>135</th>\n",
       "      <td>2301.928896</td>\n",
       "      <td>5097.718987</td>\n",
       "    </tr>\n",
       "    <tr>\n",
       "      <th>136</th>\n",
       "      <td>2246.956685</td>\n",
       "      <td>5009.388187</td>\n",
       "    </tr>\n",
       "    <tr>\n",
       "      <th>137</th>\n",
       "      <td>2200.522469</td>\n",
       "      <td>4934.775986</td>\n",
       "    </tr>\n",
       "    <tr>\n",
       "      <th>138</th>\n",
       "      <td>2161.300788</td>\n",
       "      <td>4871.753191</td>\n",
       "    </tr>\n",
       "  </tbody>\n",
       "</table>\n",
       "</div>"
      ],
      "text/plain": [
       "     Buy_stock_amount  Selling_stock_amount\n",
       "129       2910.386358           6447.970162\n",
       "130       2946.983160           6259.374810\n",
       "131       2628.796908           5612.640483\n",
       "132       2536.471245           5475.438487\n",
       "133       2443.963178           5325.875418\n",
       "134       2367.019529           5202.315160\n",
       "135       2301.928896           5097.718987\n",
       "136       2246.956685           5009.388187\n",
       "137       2200.522469           4934.775986\n",
       "138       2161.300788           4871.753191"
      ]
     },
     "execution_count": 484,
     "metadata": {},
     "output_type": "execute_result"
    }
   ],
   "source": [
    "VARMAX_model_forecast=VARMAX_model.forecast(10)\n",
    "VARMAX_model_forecast"
   ]
  },
  {
   "cell_type": "code",
   "execution_count": 485,
   "metadata": {},
   "outputs": [
    {
     "data": {
      "text/plain": [
       "<matplotlib.axes._subplots.AxesSubplot at 0x2bc56d2d2e0>"
      ]
     },
     "execution_count": 485,
     "metadata": {},
     "output_type": "execute_result"
    },
    {
     "data": {
      "image/png": "[encoded data removed]",
      "text/plain": [
       "<Figure size 432x288 with 1 Axes>"
      ]
     },
     "metadata": {
      "needs_background": "light"
     },
     "output_type": "display_data"
    }
   ],
   "source": [
    "VARMAX_model_forecast.plot()"
   ]
  },
  {
   "cell_type": "markdown",
   "metadata": {},
   "source": [
    "<h2> SARIMAX </h2>"
   ]
  },
  {
   "cell_type": "code",
   "execution_count": 572,
   "metadata": {},
   "outputs": [],
   "source": [
    "#load SARIMA libraries\n",
    "from statsmodels.tsa.statespace.sarimax import SARIMAX\n",
    "from random import random"
   ]
  },
  {
   "cell_type": "code",
   "execution_count": 573,
   "metadata": {},
   "outputs": [],
   "source": [
    "#load Stock_Buy_SARIMAX data\n",
    "df_Stock_Buy_SARIMA = pd.read_csv(\"Stock_Buy_SARIMA.csv\")"
   ]
  },
  {
   "cell_type": "code",
   "execution_count": 574,
   "metadata": {},
   "outputs": [
    {
     "name": "stdout",
     "output_type": "stream",
     "text": [
      "*********************\n",
      " Stock Buy data      \n",
      "*********************\n"
     ]
    },
    {
     "data": {
      "text/html": [
       "<div>\n",
       "<style scoped>\n",
       "    .dataframe tbody tr th:only-of-type {\n",
       "        vertical-align: middle;\n",
       "    }\n",
       "\n",
       "    .dataframe tbody tr th {\n",
       "        vertical-align: top;\n",
       "    }\n",
       "\n",
       "    .dataframe thead th {\n",
       "        text-align: right;\n",
       "    }\n",
       "</style>\n",
       "<table border=\"1\" class=\"dataframe\">\n",
       "  <thead>\n",
       "    <tr style=\"text-align: right;\">\n",
       "      <th></th>\n",
       "      <th>Date</th>\n",
       "      <th>Buy_stock_amount</th>\n",
       "    </tr>\n",
       "  </thead>\n",
       "  <tbody>\n",
       "    <tr>\n",
       "      <th>0</th>\n",
       "      <td>01-01-2021</td>\n",
       "      <td>1518.43</td>\n",
       "    </tr>\n",
       "    <tr>\n",
       "      <th>1</th>\n",
       "      <td>02-01-2021</td>\n",
       "      <td>1517.35</td>\n",
       "    </tr>\n",
       "    <tr>\n",
       "      <th>2</th>\n",
       "      <td>03-01-2021</td>\n",
       "      <td>1517.87</td>\n",
       "    </tr>\n",
       "    <tr>\n",
       "      <th>3</th>\n",
       "      <td>04-01-2021</td>\n",
       "      <td>1521.39</td>\n",
       "    </tr>\n",
       "    <tr>\n",
       "      <th>4</th>\n",
       "      <td>05-01-2021</td>\n",
       "      <td>1532.26</td>\n",
       "    </tr>\n",
       "  </tbody>\n",
       "</table>\n",
       "</div>"
      ],
      "text/plain": [
       "         Date  Buy_stock_amount\n",
       "0  01-01-2021           1518.43\n",
       "1  02-01-2021           1517.35\n",
       "2  03-01-2021           1517.87\n",
       "3  04-01-2021           1521.39\n",
       "4  05-01-2021           1532.26"
      ]
     },
     "execution_count": 574,
     "metadata": {},
     "output_type": "execute_result"
    }
   ],
   "source": [
    "print(\"*********************\")\n",
    "print(\" Stock Buy data      \")\n",
    "print(\"*********************\")\n",
    "df_Stock_Buy_SARIMA.head()"
   ]
  },
  {
   "cell_type": "code",
   "execution_count": 575,
   "metadata": {},
   "outputs": [
    {
     "name": "stdout",
     "output_type": "stream",
     "text": [
      "**********************************************\n",
      " Visualization of Stock Buy plot (Actual)     \n",
      "**********************************************\n"
     ]
    },
    {
     "data": {
      "text/plain": [
       "<matplotlib.axes._subplots.AxesSubplot at 0x2bc587b8f40>"
      ]
     },
     "execution_count": 575,
     "metadata": {},
     "output_type": "execute_result"
    },
    {
     "data": {
      "image/png": "[encoded data removed]",
      "text/plain": [
       "<Figure size 432x288 with 1 Axes>"
      ]
     },
     "metadata": {
      "needs_background": "light"
     },
     "output_type": "display_data"
    }
   ],
   "source": [
    "print(\"**********************************************\")\n",
    "print(\" Visualization of Stock Buy plot (Actual)     \")\n",
    "print(\"**********************************************\")\n",
    "df_Stock_Buy_SARIMA[\"Buy_stock_amount\"].plot()"
   ]
  },
  {
   "cell_type": "code",
   "execution_count": 576,
   "metadata": {},
   "outputs": [],
   "source": [
    "#apply SARIMAX model on df_Stock_Buy_SARIMA\n",
    "SARIMA_results=SARIMAX(df_Stock_Buy_SARIMA['Buy_stock_amount'], order=(1, 1, 1), seasonal_order=(1, 1, 1, 2))"
   ]
  },
  {
   "cell_type": "code",
   "execution_count": 577,
   "metadata": {},
   "outputs": [],
   "source": [
    "SARIMA_results_fit = SARIMA_results.fit(disp=False)"
   ]
  },
  {
   "cell_type": "code",
   "execution_count": 578,
   "metadata": {},
   "outputs": [
    {
     "data": {
      "text/plain": [
       "199    4085.218820\n",
       "200    4118.427420\n",
       "201    4151.800550\n",
       "202    4173.171884\n",
       "203    4200.533695\n",
       "204    4219.529316\n",
       "205    4243.659391\n",
       "206    4262.432299\n",
       "207    4285.041427\n",
       "208    4303.946263\n",
       "Name: predicted_mean, dtype: float64"
      ]
     },
     "execution_count": 578,
     "metadata": {},
     "output_type": "execute_result"
    }
   ],
   "source": [
    "SARIMA_results_forecast=SARIMA_results_fit.forecast(10)\n",
    "SARIMA_results_forecast"
   ]
  },
  {
   "cell_type": "code",
   "execution_count": 579,
   "metadata": {},
   "outputs": [
    {
     "name": "stdout",
     "output_type": "stream",
     "text": [
      "****************************************************\n",
      " Visualization of Stock Buy plot (Forecasting)      \n",
      "****************************************************\n"
     ]
    },
    {
     "data": {
      "text/plain": [
       "<matplotlib.axes._subplots.AxesSubplot at 0x2bc5e758550>"
      ]
     },
     "execution_count": 579,
     "metadata": {},
     "output_type": "execute_result"
    },
    {
     "data": {
      "image/png": "[encoded data removed]",
      "text/plain": [
       "<Figure size 432x288 with 1 Axes>"
      ]
     },
     "metadata": {
      "needs_background": "light"
     },
     "output_type": "display_data"
    }
   ],
   "source": [
    "print(\"****************************************************\")\n",
    "print(\" Visualization of Stock Buy plot (Forecasting)      \")\n",
    "print(\"****************************************************\")\n",
    "SARIMA_results_forecast.plot()"
   ]
  },
  {
   "cell_type": "code",
   "execution_count": 580,
   "metadata": {},
   "outputs": [],
   "source": [
    "#load Stock_Buy_SARIMAX data [exogenous variable]\n",
    "df_Stock_Sell_SARIMAX = pd.read_csv(\"Stock_Sell_SARIMAX.csv\")"
   ]
  },
  {
   "cell_type": "code",
   "execution_count": 582,
   "metadata": {},
   "outputs": [],
   "source": [
    "#apply SARIMAX model on df_Stock_Buy_SARIMA and df_Stock_Sell_SARIMAX [exogenous ]\n",
    "SARIMAX_results=SARIMAX(df_Stock_Buy_SARIMA['Buy_stock_amount'], exog=df_Stock_Sell_SARIMAX['Selling_stock_amount'], order=(1, 1, 1), seasonal_order=(0, 0, 0, 0))"
   ]
  },
  {
   "cell_type": "code",
   "execution_count": 584,
   "metadata": {},
   "outputs": [],
   "source": [
    "SARIMAX_results_fit = SARIMAX_results.fit(disp=False)"
   ]
  },
  {
   "cell_type": "code",
   "execution_count": 585,
   "metadata": {},
   "outputs": [],
   "source": [
    " SARIMAX_results_forecast=SARIMAX_results_fit.predict(len(df_Stock_Buy_SARIMA['Buy_stock_amount']), len(df_Stock_Buy_SARIMA['Buy_stock_amount']) + len(df_Stock_Sell_SARIMAX['Selling_stock_amount']) - 1, exog=df_Stock_Buy_SARIMA['Buy_stock_amount'].values)"
   ]
  },
  {
   "cell_type": "code",
   "execution_count": 586,
   "metadata": {},
   "outputs": [
    {
     "data": {
      "text/plain": [
       "199    4501.191145\n",
       "200    4540.925977\n",
       "201    4580.115347\n",
       "202    4618.521269\n",
       "203    4655.400355\n",
       "          ...     \n",
       "393    8345.656679\n",
       "394    8351.425610\n",
       "395    8357.933518\n",
       "396    8361.922399\n",
       "397    8358.114390\n",
       "Name: predicted_mean, Length: 199, dtype: float64"
      ]
     },
     "execution_count": 586,
     "metadata": {},
     "output_type": "execute_result"
    }
   ],
   "source": [
    "SARIMAX_results_forecast"
   ]
  },
  {
   "cell_type": "code",
   "execution_count": 587,
   "metadata": {},
   "outputs": [
    {
     "name": "stdout",
     "output_type": "stream",
     "text": [
      "****************************************************\n",
      " Visualization of Stock Buy plot (Forecasting)      \n",
      "****************************************************\n"
     ]
    },
    {
     "data": {
      "text/plain": [
       "<matplotlib.axes._subplots.AxesSubplot at 0x2bc573b2d90>"
      ]
     },
     "execution_count": 587,
     "metadata": {},
     "output_type": "execute_result"
    },
    {
     "data": {
      "image/png": "[encoded data removed]",
      "text/plain": [
       "<Figure size 432x288 with 1 Axes>"
      ]
     },
     "metadata": {
      "needs_background": "light"
     },
     "output_type": "display_data"
    }
   ],
   "source": [
    "print(\"****************************************************\")\n",
    "print(\" Visualization of Stock Buy plot (Forecasting)      \")\n",
    "print(\"****************************************************\")\n",
    "SARIMAX_results_forecast.plot()"
   ]
  },
  {
   "cell_type": "code",
   "execution_count": null,
   "metadata": {},
   "outputs": [],
   "source": []
  }
 ],
 "metadata": {
  "kernelspec": {
   "display_name": "Python 3",
   "language": "python",
   "name": "python3"
  },
  "language_info": {
   "codemirror_mode": {
    "name": "ipython",
    "version": 3
   },
   "file_extension": ".py",
   "mimetype": "text/x-python",
   "name": "python",
   "nbconvert_exporter": "python",
   "pygments_lexer": "ipython3",
   "version": "3.8.3"
  }
 },
 "nbformat": 4,
 "nbformat_minor": 4
}
