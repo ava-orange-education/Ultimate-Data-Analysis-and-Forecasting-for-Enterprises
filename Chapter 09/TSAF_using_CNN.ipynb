{
  "nbformat": 4,
  "nbformat_minor": 0,
  "metadata": {
    "colab": {
      "provenance": []
    },
    "kernelspec": {
      "name": "python3",
      "display_name": "Python 3"
    },
    "language_info": {
      "name": "python"
    }
  },
  "cells": [
    {
      "cell_type": "code",
      "source": [
        "from google.colab import drive\n",
        "drive.mount('/content/drive')"
      ],
      "metadata": {
        "colab": {
          "base_uri": "https://localhost:8080/"
        },
        "id": "2TCqi53Q0eou",
        "outputId": "eb70e7f3-21f8-44c9-965a-59811872b4fc"
      },
      "execution_count": 1,
      "outputs": [
        {
          "output_type": "stream",
          "name": "stdout",
          "text": [
            "Mounted at /content/drive\n"
          ]
        }
      ]
    },
    {
      "cell_type": "markdown",
      "source": [
        "# New Section"
      ],
      "metadata": {
        "id": "mVVp2WOp2SOS"
      }
    },
    {
      "cell_type": "code",
      "source": [
        "#fundamental libraries\n",
        "import tensorflow as tf\n",
        "import matplotlib.pyplot as plt\n",
        "import matplotlib.pyplot as plt\n",
        "%matplotlib inline\n",
        "import warnings\n",
        "import numpy as np\n",
        "import pandas as pd\n",
        "import matplotlib.pyplot as plt\n",
        "\n",
        "#Keras libraries\n",
        "from keras.callbacks import EarlyStopping\n",
        "from keras.optimizers import Adam\n",
        "from keras.layers import LSTM\n",
        "from tensorflow.keras.callbacks import EarlyStopping\n",
        "from keras import optimizers\n",
        "from keras.utils import plot_model\n",
        "from keras.models import Sequential, Model\n",
        "from keras.layers.convolutional import Conv1D, MaxPooling1D\n",
        "from keras.layers import Dense, LSTM, RepeatVector, TimeDistributed, Flatten\n",
        "from sklearn.metrics import mean_squared_error\n",
        "from sklearn.model_selection import train_test_split\n",
        "import plotly.graph_objs as go\n",
        "from plotly.offline import init_notebook_mode, iplot\n",
        "\n",
        "%matplotlib inline\n",
        "warnings.filterwarnings(\"ignore\")\n",
        "init_notebook_mode(connected=True)\n",
        "\n",
        "import itertools\n",
        "import warnings\n",
        "\n",
        "warnings.filterwarnings('ignore')\n",
        "print(\"##################################\")\n",
        "print(\"Importing all required libraries\")\n",
        "print(\"##################################\")"
      ],
      "metadata": {
        "id": "AuA1rBwa0qSd",
        "colab": {
          "base_uri": "https://localhost:8080/",
          "height": 69
        },
        "outputId": "d2bbcd29-911a-45e0-eeb5-4bd3ac55828a"
      },
      "execution_count": 2,
      "outputs": [
        {
          "output_type": "display_data",
          "data": {
            "text/html": [
              "        <script type=\"text/javascript\">\n",
              "        window.PlotlyConfig = {MathJaxConfig: 'local'};\n",
              "        if (window.MathJax && window.MathJax.Hub && window.MathJax.Hub.Config) {window.MathJax.Hub.Config({SVG: {font: \"STIX-Web\"}});}\n",
              "        if (typeof require !== 'undefined') {\n",
              "        require.undef(\"plotly\");\n",
              "        requirejs.config({\n",
              "            paths: {\n",
              "                'plotly': ['https://cdn.plot.ly/plotly-2.24.1.min']\n",
              "            }\n",
              "        });\n",
              "        require(['plotly'], function(Plotly) {\n",
              "            window._Plotly = Plotly;\n",
              "        });\n",
              "        }\n",
              "        </script>\n",
              "        "
            ]
          },
          "metadata": {}
        },
        {
          "output_type": "stream",
          "name": "stdout",
          "text": [
            "##################################\n",
            "Importing all required libraries\n",
            "##################################\n"
          ]
        }
      ]
    },
    {
      "cell_type": "code",
      "source": [
        "print(\"#####################################\")\n",
        "print(\"loading data from drive successfully\")\n",
        "print(\"####################################\")\n",
        "df_diesel_price = pd.read_csv('/content/drive/MyDrive/diesel_price.csv')"
      ],
      "metadata": {
        "id": "Spq-mX2Ozgyb",
        "colab": {
          "base_uri": "https://localhost:8080/"
        },
        "outputId": "baa059eb-6019-4373-8273-a136344c1fc2"
      },
      "execution_count": 3,
      "outputs": [
        {
          "output_type": "stream",
          "name": "stdout",
          "text": [
            "#####################################\n",
            "loading data from drive successfully\n",
            "####################################\n"
          ]
        }
      ]
    },
    {
      "cell_type": "code",
      "source": [
        "df_diesel_price.head()"
      ],
      "metadata": {
        "colab": {
          "base_uri": "https://localhost:8080/",
          "height": 206
        },
        "id": "dZnA7J2i0rpV",
        "outputId": "2c03195f-16fb-42a2-bb0b-5138c1488bee"
      },
      "execution_count": 4,
      "outputs": [
        {
          "output_type": "execute_result",
          "data": {
            "text/plain": [
              "    Sale_Date  Diesel_price\n",
              "0  2022-04-16          3.65\n",
              "1  2022-04-17          3.95\n",
              "2  2022-04-18          3.86\n",
              "3  2022-04-18          4.06\n",
              "4  2022-04-21          3.83"
            ],
            "text/html": [
              "\n",
              "  <div id=\"df-e1d1a1a1-e431-41b5-b634-29c30489ec61\" class=\"colab-df-container\">\n",
              "    <div>\n",
              "<style scoped>\n",
              "    .dataframe tbody tr th:only-of-type {\n",
              "        vertical-align: middle;\n",
              "    }\n",
              "\n",
              "    .dataframe tbody tr th {\n",
              "        vertical-align: top;\n",
              "    }\n",
              "\n",
              "    .dataframe thead th {\n",
              "        text-align: right;\n",
              "    }\n",
              "</style>\n",
              "<table border=\"1\" class=\"dataframe\">\n",
              "  <thead>\n",
              "    <tr style=\"text-align: right;\">\n",
              "      <th></th>\n",
              "      <th>Sale_Date</th>\n",
              "      <th>Diesel_price</th>\n",
              "    </tr>\n",
              "  </thead>\n",
              "  <tbody>\n",
              "    <tr>\n",
              "      <th>0</th>\n",
              "      <td>2022-04-16</td>\n",
              "      <td>3.65</td>\n",
              "    </tr>\n",
              "    <tr>\n",
              "      <th>1</th>\n",
              "      <td>2022-04-17</td>\n",
              "      <td>3.95</td>\n",
              "    </tr>\n",
              "    <tr>\n",
              "      <th>2</th>\n",
              "      <td>2022-04-18</td>\n",
              "      <td>3.86</td>\n",
              "    </tr>\n",
              "    <tr>\n",
              "      <th>3</th>\n",
              "      <td>2022-04-18</td>\n",
              "      <td>4.06</td>\n",
              "    </tr>\n",
              "    <tr>\n",
              "      <th>4</th>\n",
              "      <td>2022-04-21</td>\n",
              "      <td>3.83</td>\n",
              "    </tr>\n",
              "  </tbody>\n",
              "</table>\n",
              "</div>\n",
              "    <div class=\"colab-df-buttons\">\n",
              "\n",
              "  <div class=\"colab-df-container\">\n",
              "    <button class=\"colab-df-convert\" onclick=\"convertToInteractive('df-e1d1a1a1-e431-41b5-b634-29c30489ec61')\"\n",
              "            title=\"Convert this dataframe to an interactive table.\"\n",
              "            style=\"display:none;\">\n",
              "\n",
              "  <svg xmlns=\"http://www.w3.org/2000/svg\" height=\"24px\" viewBox=\"0 -960 960 960\">\n",
              "    <path d=\"M120-120v-720h720v720H120Zm60-500h600v-160H180v160Zm220 220h160v-160H400v160Zm0 220h160v-160H400v160ZM180-400h160v-160H180v160Zm440 0h160v-160H620v160ZM180-180h160v-160H180v160Zm440 0h160v-160H620v160Z\"/>\n",
              "  </svg>\n",
              "    </button>\n",
              "\n",
              "  <style>\n",
              "    .colab-df-container {\n",
              "      display:flex;\n",
              "      gap: 12px;\n",
              "    }\n",
              "\n",
              "    .colab-df-convert {\n",
              "      background-color: #E8F0FE;\n",
              "      border: none;\n",
              "      border-radius: 50%;\n",
              "      cursor: pointer;\n",
              "      display: none;\n",
              "      fill: #1967D2;\n",
              "      height: 32px;\n",
              "      padding: 0 0 0 0;\n",
              "      width: 32px;\n",
              "    }\n",
              "\n",
              "    .colab-df-convert:hover {\n",
              "      background-color: #E2EBFA;\n",
              "      box-shadow: 0px 1px 2px rgba(60, 64, 67, 0.3), 0px 1px 3px 1px rgba(60, 64, 67, 0.15);\n",
              "      fill: #174EA6;\n",
              "    }\n",
              "\n",
              "    .colab-df-buttons div {\n",
              "      margin-bottom: 4px;\n",
              "    }\n",
              "\n",
              "    [theme=dark] .colab-df-convert {\n",
              "      background-color: #3B4455;\n",
              "      fill: #D2E3FC;\n",
              "    }\n",
              "\n",
              "    [theme=dark] .colab-df-convert:hover {\n",
              "      background-color: #434B5C;\n",
              "      box-shadow: 0px 1px 3px 1px rgba(0, 0, 0, 0.15);\n",
              "      filter: drop-shadow(0px 1px 2px rgba(0, 0, 0, 0.3));\n",
              "      fill: #FFFFFF;\n",
              "    }\n",
              "  </style>\n",
              "\n",
              "    <script>\n",
              "      const buttonEl =\n",
              "        document.querySelector('#df-e1d1a1a1-e431-41b5-b634-29c30489ec61 button.colab-df-convert');\n",
              "      buttonEl.style.display =\n",
              "        google.colab.kernel.accessAllowed ? 'block' : 'none';\n",
              "\n",
              "      async function convertToInteractive(key) {\n",
              "        const element = document.querySelector('#df-e1d1a1a1-e431-41b5-b634-29c30489ec61');\n",
              "        const dataTable =\n",
              "          await google.colab.kernel.invokeFunction('convertToInteractive',\n",
              "                                                    [key], {});\n",
              "        if (!dataTable) return;\n",
              "\n",
              "        const docLinkHtml = 'Like what you see? Visit the ' +\n",
              "          '<a target=\"_blank\" href=https://colab.research.google.com/notebooks/data_table.ipynb>data table notebook</a>'\n",
              "          + ' to learn more about interactive tables.';\n",
              "        element.innerHTML = '';\n",
              "        dataTable['output_type'] = 'display_data';\n",
              "        await google.colab.output.renderOutput(dataTable, element);\n",
              "        const docLink = document.createElement('div');\n",
              "        docLink.innerHTML = docLinkHtml;\n",
              "        element.appendChild(docLink);\n",
              "      }\n",
              "    </script>\n",
              "  </div>\n",
              "\n",
              "\n",
              "<div id=\"df-fce5ab4c-a2fa-4628-a1f3-ff62da740c2c\">\n",
              "  <button class=\"colab-df-quickchart\" onclick=\"quickchart('df-fce5ab4c-a2fa-4628-a1f3-ff62da740c2c')\"\n",
              "            title=\"Suggest charts.\"\n",
              "            style=\"display:none;\">\n",
              "\n",
              "<svg xmlns=\"http://www.w3.org/2000/svg\" height=\"24px\"viewBox=\"0 0 24 24\"\n",
              "     width=\"24px\">\n",
              "    <g>\n",
              "        <path d=\"M19 3H5c-1.1 0-2 .9-2 2v14c0 1.1.9 2 2 2h14c1.1 0 2-.9 2-2V5c0-1.1-.9-2-2-2zM9 17H7v-7h2v7zm4 0h-2V7h2v10zm4 0h-2v-4h2v4z\"/>\n",
              "    </g>\n",
              "</svg>\n",
              "  </button>\n",
              "\n",
              "<style>\n",
              "  .colab-df-quickchart {\n",
              "    background-color: #E8F0FE;\n",
              "    border: none;\n",
              "    border-radius: 50%;\n",
              "    cursor: pointer;\n",
              "    display: none;\n",
              "    fill: #1967D2;\n",
              "    height: 32px;\n",
              "    padding: 0 0 0 0;\n",
              "    width: 32px;\n",
              "  }\n",
              "\n",
              "  .colab-df-quickchart:hover {\n",
              "    background-color: #E2EBFA;\n",
              "    box-shadow: 0px 1px 2px rgba(60, 64, 67, 0.3), 0px 1px 3px 1px rgba(60, 64, 67, 0.15);\n",
              "    fill: #174EA6;\n",
              "  }\n",
              "\n",
              "  [theme=dark] .colab-df-quickchart {\n",
              "    background-color: #3B4455;\n",
              "    fill: #D2E3FC;\n",
              "  }\n",
              "\n",
              "  [theme=dark] .colab-df-quickchart:hover {\n",
              "    background-color: #434B5C;\n",
              "    box-shadow: 0px 1px 3px 1px rgba(0, 0, 0, 0.15);\n",
              "    filter: drop-shadow(0px 1px 2px rgba(0, 0, 0, 0.3));\n",
              "    fill: #FFFFFF;\n",
              "  }\n",
              "</style>\n",
              "\n",
              "  <script>\n",
              "    async function quickchart(key) {\n",
              "      const charts = await google.colab.kernel.invokeFunction(\n",
              "          'suggestCharts', [key], {});\n",
              "    }\n",
              "    (() => {\n",
              "      let quickchartButtonEl =\n",
              "        document.querySelector('#df-fce5ab4c-a2fa-4628-a1f3-ff62da740c2c button');\n",
              "      quickchartButtonEl.style.display =\n",
              "        google.colab.kernel.accessAllowed ? 'block' : 'none';\n",
              "    })();\n",
              "  </script>\n",
              "</div>\n",
              "    </div>\n",
              "  </div>\n"
            ]
          },
          "metadata": {},
          "execution_count": 4
        }
      ]
    },
    {
      "cell_type": "code",
      "source": [
        "print(\"##################################\")\n",
        "print(\"Line Pollting the Diesel price\")\n",
        "print(\"##################################\")\n",
        "plt.figure(figsize=(8,5))\n",
        "plt.plot(df_diesel_price[\"Diesel_price\"])\n",
        "plt.xlabel('Observation')\n",
        "plt.ylabel('Diesel price')\n",
        "plt.title('Day vs Diesel Price')"
      ],
      "metadata": {
        "colab": {
          "base_uri": "https://localhost:8080/",
          "height": 556
        },
        "id": "JPegYve71HPE",
        "outputId": "151404c7-c239-45b6-f9db-72638e43ee65"
      },
      "execution_count": 5,
      "outputs": [
        {
          "output_type": "stream",
          "name": "stdout",
          "text": [
            "##################################\n",
            "Line Pollting the Diesel price\n",
            "##################################\n"
          ]
        },
        {
          "output_type": "execute_result",
          "data": {
            "text/plain": [
              "Text(0.5, 1.0, 'Day vs Diesel Price')"
            ]
          },
          "metadata": {},
          "execution_count": 5
        },
        {
          "output_type": "display_data",
          "data": {
            "text/plain": [
              "<Figure size 800x500 with 1 Axes>"
            ],
            "image/png": "[encoded data removed]"
          },
          "metadata": {}
        }
      ]
    },
    {
      "cell_type": "code",
      "source": [
        "print(\"###########################\")\n",
        "print(\"Box Pollt the Diesel price\")\n",
        "print(\"###########################\")\n",
        "plt.figure(figsize=(8,5))\n",
        "plt.boxplot(df_diesel_price[\"Diesel_price\"])\n",
        "plt.xlabel('Observation')\n",
        "plt.ylabel('diesel_price')\n",
        "plt.title('Day vs Diesel Price')"
      ],
      "metadata": {
        "colab": {
          "base_uri": "https://localhost:8080/",
          "height": 556
        },
        "id": "wHW_QBIL1BvI",
        "outputId": "c013763a-58ae-4093-f881-790a55e84d94"
      },
      "execution_count": 6,
      "outputs": [
        {
          "output_type": "stream",
          "name": "stdout",
          "text": [
            "###########################\n",
            "Box Pollt the Diesel price\n",
            "###########################\n"
          ]
        },
        {
          "output_type": "execute_result",
          "data": {
            "text/plain": [
              "Text(0.5, 1.0, 'Day vs Diesel Price')"
            ]
          },
          "metadata": {},
          "execution_count": 6
        },
        {
          "output_type": "display_data",
          "data": {
            "text/plain": [
              "<Figure size 800x500 with 1 Axes>"
            ],
            "image/png": "[encoded data removed]"
          },
          "metadata": {}
        }
      ]
    },
    {
      "cell_type": "code",
      "source": [
        "df1 = df_diesel_price[\"Diesel_price\"]\n",
        "train = df1.loc[:50]\n",
        "test = df1.loc[51:]\n",
        "plt.figure(figsize=(8,5))\n",
        "ax = train.plot()\n",
        "test.plot(ax=ax)\n",
        "plt.legend(['train', 'test']);"
      ],
      "metadata": {
        "colab": {
          "base_uri": "https://localhost:8080/",
          "height": 445
        },
        "id": "rKZqfsIS1OsJ",
        "outputId": "e4ffcc45-b16f-4240-b63c-b20cf152c08a"
      },
      "execution_count": 7,
      "outputs": [
        {
          "output_type": "display_data",
          "data": {
            "text/plain": [
              "<Figure size 800x500 with 1 Axes>"
            ],
            "image/png": "[encoded data removed]"
          },
          "metadata": {}
        }
      ]
    },
    {
      "cell_type": "code",
      "source": [
        "df_diesel_price_np = df_diesel_price.transpose()\n",
        "shape = df_diesel_price_np.shape\n",
        "#df_diesel_price_np = df_diesel_price_np.reshape((shape[0] * shape[1], 1))"
      ],
      "metadata": {
        "id": "Z1Gls0yj96Vq"
      },
      "execution_count": 8,
      "outputs": []
    },
    {
      "cell_type": "code",
      "source": [
        "print(\"##################################\")\n",
        "print(\"         Split the dataset        \")\n",
        "print(\"##################################\")\n",
        "X_train, X_test, Y_train, Y_test = train_test_split(df_diesel_price[\"Diesel_price\"],df_diesel_price[\"Diesel_price\"], test_size=0.5, random_state=0)\n",
        "print(\"Train Dataset Shape \", X_train.shape)\n",
        "print('Test Dateset  Shape', X_test.shape)\n",
        "X_train.head()"
      ],
      "metadata": {
        "colab": {
          "base_uri": "https://localhost:8080/"
        },
        "id": "9i2_3-A2ziSN",
        "outputId": "260cdf11-5b60-4973-a910-5c9d04d6eeda"
      },
      "execution_count": 50,
      "outputs": [
        {
          "output_type": "stream",
          "name": "stdout",
          "text": [
            "##################################\n",
            "         Split the dataset        \n",
            "##################################\n",
            "Train Dataset Shape  (49,)\n",
            "Test Dateset  Shape (50,)\n"
          ]
        },
        {
          "output_type": "execute_result",
          "data": {
            "text/plain": [
              "90    4.04\n",
              "59    4.60\n",
              "0     3.65\n",
              "34    3.91\n",
              "28    3.86\n",
              "Name: Diesel_price, dtype: float64"
            ]
          },
          "metadata": {},
          "execution_count": 50
        }
      ]
    },
    {
      "cell_type": "code",
      "source": [
        "print(\"##################################\")\n",
        "print(\"        Diesel Dataset Split      \")\n",
        "print(\"##################################\")\n",
        "train_ds = df_diesel_price[\"Diesel_price\"].iloc[0:49].values\n",
        "test_ds = df_diesel_price[\"Diesel_price\"].iloc[49:99].values"
      ],
      "metadata": {
        "id": "6lmOc704_a4A",
        "colab": {
          "base_uri": "https://localhost:8080/"
        },
        "outputId": "95aa2b20-a727-4745-e780-c0c89eaba5c2"
      },
      "execution_count": 10,
      "outputs": [
        {
          "output_type": "stream",
          "name": "stdout",
          "text": [
            "##################################\n",
            "        Diesel Dataset Split      \n",
            "##################################\n"
          ]
        }
      ]
    },
    {
      "cell_type": "code",
      "source": [
        "print(\"##################################\")\n",
        "print(\"        Diesel train dataset      \")\n",
        "print(\"##################################\")\n",
        "X_train"
      ],
      "metadata": {
        "id": "OdbkasBJ1S91",
        "colab": {
          "base_uri": "https://localhost:8080/"
        },
        "outputId": "6dba9ae7-2c96-45b0-99c0-5cf1c396b513"
      },
      "execution_count": 51,
      "outputs": [
        {
          "output_type": "stream",
          "name": "stdout",
          "text": [
            "##################################\n",
            "        Diesel train dataset      \n",
            "##################################\n"
          ]
        },
        {
          "output_type": "execute_result",
          "data": {
            "text/plain": [
              "90    4.04\n",
              "59    4.60\n",
              "0     3.65\n",
              "34    3.91\n",
              "28    3.86\n",
              "50    4.39\n",
              "11    4.73\n",
              "35    4.19\n",
              "23    4.38\n",
              "52    4.47\n",
              "10    4.05\n",
              "31    4.60\n",
              "66    4.40\n",
              "57    4.43\n",
              "79    4.26\n",
              "85    4.04\n",
              "32    4.19\n",
              "84    3.90\n",
              "14    4.06\n",
              "88    4.56\n",
              "19    4.35\n",
              "29    4.18\n",
              "49    4.14\n",
              "96    4.02\n",
              "97    4.76\n",
              "69    3.87\n",
              "20    4.43\n",
              "93    4.47\n",
              "72    3.91\n",
              "77    4.05\n",
              "25    4.69\n",
              "37    4.79\n",
              "81    4.25\n",
              "46    4.51\n",
              "39    4.71\n",
              "65    4.37\n",
              "58    4.07\n",
              "12    4.42\n",
              "70    4.69\n",
              "87    4.58\n",
              "36    4.20\n",
              "21    4.71\n",
              "83    4.21\n",
              "9     4.52\n",
              "95    4.35\n",
              "67    4.33\n",
              "64    4.21\n",
              "47    4.20\n",
              "44    3.81\n",
              "Name: Diesel_price, dtype: float64"
            ]
          },
          "metadata": {},
          "execution_count": 51
        }
      ]
    },
    {
      "cell_type": "code",
      "source": [
        "print(\"##################################\")\n",
        "print(\"        Diesel test dataset      \")\n",
        "print(\"##################################\")\n",
        "test_ds"
      ],
      "metadata": {
        "id": "6pFeDYVg1Uhd",
        "colab": {
          "base_uri": "https://localhost:8080/"
        },
        "outputId": "91da0f8a-39e2-4e87-aecc-e639f387e21d"
      },
      "execution_count": 12,
      "outputs": [
        {
          "output_type": "stream",
          "name": "stdout",
          "text": [
            "##################################\n",
            "        Diesel test dataset      \n",
            "##################################\n"
          ]
        },
        {
          "output_type": "execute_result",
          "data": {
            "text/plain": [
              "array([4.14, 4.39, 3.96, 4.47, 4.61, 4.41, 4.76, 3.86, 4.43, 4.07, 4.6 ,\n",
              "       4.32, 4.47, 4.2 , 4.24, 4.21, 4.37, 4.4 , 4.33, 4.73, 3.87, 4.69,\n",
              "       4.06, 3.91, 4.67, 4.78, 4.37, 4.61, 4.05, 4.49, 4.26, 4.38, 4.25,\n",
              "       4.05, 4.21, 3.9 , 4.04, 4.05, 4.58, 4.56, 4.25, 4.04, 4.03, 4.39,\n",
              "       4.47, 4.18, 4.35, 4.02, 4.76, 4.51])"
            ]
          },
          "metadata": {},
          "execution_count": 12
        }
      ]
    },
    {
      "cell_type": "code",
      "source": [
        "print(\"########################################################################\")\n",
        "print(\"        For Model build X_train,Y_train,X_test and Y_test               \")\n",
        "print(\"########################################################################\")\n",
        "X_train = train_ds[:-1]\n",
        "y_train = train_ds[1:]\n",
        "X_test = test_ds[:-1]\n",
        "y_test = test_ds[1:]"
      ],
      "metadata": {
        "id": "3Ju38kK_3fVk",
        "colab": {
          "base_uri": "https://localhost:8080/"
        },
        "outputId": "d5052dbe-209a-4f64-9502-bced083690cb"
      },
      "execution_count": 13,
      "outputs": [
        {
          "output_type": "stream",
          "name": "stdout",
          "text": [
            "########################################################################\n",
            "        For Model build X_train,Y_train,X_test and Y_test               \n",
            "########################################################################\n"
          ]
        }
      ]
    },
    {
      "cell_type": "code",
      "source": [
        "print(\"X_train\")\n",
        "X_train"
      ],
      "metadata": {
        "id": "JUU4OtN63fgl",
        "colab": {
          "base_uri": "https://localhost:8080/"
        },
        "outputId": "7b03229a-6a6d-4dc6-8d46-d00c47b95050"
      },
      "execution_count": 14,
      "outputs": [
        {
          "output_type": "stream",
          "name": "stdout",
          "text": [
            "X_train\n"
          ]
        },
        {
          "output_type": "execute_result",
          "data": {
            "text/plain": [
              "array([3.65, 3.95, 3.86, 4.06, 3.83, 4.38, 4.48, 4.52, 4.79, 4.52, 4.05,\n",
              "       4.73, 4.42, 4.02, 4.06, 4.68, 3.88, 4.59, 4.23, 4.35, 4.43, 4.71,\n",
              "       4.65, 4.38, 4.29, 4.69, 4.23, 4.05, 3.86, 4.18, 4.54, 4.6 , 4.19,\n",
              "       4.28, 3.91, 4.19, 4.2 , 4.79, 4.3 , 4.71, 3.85, 4.3 , 4.18, 4.51,\n",
              "       3.81, 4.03, 4.51, 4.2 ])"
            ]
          },
          "metadata": {},
          "execution_count": 14
        }
      ]
    },
    {
      "cell_type": "code",
      "source": [
        "print(\"Y_train\")\n",
        "y_train"
      ],
      "metadata": {
        "id": "EhZ183gS3frm",
        "colab": {
          "base_uri": "https://localhost:8080/"
        },
        "outputId": "b0421af5-1eee-4d00-8a78-18214619d133"
      },
      "execution_count": 30,
      "outputs": [
        {
          "output_type": "stream",
          "name": "stdout",
          "text": [
            "Y_train\n"
          ]
        },
        {
          "output_type": "execute_result",
          "data": {
            "text/plain": [
              "array([3.95, 3.86, 4.06, 3.83, 4.38, 4.48, 4.52, 4.79, 4.52, 4.05, 4.73,\n",
              "       4.42, 4.02, 4.06, 4.68, 3.88, 4.59, 4.23, 4.35, 4.43, 4.71, 4.65,\n",
              "       4.38, 4.29, 4.69, 4.23, 4.05, 3.86, 4.18, 4.54, 4.6 , 4.19, 4.28,\n",
              "       3.91, 4.19, 4.2 , 4.79, 4.3 , 4.71, 3.85, 4.3 , 4.18, 4.51, 3.81,\n",
              "       4.03, 4.51, 4.2 , 4.47])"
            ]
          },
          "metadata": {},
          "execution_count": 30
        }
      ]
    },
    {
      "cell_type": "code",
      "source": [
        "print(\"X_test\")\n",
        "X_test"
      ],
      "metadata": {
        "id": "SRllT9_63fvQ",
        "colab": {
          "base_uri": "https://localhost:8080/"
        },
        "outputId": "fa050af2-e038-4945-da15-ef7fb41e555b"
      },
      "execution_count": 15,
      "outputs": [
        {
          "output_type": "stream",
          "name": "stdout",
          "text": [
            "X_test\n"
          ]
        },
        {
          "output_type": "execute_result",
          "data": {
            "text/plain": [
              "array([4.14, 4.39, 3.96, 4.47, 4.61, 4.41, 4.76, 3.86, 4.43, 4.07, 4.6 ,\n",
              "       4.32, 4.47, 4.2 , 4.24, 4.21, 4.37, 4.4 , 4.33, 4.73, 3.87, 4.69,\n",
              "       4.06, 3.91, 4.67, 4.78, 4.37, 4.61, 4.05, 4.49, 4.26, 4.38, 4.25,\n",
              "       4.05, 4.21, 3.9 , 4.04, 4.05, 4.58, 4.56, 4.25, 4.04, 4.03, 4.39,\n",
              "       4.47, 4.18, 4.35, 4.02, 4.76])"
            ]
          },
          "metadata": {},
          "execution_count": 15
        }
      ]
    },
    {
      "cell_type": "code",
      "source": [
        "print(\"Y_test\")\n",
        "y_test"
      ],
      "metadata": {
        "id": "uzAEDXOI37Eb",
        "colab": {
          "base_uri": "https://localhost:8080/"
        },
        "outputId": "fb0af3d0-1f4f-4a88-cf5b-28715a04e5ce"
      },
      "execution_count": 16,
      "outputs": [
        {
          "output_type": "stream",
          "name": "stdout",
          "text": [
            "Y_test\n"
          ]
        },
        {
          "output_type": "execute_result",
          "data": {
            "text/plain": [
              "array([4.39, 3.96, 4.47, 4.61, 4.41, 4.76, 3.86, 4.43, 4.07, 4.6 , 4.32,\n",
              "       4.47, 4.2 , 4.24, 4.21, 4.37, 4.4 , 4.33, 4.73, 3.87, 4.69, 4.06,\n",
              "       3.91, 4.67, 4.78, 4.37, 4.61, 4.05, 4.49, 4.26, 4.38, 4.25, 4.05,\n",
              "       4.21, 3.9 , 4.04, 4.05, 4.58, 4.56, 4.25, 4.04, 4.03, 4.39, 4.47,\n",
              "       4.18, 4.35, 4.02, 4.76, 4.51])"
            ]
          },
          "metadata": {},
          "execution_count": 16
        }
      ]
    },
    {
      "cell_type": "code",
      "source": [
        "print(\"##########################################################\")\n",
        "print(\"        Shaping the Dataset for model building            \")\n",
        "print(\"##########################################################\")\n",
        "X_train_series = X_train.values.reshape((X_train.shape[0], 1))\n",
        "X_test_series = X_test.values.reshape((X_test.shape[0], 1))"
      ],
      "metadata": {
        "colab": {
          "base_uri": "https://localhost:8080/"
        },
        "id": "-ILzO-8G7j8y",
        "outputId": "481dd543-3292-4440-83c4-f27237ad00b8"
      },
      "execution_count": 52,
      "outputs": [
        {
          "output_type": "stream",
          "name": "stdout",
          "text": [
            "##########################################################\n",
            "        Shaping the Dataset for model building            \n",
            "##########################################################\n"
          ]
        }
      ]
    },
    {
      "cell_type": "code",
      "source": [
        "print(\"##########################################################\")\n",
        "print(\"        Model build using various parameters              \")\n",
        "print(\"##########################################################\")\n",
        "\n",
        "model_cnn = Sequential()\n",
        "model_cnn.add(Conv1D(filters=64, kernel_size=2, activation='relu', input_shape=(X_train_series.shape[0],X_train_series.shape[1])))\n",
        "\n",
        "model_cnn.add(MaxPooling1D(pool_size=2))\n",
        "model_cnn.add(Flatten())\n",
        "model_cnn.add(Dense(50, activation='relu'))\n",
        "model_cnn.add(Dense(1))\n",
        "lr = 0.0003\n",
        "adam = optimizers.Adam(lr)\n",
        "model_cnn.compile(loss='mse', optimizer=adam)\n",
        "model_cnn.summary()"
      ],
      "metadata": {
        "id": "6_45KZLC37aM",
        "colab": {
          "base_uri": "https://localhost:8080/"
        },
        "outputId": "ea7de1f1-aece-4231-f9e0-1ea96b346496"
      },
      "execution_count": 60,
      "outputs": [
        {
          "output_type": "stream",
          "name": "stdout",
          "text": [
            "##########################################################\n",
            "        Model build using various parameters              \n",
            "##########################################################\n",
            "Model: \"sequential_12\"\n",
            "_________________________________________________________________\n",
            " Layer (type)                Output Shape              Param #   \n",
            "=================================================================\n",
            " conv1d_2 (Conv1D)           (None, 48, 64)            192       \n",
            "                                                                 \n",
            " max_pooling1d_6 (MaxPooling  (None, 24, 64)           0         \n",
            " 1D)                                                             \n",
            "                                                                 \n",
            " flatten_6 (Flatten)         (None, 1536)              0         \n",
            "                                                                 \n",
            " dense_27 (Dense)            (None, 50)                76850     \n",
            "                                                                 \n",
            " dense_28 (Dense)            (None, 1)                 51        \n",
            "                                                                 \n",
            "=================================================================\n",
            "Total params: 77,093\n",
            "Trainable params: 77,093\n",
            "Non-trainable params: 0\n",
            "_________________________________________________________________\n"
          ]
        }
      ]
    },
    {
      "cell_type": "code",
      "source": [
        "print(\"##########################################################\")\n",
        "print(\"        Model compile              \")\n",
        "print(\"##########################################################\")\n",
        "model_cnn.compile(loss=tf.keras.losses.mae, optimizer=tf.keras.optimizers.SGD(),  metrics=[\"mae\"])"
      ],
      "metadata": {
        "id": "ZUR6oGP1HwOg"
      },
      "execution_count": 54,
      "outputs": []
    },
    {
      "cell_type": "code",
      "source": [
        "model_cnn"
      ],
      "metadata": {
        "colab": {
          "base_uri": "https://localhost:8080/"
        },
        "id": "rTyIzq3mH_z_",
        "outputId": "429ec3c5-dbb1-4f5d-afbd-71891277d0b5"
      },
      "execution_count": 41,
      "outputs": [
        {
          "output_type": "execute_result",
          "data": {
            "text/plain": [
              "<keras.engine.sequential.Sequential at 0x7ef3701ad8d0>"
            ]
          },
          "metadata": {},
          "execution_count": 41
        }
      ]
    },
    {
      "cell_type": "code",
      "source": [
        "print(\"################################\")\n",
        "print(\"        Model fit              \")\n",
        "print(\"###############################\")\n",
        "model_cnn = tf.keras.Sequential([tf.keras.layers.Dense(100),tf.keras.layers.Dense(10),tf.keras.layers.Dense(1)])\n",
        "model_cnn.compile(loss=tf.keras.losses.mae, optimizer=tf.keras.optimizers.Adam(),metrics=['mae'])\n",
        "model_cnn.fit(X_train, Y_train, epochs=100)"
      ],
      "metadata": {
        "colab": {
          "base_uri": "https://localhost:8080/"
        },
        "id": "s4_3a3YgGsP7",
        "outputId": "0fb0cda4-c931-45a9-a100-4aba98be0479"
      },
      "execution_count": 62,
      "outputs": [
        {
          "output_type": "stream",
          "name": "stdout",
          "text": [
            "################################\n",
            "        Model fit              \n",
            "###############################\n",
            "Epoch 1/100\n",
            "2/2 [==============================] - 1s 6ms/step - loss: 4.0077 - mae: 4.0077\n",
            "Epoch 2/100\n",
            "2/2 [==============================] - 0s 8ms/step - loss: 3.5000 - mae: 3.5000\n",
            "Epoch 3/100\n",
            "2/2 [==============================] - 0s 9ms/step - loss: 2.9875 - mae: 2.9875\n",
            "Epoch 4/100\n",
            "2/2 [==============================] - 0s 7ms/step - loss: 2.4793 - mae: 2.4793\n",
            "Epoch 5/100\n",
            "2/2 [==============================] - 0s 5ms/step - loss: 1.9655 - mae: 1.9655\n",
            "Epoch 6/100\n",
            "2/2 [==============================] - 0s 4ms/step - loss: 1.4470 - mae: 1.4470\n",
            "Epoch 7/100\n",
            "2/2 [==============================] - 0s 7ms/step - loss: 0.9223 - mae: 0.9223\n",
            "Epoch 8/100\n",
            "2/2 [==============================] - 0s 6ms/step - loss: 0.3900 - mae: 0.3900\n",
            "Epoch 9/100\n",
            "2/2 [==============================] - 0s 7ms/step - loss: 0.1297 - mae: 0.1297\n",
            "Epoch 10/100\n",
            "2/2 [==============================] - 0s 9ms/step - loss: 0.4401 - mae: 0.4401\n",
            "Epoch 11/100\n",
            "2/2 [==============================] - 0s 8ms/step - loss: 0.5539 - mae: 0.5539\n",
            "Epoch 12/100\n",
            "2/2 [==============================] - 0s 7ms/step - loss: 0.5197 - mae: 0.5197\n",
            "Epoch 13/100\n",
            "2/2 [==============================] - 0s 7ms/step - loss: 0.3762 - mae: 0.3762\n",
            "Epoch 14/100\n",
            "2/2 [==============================] - 0s 5ms/step - loss: 0.1500 - mae: 0.1500\n",
            "Epoch 15/100\n",
            "2/2 [==============================] - 0s 5ms/step - loss: 0.1143 - mae: 0.1143\n",
            "Epoch 16/100\n",
            "2/2 [==============================] - 0s 6ms/step - loss: 0.2522 - mae: 0.2522\n",
            "Epoch 17/100\n",
            "2/2 [==============================] - 0s 6ms/step - loss: 0.2610 - mae: 0.2610\n",
            "Epoch 18/100\n",
            "2/2 [==============================] - 0s 7ms/step - loss: 0.1675 - mae: 0.1675\n",
            "Epoch 19/100\n",
            "2/2 [==============================] - 0s 6ms/step - loss: 0.0474 - mae: 0.0474\n",
            "Epoch 20/100\n",
            "2/2 [==============================] - 0s 7ms/step - loss: 0.1626 - mae: 0.1626\n",
            "Epoch 21/100\n",
            "2/2 [==============================] - 0s 7ms/step - loss: 0.1849 - mae: 0.1849\n",
            "Epoch 22/100\n",
            "2/2 [==============================] - 0s 5ms/step - loss: 0.1013 - mae: 0.1013\n",
            "Epoch 23/100\n",
            "2/2 [==============================] - 0s 5ms/step - loss: 0.0486 - mae: 0.0486\n",
            "Epoch 24/100\n",
            "2/2 [==============================] - 0s 5ms/step - loss: 0.1020 - mae: 0.1020\n",
            "Epoch 25/100\n",
            "2/2 [==============================] - 0s 5ms/step - loss: 0.0484 - mae: 0.0484\n",
            "Epoch 26/100\n",
            "2/2 [==============================] - 0s 8ms/step - loss: 0.0669 - mae: 0.0669\n",
            "Epoch 27/100\n",
            "2/2 [==============================] - 0s 6ms/step - loss: 0.0864 - mae: 0.0864\n",
            "Epoch 28/100\n",
            "2/2 [==============================] - 0s 7ms/step - loss: 0.0302 - mae: 0.0302\n",
            "Epoch 29/100\n",
            "2/2 [==============================] - 0s 7ms/step - loss: 0.0816 - mae: 0.0816\n",
            "Epoch 30/100\n",
            "2/2 [==============================] - 0s 6ms/step - loss: 0.0535 - mae: 0.0535\n",
            "Epoch 31/100\n",
            "2/2 [==============================] - 0s 6ms/step - loss: 0.0425 - mae: 0.0425\n",
            "Epoch 32/100\n",
            "2/2 [==============================] - 0s 6ms/step - loss: 0.0496 - mae: 0.0496\n",
            "Epoch 33/100\n",
            "2/2 [==============================] - 0s 5ms/step - loss: 0.0282 - mae: 0.0282\n",
            "Epoch 34/100\n",
            "2/2 [==============================] - 0s 7ms/step - loss: 0.0297 - mae: 0.0297\n",
            "Epoch 35/100\n",
            "2/2 [==============================] - 0s 8ms/step - loss: 0.0387 - mae: 0.0387\n",
            "Epoch 36/100\n",
            "2/2 [==============================] - 0s 6ms/step - loss: 0.0250 - mae: 0.0250\n",
            "Epoch 37/100\n",
            "2/2 [==============================] - 0s 7ms/step - loss: 0.0371 - mae: 0.0371\n",
            "Epoch 38/100\n",
            "2/2 [==============================] - 0s 5ms/step - loss: 0.0201 - mae: 0.0201\n",
            "Epoch 39/100\n",
            "2/2 [==============================] - 0s 5ms/step - loss: 0.0287 - mae: 0.0287\n",
            "Epoch 40/100\n",
            "2/2 [==============================] - 0s 5ms/step - loss: 0.0270 - mae: 0.0270\n",
            "Epoch 41/100\n",
            "2/2 [==============================] - 0s 6ms/step - loss: 0.0235 - mae: 0.0235\n",
            "Epoch 42/100\n",
            "2/2 [==============================] - 0s 10ms/step - loss: 0.0220 - mae: 0.0220\n",
            "Epoch 43/100\n",
            "2/2 [==============================] - 0s 6ms/step - loss: 0.0205 - mae: 0.0205\n",
            "Epoch 44/100\n",
            "2/2 [==============================] - 0s 6ms/step - loss: 0.0148 - mae: 0.0148\n",
            "Epoch 45/100\n",
            "2/2 [==============================] - 0s 5ms/step - loss: 0.0206 - mae: 0.0206\n",
            "Epoch 46/100\n",
            "2/2 [==============================] - 0s 4ms/step - loss: 0.0177 - mae: 0.0177\n",
            "Epoch 47/100\n",
            "2/2 [==============================] - 0s 4ms/step - loss: 0.0170 - mae: 0.0170\n",
            "Epoch 48/100\n",
            "2/2 [==============================] - 0s 5ms/step - loss: 0.0140 - mae: 0.0140\n",
            "Epoch 49/100\n",
            "2/2 [==============================] - 0s 5ms/step - loss: 0.0169 - mae: 0.0169\n",
            "Epoch 50/100\n",
            "2/2 [==============================] - 0s 8ms/step - loss: 0.0147 - mae: 0.0147\n",
            "Epoch 51/100\n",
            "2/2 [==============================] - 0s 5ms/step - loss: 0.0146 - mae: 0.0146\n",
            "Epoch 52/100\n",
            "2/2 [==============================] - 0s 5ms/step - loss: 0.0127 - mae: 0.0127\n",
            "Epoch 53/100\n",
            "2/2 [==============================] - 0s 4ms/step - loss: 0.0161 - mae: 0.0161\n",
            "Epoch 54/100\n",
            "2/2 [==============================] - 0s 4ms/step - loss: 0.0163 - mae: 0.0163\n",
            "Epoch 55/100\n",
            "2/2 [==============================] - 0s 5ms/step - loss: 0.0147 - mae: 0.0147\n",
            "Epoch 56/100\n",
            "2/2 [==============================] - 0s 4ms/step - loss: 0.0139 - mae: 0.0139\n",
            "Epoch 57/100\n",
            "2/2 [==============================] - 0s 4ms/step - loss: 0.0148 - mae: 0.0148\n",
            "Epoch 58/100\n",
            "2/2 [==============================] - 0s 8ms/step - loss: 0.0127 - mae: 0.0127\n",
            "Epoch 59/100\n",
            "2/2 [==============================] - 0s 4ms/step - loss: 0.0159 - mae: 0.0159\n",
            "Epoch 60/100\n",
            "2/2 [==============================] - 0s 6ms/step - loss: 0.0127 - mae: 0.0127\n",
            "Epoch 61/100\n",
            "2/2 [==============================] - 0s 5ms/step - loss: 0.0123 - mae: 0.0123\n",
            "Epoch 62/100\n",
            "2/2 [==============================] - 0s 4ms/step - loss: 0.0140 - mae: 0.0140\n",
            "Epoch 63/100\n",
            "2/2 [==============================] - 0s 4ms/step - loss: 0.0130 - mae: 0.0130\n",
            "Epoch 64/100\n",
            "2/2 [==============================] - 0s 4ms/step - loss: 0.0123 - mae: 0.0123\n",
            "Epoch 65/100\n",
            "2/2 [==============================] - 0s 5ms/step - loss: 0.0144 - mae: 0.0144\n",
            "Epoch 66/100\n",
            "2/2 [==============================] - 0s 6ms/step - loss: 0.0130 - mae: 0.0130\n",
            "Epoch 67/100\n",
            "2/2 [==============================] - 0s 6ms/step - loss: 0.0123 - mae: 0.0123\n",
            "Epoch 68/100\n",
            "2/2 [==============================] - 0s 5ms/step - loss: 0.0128 - mae: 0.0128\n",
            "Epoch 69/100\n",
            "2/2 [==============================] - 0s 5ms/step - loss: 0.0121 - mae: 0.0121\n",
            "Epoch 70/100\n",
            "2/2 [==============================] - 0s 4ms/step - loss: 0.0123 - mae: 0.0123\n",
            "Epoch 71/100\n",
            "2/2 [==============================] - 0s 4ms/step - loss: 0.0126 - mae: 0.0126\n",
            "Epoch 72/100\n",
            "2/2 [==============================] - 0s 5ms/step - loss: 0.0115 - mae: 0.0115\n",
            "Epoch 73/100\n",
            "2/2 [==============================] - 0s 5ms/step - loss: 0.0178 - mae: 0.0178\n",
            "Epoch 74/100\n",
            "2/2 [==============================] - 0s 5ms/step - loss: 0.0141 - mae: 0.0141\n",
            "Epoch 75/100\n",
            "2/2 [==============================] - 0s 6ms/step - loss: 0.0114 - mae: 0.0114\n",
            "Epoch 76/100\n",
            "2/2 [==============================] - 0s 5ms/step - loss: 0.0112 - mae: 0.0112\n",
            "Epoch 77/100\n",
            "2/2 [==============================] - 0s 5ms/step - loss: 0.0110 - mae: 0.0110\n",
            "Epoch 78/100\n",
            "2/2 [==============================] - 0s 6ms/step - loss: 0.0125 - mae: 0.0125\n",
            "Epoch 79/100\n",
            "2/2 [==============================] - 0s 8ms/step - loss: 0.0103 - mae: 0.0103\n",
            "Epoch 80/100\n",
            "2/2 [==============================] - 0s 5ms/step - loss: 0.0138 - mae: 0.0138\n",
            "Epoch 81/100\n",
            "2/2 [==============================] - 0s 5ms/step - loss: 0.0133 - mae: 0.0133\n",
            "Epoch 82/100\n",
            "2/2 [==============================] - 0s 5ms/step - loss: 0.0114 - mae: 0.0114\n",
            "Epoch 83/100\n",
            "2/2 [==============================] - 0s 4ms/step - loss: 0.0128 - mae: 0.0128\n",
            "Epoch 84/100\n",
            "2/2 [==============================] - 0s 5ms/step - loss: 0.0119 - mae: 0.0119\n",
            "Epoch 85/100\n",
            "2/2 [==============================] - 0s 4ms/step - loss: 0.0119 - mae: 0.0119\n",
            "Epoch 86/100\n",
            "2/2 [==============================] - 0s 4ms/step - loss: 0.0117 - mae: 0.0117\n",
            "Epoch 87/100\n",
            "2/2 [==============================] - 0s 4ms/step - loss: 0.0103 - mae: 0.0103\n",
            "Epoch 88/100\n",
            "2/2 [==============================] - 0s 11ms/step - loss: 0.0103 - mae: 0.0103\n",
            "Epoch 89/100\n",
            "2/2 [==============================] - 0s 6ms/step - loss: 0.0118 - mae: 0.0118\n",
            "Epoch 90/100\n",
            "2/2 [==============================] - 0s 7ms/step - loss: 0.0095 - mae: 0.0095\n",
            "Epoch 91/100\n",
            "2/2 [==============================] - 0s 5ms/step - loss: 0.0105 - mae: 0.0105\n",
            "Epoch 92/100\n",
            "2/2 [==============================] - 0s 5ms/step - loss: 0.0098 - mae: 0.0098\n",
            "Epoch 93/100\n",
            "2/2 [==============================] - 0s 9ms/step - loss: 0.0093 - mae: 0.0093\n",
            "Epoch 94/100\n",
            "2/2 [==============================] - 0s 5ms/step - loss: 0.0090 - mae: 0.0090\n",
            "Epoch 95/100\n",
            "2/2 [==============================] - 0s 5ms/step - loss: 0.0089 - mae: 0.0089\n",
            "Epoch 96/100\n",
            "2/2 [==============================] - 0s 5ms/step - loss: 0.0084 - mae: 0.0084\n",
            "Epoch 97/100\n",
            "2/2 [==============================] - 0s 5ms/step - loss: 0.0103 - mae: 0.0103\n",
            "Epoch 98/100\n",
            "2/2 [==============================] - 0s 5ms/step - loss: 0.0112 - mae: 0.0112\n",
            "Epoch 99/100\n",
            "2/2 [==============================] - 0s 5ms/step - loss: 0.0096 - mae: 0.0096\n",
            "Epoch 100/100\n",
            "2/2 [==============================] - 0s 7ms/step - loss: 0.0110 - mae: 0.0110\n"
          ]
        },
        {
          "output_type": "execute_result",
          "data": {
            "text/plain": [
              "<keras.callbacks.History at 0x7ef371546140>"
            ]
          },
          "metadata": {},
          "execution_count": 62
        }
      ]
    },
    {
      "cell_type": "code",
      "source": [
        "cnn_history = model_cnn.fit(X_train_series, Y_train, epochs=40, verbose=2)\n",
        "#cnn_history = model_cnn.fit(X_train_series, Y_train, validation_data=(X_test_series, Y_test), epochs=40, verbose=2)\n",
        "#cnn_history =model_cnn.fit(X_train_series.shape[0], X_train_series.shape[0], epochs=100, verbose=0)\n",
        "#Y_train, Y_test\n",
        "#cnn_history = model_cnn.fit(X_train_series, Y_train, validation_data=(X_train_series, Y_train), epochs=epochs, verbose=2)"
      ],
      "metadata": {
        "id": "bxC0ZHXD37hv",
        "colab": {
          "base_uri": "https://localhost:8080/"
        },
        "outputId": "a7143622-0e31-4ce3-f32c-56d0e521dbd3"
      },
      "execution_count": 47,
      "outputs": [
        {
          "output_type": "stream",
          "name": "stdout",
          "text": [
            "Epoch 1/40\n",
            "2/2 - 0s - loss: 0.0103 - mae: 0.0103 - 8ms/epoch - 4ms/step\n",
            "Epoch 2/40\n",
            "2/2 - 0s - loss: 0.0093 - mae: 0.0093 - 6ms/epoch - 3ms/step\n",
            "Epoch 3/40\n",
            "2/2 - 0s - loss: 0.0101 - mae: 0.0101 - 7ms/epoch - 3ms/step\n",
            "Epoch 4/40\n",
            "2/2 - 0s - loss: 0.0092 - mae: 0.0092 - 6ms/epoch - 3ms/step\n",
            "Epoch 5/40\n",
            "2/2 - 0s - loss: 0.0112 - mae: 0.0112 - 6ms/epoch - 3ms/step\n",
            "Epoch 6/40\n",
            "2/2 - 0s - loss: 0.0085 - mae: 0.0085 - 6ms/epoch - 3ms/step\n",
            "Epoch 7/40\n",
            "2/2 - 0s - loss: 0.0068 - mae: 0.0068 - 8ms/epoch - 4ms/step\n",
            "Epoch 8/40\n",
            "2/2 - 0s - loss: 0.0086 - mae: 0.0086 - 6ms/epoch - 3ms/step\n",
            "Epoch 9/40\n",
            "2/2 - 0s - loss: 0.0101 - mae: 0.0101 - 6ms/epoch - 3ms/step\n",
            "Epoch 10/40\n",
            "2/2 - 0s - loss: 0.0069 - mae: 0.0069 - 7ms/epoch - 3ms/step\n",
            "Epoch 11/40\n",
            "2/2 - 0s - loss: 0.0079 - mae: 0.0079 - 6ms/epoch - 3ms/step\n",
            "Epoch 12/40\n",
            "2/2 - 0s - loss: 0.0153 - mae: 0.0153 - 10ms/epoch - 5ms/step\n",
            "Epoch 13/40\n",
            "2/2 - 0s - loss: 0.0245 - mae: 0.0245 - 8ms/epoch - 4ms/step\n",
            "Epoch 14/40\n",
            "2/2 - 0s - loss: 0.0110 - mae: 0.0110 - 7ms/epoch - 4ms/step\n",
            "Epoch 15/40\n",
            "2/2 - 0s - loss: 0.0092 - mae: 0.0092 - 8ms/epoch - 4ms/step\n",
            "Epoch 16/40\n",
            "2/2 - 0s - loss: 0.0134 - mae: 0.0134 - 7ms/epoch - 3ms/step\n",
            "Epoch 17/40\n",
            "2/2 - 0s - loss: 0.0193 - mae: 0.0193 - 7ms/epoch - 3ms/step\n",
            "Epoch 18/40\n",
            "2/2 - 0s - loss: 0.0170 - mae: 0.0170 - 6ms/epoch - 3ms/step\n",
            "Epoch 19/40\n",
            "2/2 - 0s - loss: 0.0122 - mae: 0.0122 - 6ms/epoch - 3ms/step\n",
            "Epoch 20/40\n",
            "2/2 - 0s - loss: 0.0116 - mae: 0.0116 - 6ms/epoch - 3ms/step\n",
            "Epoch 21/40\n",
            "2/2 - 0s - loss: 0.0161 - mae: 0.0161 - 6ms/epoch - 3ms/step\n",
            "Epoch 22/40\n",
            "2/2 - 0s - loss: 0.0215 - mae: 0.0215 - 7ms/epoch - 4ms/step\n",
            "Epoch 23/40\n",
            "2/2 - 0s - loss: 0.0104 - mae: 0.0104 - 6ms/epoch - 3ms/step\n",
            "Epoch 24/40\n",
            "2/2 - 0s - loss: 0.0092 - mae: 0.0092 - 7ms/epoch - 3ms/step\n",
            "Epoch 25/40\n",
            "2/2 - 0s - loss: 0.0111 - mae: 0.0111 - 12ms/epoch - 6ms/step\n",
            "Epoch 26/40\n",
            "2/2 - 0s - loss: 0.0144 - mae: 0.0144 - 10ms/epoch - 5ms/step\n",
            "Epoch 27/40\n",
            "2/2 - 0s - loss: 0.0235 - mae: 0.0235 - 6ms/epoch - 3ms/step\n",
            "Epoch 28/40\n",
            "2/2 - 0s - loss: 0.0101 - mae: 0.0101 - 7ms/epoch - 3ms/step\n",
            "Epoch 29/40\n",
            "2/2 - 0s - loss: 0.0095 - mae: 0.0095 - 7ms/epoch - 3ms/step\n",
            "Epoch 30/40\n",
            "2/2 - 0s - loss: 0.0151 - mae: 0.0151 - 7ms/epoch - 3ms/step\n",
            "Epoch 31/40\n",
            "2/2 - 0s - loss: 0.0209 - mae: 0.0209 - 6ms/epoch - 3ms/step\n",
            "Epoch 32/40\n",
            "2/2 - 0s - loss: 0.0078 - mae: 0.0078 - 6ms/epoch - 3ms/step\n",
            "Epoch 33/40\n",
            "2/2 - 0s - loss: 0.0088 - mae: 0.0088 - 7ms/epoch - 3ms/step\n",
            "Epoch 34/40\n",
            "2/2 - 0s - loss: 0.0106 - mae: 0.0106 - 9ms/epoch - 5ms/step\n",
            "Epoch 35/40\n",
            "2/2 - 0s - loss: 0.0075 - mae: 0.0075 - 7ms/epoch - 3ms/step\n",
            "Epoch 36/40\n",
            "2/2 - 0s - loss: 0.0052 - mae: 0.0052 - 7ms/epoch - 3ms/step\n",
            "Epoch 37/40\n",
            "2/2 - 0s - loss: 0.0079 - mae: 0.0079 - 6ms/epoch - 3ms/step\n",
            "Epoch 38/40\n",
            "2/2 - 0s - loss: 0.0074 - mae: 0.0074 - 7ms/epoch - 3ms/step\n",
            "Epoch 39/40\n",
            "2/2 - 0s - loss: 0.0067 - mae: 0.0067 - 6ms/epoch - 3ms/step\n",
            "Epoch 40/40\n",
            "2/2 - 0s - loss: 0.0077 - mae: 0.0077 - 6ms/epoch - 3ms/step\n"
          ]
        }
      ]
    },
    {
      "cell_type": "code",
      "source": [
        "print(\"#######################################\")\n",
        "print(\"        Model prediction               \")\n",
        "print(\"#######################################\")\n",
        "y_pred = model_cnn.predict(X_test, verbose=0)\n",
        "print(y_pred)"
      ],
      "metadata": {
        "id": "cGb2gRFz37lE",
        "colab": {
          "base_uri": "https://localhost:8080/"
        },
        "outputId": "0a5273ab-ef91-4f72-ea73-3c4eb1975561"
      },
      "execution_count": 57,
      "outputs": [
        {
          "output_type": "stream",
          "name": "stdout",
          "text": [
            "#######################################\n",
            "        Model prediction               \n",
            "#######################################\n",
            "[[4.2193966]\n",
            " [4.047749 ]\n",
            " [3.8665652]\n",
            " [4.724805 ]\n",
            " [4.352901 ]\n",
            " [4.3719726]\n",
            " [3.8856373]\n",
            " [4.638981 ]\n",
            " [4.3910446]\n",
            " [4.171717 ]\n",
            " [4.5817647]\n",
            " [4.0286775]\n",
            " [4.467333 ]\n",
            " [4.019141 ]\n",
            " [4.49594  ]\n",
            " [4.515013 ]\n",
            " [4.6199093]\n",
            " [4.2766128]\n",
            " [4.2670774]\n",
            " [4.7534127]\n",
            " [4.486405 ]\n",
            " [4.190789 ]\n",
            " [4.0572853]\n",
            " [4.0572853]\n",
            " [4.0286775]\n",
            " [4.448261 ]\n",
            " [4.457797 ]\n",
            " [4.486405 ]\n",
            " [4.047749 ]\n",
            " [4.5817647]\n",
            " [4.305221 ]\n",
            " [4.3624377]\n",
            " [4.238468 ]\n",
            " [4.6961975]\n",
            " [3.9619255]\n",
            " [4.047749 ]\n",
            " [4.2193966]\n",
            " [3.8665652]\n",
            " [4.228933 ]\n",
            " [4.7438765]\n",
            " [3.9523895]\n",
            " [4.448261 ]\n",
            " [4.171717 ]\n",
            " [4.2861495]\n",
            " [3.8379574]\n",
            " [4.648516 ]\n",
            " [4.562693 ]\n",
            " [3.8570292]\n",
            " [4.2861495]\n",
            " [4.3624377]]\n"
          ]
        }
      ]
    },
    {
      "cell_type": "code",
      "source": [
        "print(\"##############################\")\n",
        "print(\"    Model Evaluation          \")\n",
        "print(\"##############################\")\n",
        "model_cnn.evaluate(X_test, Y_test)\n",
        "model_evaluation_cnn = model_cnn.evaluate(X_test, Y_test, verbose=1)\n",
        "print('CNN Model Test accuracy:', model_evaluation_cnn[1])"
      ],
      "metadata": {
        "id": "v3zuGZHZ4LIC",
        "colab": {
          "base_uri": "https://localhost:8080/"
        },
        "outputId": "203b0e2b-35c0-439e-8c89-4356bb20c43c"
      },
      "execution_count": 69,
      "outputs": [
        {
          "output_type": "stream",
          "name": "stdout",
          "text": [
            "##############################\n",
            "    Model Evaluation          \n",
            "##############################\n",
            "2/2 [==============================] - 0s 4ms/step - loss: 0.0167 - mae: 0.0167\n",
            "2/2 [==============================] - 0s 8ms/step - loss: 0.0167 - mae: 0.0167\n",
            "CNN Model Test accuracy: 0.016665244475007057\n"
          ]
        }
      ]
    }
  ]
}