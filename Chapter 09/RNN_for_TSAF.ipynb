{
  "nbformat": 4,
  "nbformat_minor": 0,
  "metadata": {
    "colab": {
      "provenance": []
    },
    "kernelspec": {
      "name": "python3",
      "display_name": "Python 3"
    },
    "language_info": {
      "name": "python"
    }
  },
  "cells": [
    {
      "cell_type": "code",
      "execution_count": 65,
      "metadata": {
        "colab": {
          "base_uri": "https://localhost:8080/"
        },
        "id": "fEB5tAPo8HaI",
        "outputId": "25ea6457-214e-4320-df9f-95e67da0f722"
      },
      "outputs": [
        {
          "output_type": "stream",
          "name": "stdout",
          "text": [
            "Drive already mounted at /content/drive; to attempt to forcibly remount, call drive.mount(\"/content/drive\", force_remount=True).\n"
          ]
        }
      ],
      "source": [
        "from google.colab import drive\n",
        "drive.mount('/content/drive')"
      ]
    },
    {
      "cell_type": "code",
      "source": [
        "#fundamental libraries\n",
        "import numpy as np\n",
        "import pandas as pd\n",
        "import matplotlib.pyplot as plt\n",
        "import tensorflow as tf\n",
        "from tensorflow import keras\n",
        "from tensorflow.keras import layers\n",
        "%matplotlib inline\n",
        "import warnings\n",
        "\n",
        "#Keras libraries\n",
        "\n",
        "from keras.layers import Dense,LSTM\n",
        "from keras import metrics\n",
        "from sklearn.preprocessing import MinMaxScaler\n",
        "from sklearn.metrics import r2_score\n",
        "from keras.callbacks import EarlyStopping\n",
        "from keras.optimizers import Adam\n",
        "from keras.layers import LSTM\n",
        "from keras import optimizers\n",
        "from keras.utils import plot_model\n",
        "from keras.models import Sequential, Model\n",
        "from sklearn.metrics import mean_squared_error\n",
        "from sklearn.model_selection import train_test_split\n",
        "import plotly.graph_objs as go\n",
        "\n",
        "\n",
        "warnings.filterwarnings('ignore')\n",
        "\n",
        "warnings.filterwarnings('ignore')\n",
        "print(\"##################################\")\n",
        "print(\"Importing all required libraries\")\n",
        "print(\"##################################\")"
      ],
      "metadata": {
        "colab": {
          "base_uri": "https://localhost:8080/"
        },
        "id": "siny6pvA8g9p",
        "outputId": "18519b2e-22ab-47bc-8487-dd8d93322933"
      },
      "execution_count": 242,
      "outputs": [
        {
          "output_type": "stream",
          "name": "stdout",
          "text": [
            "##################################\n",
            "Importing all required libraries\n",
            "##################################\n"
          ]
        }
      ]
    },
    {
      "cell_type": "code",
      "source": [
        "print(\"#####################################\")\n",
        "print(\"loading data from drive successfully\")\n",
        "print(\"####################################\")\n",
        "df_diesel_price = pd.read_csv('/content/drive/MyDrive/diesel_price.csv')"
      ],
      "metadata": {
        "colab": {
          "base_uri": "https://localhost:8080/"
        },
        "id": "VNmO-JFC_Lg9",
        "outputId": "a1091282-0b9f-4831-8bb2-1ab09f3b0885"
      },
      "execution_count": 217,
      "outputs": [
        {
          "output_type": "stream",
          "name": "stdout",
          "text": [
            "#####################################\n",
            "loading data from drive successfully\n",
            "####################################\n"
          ]
        }
      ]
    },
    {
      "cell_type": "code",
      "source": [
        "df_diesel_price.head()"
      ],
      "metadata": {
        "colab": {
          "base_uri": "https://localhost:8080/",
          "height": 206
        },
        "id": "8cka6uct_Lpm",
        "outputId": "fbb9c159-7ccc-4b6b-da5b-df1af3090100"
      },
      "execution_count": 219,
      "outputs": [
        {
          "output_type": "execute_result",
          "data": {
            "text/plain": [
              "    Sale_Date  Diesel_price\n",
              "0  2022-04-16          3.65\n",
              "1  2022-04-17          3.95\n",
              "2  2022-04-18          3.86\n",
              "3  2022-04-18          4.06\n",
              "4  2022-04-21          3.83"
            ],
            "text/html": [
              "\n",
              "  <div id=\"df-0428c93e-6964-408c-a5c9-6d0b5c18cda2\" class=\"colab-df-container\">\n",
              "    <div>\n",
              "<style scoped>\n",
              "    .dataframe tbody tr th:only-of-type {\n",
              "        vertical-align: middle;\n",
              "    }\n",
              "\n",
              "    .dataframe tbody tr th {\n",
              "        vertical-align: top;\n",
              "    }\n",
              "\n",
              "    .dataframe thead th {\n",
              "        text-align: right;\n",
              "    }\n",
              "</style>\n",
              "<table border=\"1\" class=\"dataframe\">\n",
              "  <thead>\n",
              "    <tr style=\"text-align: right;\">\n",
              "      <th></th>\n",
              "      <th>Sale_Date</th>\n",
              "      <th>Diesel_price</th>\n",
              "    </tr>\n",
              "  </thead>\n",
              "  <tbody>\n",
              "    <tr>\n",
              "      <th>0</th>\n",
              "      <td>2022-04-16</td>\n",
              "      <td>3.65</td>\n",
              "    </tr>\n",
              "    <tr>\n",
              "      <th>1</th>\n",
              "      <td>2022-04-17</td>\n",
              "      <td>3.95</td>\n",
              "    </tr>\n",
              "    <tr>\n",
              "      <th>2</th>\n",
              "      <td>2022-04-18</td>\n",
              "      <td>3.86</td>\n",
              "    </tr>\n",
              "    <tr>\n",
              "      <th>3</th>\n",
              "      <td>2022-04-18</td>\n",
              "      <td>4.06</td>\n",
              "    </tr>\n",
              "    <tr>\n",
              "      <th>4</th>\n",
              "      <td>2022-04-21</td>\n",
              "      <td>3.83</td>\n",
              "    </tr>\n",
              "  </tbody>\n",
              "</table>\n",
              "</div>\n",
              "    <div class=\"colab-df-buttons\">\n",
              "\n",
              "  <div class=\"colab-df-container\">\n",
              "    <button class=\"colab-df-convert\" onclick=\"convertToInteractive('df-0428c93e-6964-408c-a5c9-6d0b5c18cda2')\"\n",
              "            title=\"Convert this dataframe to an interactive table.\"\n",
              "            style=\"display:none;\">\n",
              "\n",
              "  <svg xmlns=\"http://www.w3.org/2000/svg\" height=\"24px\" viewBox=\"0 -960 960 960\">\n",
              "    <path d=\"M120-120v-720h720v720H120Zm60-500h600v-160H180v160Zm220 220h160v-160H400v160Zm0 220h160v-160H400v160ZM180-400h160v-160H180v160Zm440 0h160v-160H620v160ZM180-180h160v-160H180v160Zm440 0h160v-160H620v160Z\"/>\n",
              "  </svg>\n",
              "    </button>\n",
              "\n",
              "  <style>\n",
              "    .colab-df-container {\n",
              "      display:flex;\n",
              "      gap: 12px;\n",
              "    }\n",
              "\n",
              "    .colab-df-convert {\n",
              "      background-color: #E8F0FE;\n",
              "      border: none;\n",
              "      border-radius: 50%;\n",
              "      cursor: pointer;\n",
              "      display: none;\n",
              "      fill: #1967D2;\n",
              "      height: 32px;\n",
              "      padding: 0 0 0 0;\n",
              "      width: 32px;\n",
              "    }\n",
              "\n",
              "    .colab-df-convert:hover {\n",
              "      background-color: #E2EBFA;\n",
              "      box-shadow: 0px 1px 2px rgba(60, 64, 67, 0.3), 0px 1px 3px 1px rgba(60, 64, 67, 0.15);\n",
              "      fill: #174EA6;\n",
              "    }\n",
              "\n",
              "    .colab-df-buttons div {\n",
              "      margin-bottom: 4px;\n",
              "    }\n",
              "\n",
              "    [theme=dark] .colab-df-convert {\n",
              "      background-color: #3B4455;\n",
              "      fill: #D2E3FC;\n",
              "    }\n",
              "\n",
              "    [theme=dark] .colab-df-convert:hover {\n",
              "      background-color: #434B5C;\n",
              "      box-shadow: 0px 1px 3px 1px rgba(0, 0, 0, 0.15);\n",
              "      filter: drop-shadow(0px 1px 2px rgba(0, 0, 0, 0.3));\n",
              "      fill: #FFFFFF;\n",
              "    }\n",
              "  </style>\n",
              "\n",
              "    <script>\n",
              "      const buttonEl =\n",
              "        document.querySelector('#df-0428c93e-6964-408c-a5c9-6d0b5c18cda2 button.colab-df-convert');\n",
              "      buttonEl.style.display =\n",
              "        google.colab.kernel.accessAllowed ? 'block' : 'none';\n",
              "\n",
              "      async function convertToInteractive(key) {\n",
              "        const element = document.querySelector('#df-0428c93e-6964-408c-a5c9-6d0b5c18cda2');\n",
              "        const dataTable =\n",
              "          await google.colab.kernel.invokeFunction('convertToInteractive',\n",
              "                                                    [key], {});\n",
              "        if (!dataTable) return;\n",
              "\n",
              "        const docLinkHtml = 'Like what you see? Visit the ' +\n",
              "          '<a target=\"_blank\" href=https://colab.research.google.com/notebooks/data_table.ipynb>data table notebook</a>'\n",
              "          + ' to learn more about interactive tables.';\n",
              "        element.innerHTML = '';\n",
              "        dataTable['output_type'] = 'display_data';\n",
              "        await google.colab.output.renderOutput(dataTable, element);\n",
              "        const docLink = document.createElement('div');\n",
              "        docLink.innerHTML = docLinkHtml;\n",
              "        element.appendChild(docLink);\n",
              "      }\n",
              "    </script>\n",
              "  </div>\n",
              "\n",
              "\n",
              "<div id=\"df-b0eb12bf-f281-449e-8fe7-4697b947ddb9\">\n",
              "  <button class=\"colab-df-quickchart\" onclick=\"quickchart('df-b0eb12bf-f281-449e-8fe7-4697b947ddb9')\"\n",
              "            title=\"Suggest charts.\"\n",
              "            style=\"display:none;\">\n",
              "\n",
              "<svg xmlns=\"http://www.w3.org/2000/svg\" height=\"24px\"viewBox=\"0 0 24 24\"\n",
              "     width=\"24px\">\n",
              "    <g>\n",
              "        <path d=\"M19 3H5c-1.1 0-2 .9-2 2v14c0 1.1.9 2 2 2h14c1.1 0 2-.9 2-2V5c0-1.1-.9-2-2-2zM9 17H7v-7h2v7zm4 0h-2V7h2v10zm4 0h-2v-4h2v4z\"/>\n",
              "    </g>\n",
              "</svg>\n",
              "  </button>\n",
              "\n",
              "<style>\n",
              "  .colab-df-quickchart {\n",
              "    background-color: #E8F0FE;\n",
              "    border: none;\n",
              "    border-radius: 50%;\n",
              "    cursor: pointer;\n",
              "    display: none;\n",
              "    fill: #1967D2;\n",
              "    height: 32px;\n",
              "    padding: 0 0 0 0;\n",
              "    width: 32px;\n",
              "  }\n",
              "\n",
              "  .colab-df-quickchart:hover {\n",
              "    background-color: #E2EBFA;\n",
              "    box-shadow: 0px 1px 2px rgba(60, 64, 67, 0.3), 0px 1px 3px 1px rgba(60, 64, 67, 0.15);\n",
              "    fill: #174EA6;\n",
              "  }\n",
              "\n",
              "  [theme=dark] .colab-df-quickchart {\n",
              "    background-color: #3B4455;\n",
              "    fill: #D2E3FC;\n",
              "  }\n",
              "\n",
              "  [theme=dark] .colab-df-quickchart:hover {\n",
              "    background-color: #434B5C;\n",
              "    box-shadow: 0px 1px 3px 1px rgba(0, 0, 0, 0.15);\n",
              "    filter: drop-shadow(0px 1px 2px rgba(0, 0, 0, 0.3));\n",
              "    fill: #FFFFFF;\n",
              "  }\n",
              "</style>\n",
              "\n",
              "  <script>\n",
              "    async function quickchart(key) {\n",
              "      const charts = await google.colab.kernel.invokeFunction(\n",
              "          'suggestCharts', [key], {});\n",
              "    }\n",
              "    (() => {\n",
              "      let quickchartButtonEl =\n",
              "        document.querySelector('#df-b0eb12bf-f281-449e-8fe7-4697b947ddb9 button');\n",
              "      quickchartButtonEl.style.display =\n",
              "        google.colab.kernel.accessAllowed ? 'block' : 'none';\n",
              "    })();\n",
              "  </script>\n",
              "</div>\n",
              "    </div>\n",
              "  </div>\n"
            ]
          },
          "metadata": {},
          "execution_count": 219
        }
      ]
    },
    {
      "cell_type": "code",
      "source": [
        "df_diesel_price.size"
      ],
      "metadata": {
        "colab": {
          "base_uri": "https://localhost:8080/"
        },
        "id": "2sYxmqPqhia_",
        "outputId": "889949fb-a4b9-47e4-c497-8a356b1e93d6"
      },
      "execution_count": 69,
      "outputs": [
        {
          "output_type": "execute_result",
          "data": {
            "text/plain": [
              "200"
            ]
          },
          "metadata": {},
          "execution_count": 69
        }
      ]
    },
    {
      "cell_type": "code",
      "source": [
        "print(\"##################################\")\n",
        "print(\"Line Pollting the Diesel price\")\n",
        "print(\"##################################\")\n",
        "plt.figure(figsize=(8,5))\n",
        "plt.plot(df_diesel_price[\"Diesel_price\"])\n",
        "plt.xlabel('Observation')\n",
        "plt.ylabel('Diesel price')\n",
        "plt.title('Day vs Diesel Price')"
      ],
      "metadata": {
        "colab": {
          "base_uri": "https://localhost:8080/",
          "height": 556
        },
        "id": "ZeVP2P_n_LtB",
        "outputId": "1f21e307-8c84-416e-f8b9-971c0dc308ff"
      },
      "execution_count": 220,
      "outputs": [
        {
          "output_type": "stream",
          "name": "stdout",
          "text": [
            "##################################\n",
            "Line Pollting the Diesel price\n",
            "##################################\n"
          ]
        },
        {
          "output_type": "execute_result",
          "data": {
            "text/plain": [
              "Text(0.5, 1.0, 'Day vs Diesel Price')"
            ]
          },
          "metadata": {},
          "execution_count": 220
        },
        {
          "output_type": "display_data",
          "data": {
            "text/plain": [
              "<Figure size 800x500 with 1 Axes>"
            ],
            "image/png": "[encoded data removed]"
          },
          "metadata": {}
        }
      ]
    },
    {
      "cell_type": "code",
      "source": [
        "df_diesel_price[\"Diesel_price\"].size"
      ],
      "metadata": {
        "colab": {
          "base_uri": "https://localhost:8080/"
        },
        "id": "bYV76eY7haau",
        "outputId": "5666772e-522d-41e2-9126-54c438615032"
      },
      "execution_count": 71,
      "outputs": [
        {
          "output_type": "execute_result",
          "data": {
            "text/plain": [
              "100"
            ]
          },
          "metadata": {},
          "execution_count": 71
        }
      ]
    },
    {
      "cell_type": "code",
      "source": [
        "print(\"##################################\")\n",
        "print(\"        Diesel Dataset Split      \")\n",
        "print(\"##################################\")\n",
        "train_ds = df_diesel_price[\"Diesel_price\"].iloc[0:50].values\n",
        "test_ds = df_diesel_price[\"Diesel_price\"].iloc[50:100].values"
      ],
      "metadata": {
        "colab": {
          "base_uri": "https://localhost:8080/"
        },
        "id": "HahuWwQN_LwA",
        "outputId": "37bcf3d9-dea5-4a9c-89df-41b9c09d7699"
      },
      "execution_count": 221,
      "outputs": [
        {
          "output_type": "stream",
          "name": "stdout",
          "text": [
            "##################################\n",
            "        Diesel Dataset Split      \n",
            "##################################\n"
          ]
        }
      ]
    },
    {
      "cell_type": "code",
      "source": [
        "train_ds.size"
      ],
      "metadata": {
        "colab": {
          "base_uri": "https://localhost:8080/"
        },
        "id": "vwRqaAMckYwk",
        "outputId": "9c5a4ced-14d7-407b-f770-83e5d5067828"
      },
      "execution_count": 156,
      "outputs": [
        {
          "output_type": "execute_result",
          "data": {
            "text/plain": [
              "50"
            ]
          },
          "metadata": {},
          "execution_count": 156
        }
      ]
    },
    {
      "cell_type": "code",
      "source": [
        "train_ds"
      ],
      "metadata": {
        "colab": {
          "base_uri": "https://localhost:8080/"
        },
        "id": "2kwonj8flaPM",
        "outputId": "ebf7e502-d1f8-4930-de88-8321036294f6"
      },
      "execution_count": 222,
      "outputs": [
        {
          "output_type": "execute_result",
          "data": {
            "text/plain": [
              "array([3.65, 3.95, 3.86, 4.06, 3.83, 4.38, 4.48, 4.52, 4.79, 4.52, 4.05,\n",
              "       4.73, 4.42, 4.02, 4.06, 4.68, 3.88, 4.59, 4.23, 4.35, 4.43, 4.71,\n",
              "       4.65, 4.38, 4.29, 4.69, 4.23, 4.05, 3.86, 4.18, 4.54, 4.6 , 4.19,\n",
              "       4.28, 3.91, 4.19, 4.2 , 4.79, 4.3 , 4.71, 3.85, 4.3 , 4.18, 4.51,\n",
              "       3.81, 4.03, 4.51, 4.2 , 4.47, 4.14])"
            ]
          },
          "metadata": {},
          "execution_count": 222
        }
      ]
    },
    {
      "cell_type": "code",
      "source": [
        "test_ds"
      ],
      "metadata": {
        "colab": {
          "base_uri": "https://localhost:8080/"
        },
        "id": "zZkfZE3ylbvT",
        "outputId": "0a442e7a-ad2c-4a44-c9c8-1b3237b21fda"
      },
      "execution_count": 223,
      "outputs": [
        {
          "output_type": "execute_result",
          "data": {
            "text/plain": [
              "array([4.39, 3.96, 4.47, 4.61, 4.41, 4.76, 3.86, 4.43, 4.07, 4.6 , 4.32,\n",
              "       4.47, 4.2 , 4.24, 4.21, 4.37, 4.4 , 4.33, 4.73, 3.87, 4.69, 4.06,\n",
              "       3.91, 4.67, 4.78, 4.37, 4.61, 4.05, 4.49, 4.26, 4.38, 4.25, 4.05,\n",
              "       4.21, 3.9 , 4.04, 4.05, 4.58, 4.56, 4.25, 4.04, 4.03, 4.39, 4.47,\n",
              "       4.18, 4.35, 4.02, 4.76, 4.51, 4.61])"
            ]
          },
          "metadata": {},
          "execution_count": 223
        }
      ]
    },
    {
      "cell_type": "code",
      "source": [
        "test_ds.size"
      ],
      "metadata": {
        "colab": {
          "base_uri": "https://localhost:8080/"
        },
        "id": "HAQam9ObhCf-",
        "outputId": "dc94a17a-f2d3-4572-9fbd-8e5b3e792f1f"
      },
      "execution_count": 224,
      "outputs": [
        {
          "output_type": "execute_result",
          "data": {
            "text/plain": [
              "50"
            ]
          },
          "metadata": {},
          "execution_count": 224
        }
      ]
    },
    {
      "cell_type": "code",
      "source": [
        "print(\"########################################################################\")\n",
        "print(\"        For Model build X_train,Y_train,X_test and Y_test               \")\n",
        "print(\"########################################################################\")\n",
        "X_train = train_ds[:-1]\n",
        "y_train = train_ds[1:]\n",
        "X_test = test_ds[:-1]\n",
        "y_test = test_ds[1:]\n",
        "\n",
        "\n"
      ],
      "metadata": {
        "colab": {
          "base_uri": "https://localhost:8080/"
        },
        "id": "dB0nN5ixf99V",
        "outputId": "fe23b6ed-e0b4-40a6-a90f-f8249b9fc5a1"
      },
      "execution_count": 259,
      "outputs": [
        {
          "output_type": "stream",
          "name": "stdout",
          "text": [
            "########################################################################\n",
            "        For Model build X_train,Y_train,X_test and Y_test               \n",
            "########################################################################\n"
          ]
        }
      ]
    },
    {
      "cell_type": "code",
      "source": [
        "print(\"X_train\")\n",
        "X_train"
      ],
      "metadata": {
        "colab": {
          "base_uri": "https://localhost:8080/"
        },
        "id": "HKRXQjRajqVD",
        "outputId": "9c76f8ea-ec3f-4f86-e323-75f643a5de81"
      },
      "execution_count": 226,
      "outputs": [
        {
          "output_type": "stream",
          "name": "stdout",
          "text": [
            "X_train\n"
          ]
        },
        {
          "output_type": "execute_result",
          "data": {
            "text/plain": [
              "array([3.65, 3.95, 3.86, 4.06, 3.83, 4.38, 4.48, 4.52, 4.79, 4.52, 4.05,\n",
              "       4.73, 4.42, 4.02, 4.06, 4.68, 3.88, 4.59, 4.23, 4.35, 4.43, 4.71,\n",
              "       4.65, 4.38, 4.29, 4.69, 4.23, 4.05, 3.86, 4.18, 4.54, 4.6 , 4.19,\n",
              "       4.28, 3.91, 4.19, 4.2 , 4.79, 4.3 , 4.71, 3.85, 4.3 , 4.18, 4.51,\n",
              "       3.81, 4.03, 4.51, 4.2 , 4.47])"
            ]
          },
          "metadata": {},
          "execution_count": 226
        }
      ]
    },
    {
      "cell_type": "code",
      "source": [
        "print(\"Y_train\")\n",
        "y_train"
      ],
      "metadata": {
        "colab": {
          "base_uri": "https://localhost:8080/"
        },
        "id": "nb66F6Ppjqfa",
        "outputId": "fbaa12f1-dcbf-4039-8348-577191a3f63f"
      },
      "execution_count": 227,
      "outputs": [
        {
          "output_type": "stream",
          "name": "stdout",
          "text": [
            "Y_train\n"
          ]
        },
        {
          "output_type": "execute_result",
          "data": {
            "text/plain": [
              "array([3.95, 3.86, 4.06, 3.83, 4.38, 4.48, 4.52, 4.79, 4.52, 4.05, 4.73,\n",
              "       4.42, 4.02, 4.06, 4.68, 3.88, 4.59, 4.23, 4.35, 4.43, 4.71, 4.65,\n",
              "       4.38, 4.29, 4.69, 4.23, 4.05, 3.86, 4.18, 4.54, 4.6 , 4.19, 4.28,\n",
              "       3.91, 4.19, 4.2 , 4.79, 4.3 , 4.71, 3.85, 4.3 , 4.18, 4.51, 3.81,\n",
              "       4.03, 4.51, 4.2 , 4.47, 4.14])"
            ]
          },
          "metadata": {},
          "execution_count": 227
        }
      ]
    },
    {
      "cell_type": "code",
      "source": [
        "print(\"X_test\")\n",
        "X_test"
      ],
      "metadata": {
        "colab": {
          "base_uri": "https://localhost:8080/"
        },
        "id": "CIBzzrVOjqnO",
        "outputId": "58968bc2-075a-46a3-d1ee-4dfde1a2df6f"
      },
      "execution_count": 228,
      "outputs": [
        {
          "output_type": "stream",
          "name": "stdout",
          "text": [
            "X_test\n"
          ]
        },
        {
          "output_type": "execute_result",
          "data": {
            "text/plain": [
              "array([4.39, 3.96, 4.47, 4.61, 4.41, 4.76, 3.86, 4.43, 4.07, 4.6 , 4.32,\n",
              "       4.47, 4.2 , 4.24, 4.21, 4.37, 4.4 , 4.33, 4.73, 3.87, 4.69, 4.06,\n",
              "       3.91, 4.67, 4.78, 4.37, 4.61, 4.05, 4.49, 4.26, 4.38, 4.25, 4.05,\n",
              "       4.21, 3.9 , 4.04, 4.05, 4.58, 4.56, 4.25, 4.04, 4.03, 4.39, 4.47,\n",
              "       4.18, 4.35, 4.02, 4.76, 4.51])"
            ]
          },
          "metadata": {},
          "execution_count": 228
        }
      ]
    },
    {
      "cell_type": "code",
      "source": [
        "print(\"Y_test\")\n",
        "y_test"
      ],
      "metadata": {
        "colab": {
          "base_uri": "https://localhost:8080/"
        },
        "id": "m1TBx8PUjqui",
        "outputId": "bd24a6ba-3840-4bc1-8b50-6e27c2c0c328"
      },
      "execution_count": 229,
      "outputs": [
        {
          "output_type": "stream",
          "name": "stdout",
          "text": [
            "Y_test\n"
          ]
        },
        {
          "output_type": "execute_result",
          "data": {
            "text/plain": [
              "array([3.96, 4.47, 4.61, 4.41, 4.76, 3.86, 4.43, 4.07, 4.6 , 4.32, 4.47,\n",
              "       4.2 , 4.24, 4.21, 4.37, 4.4 , 4.33, 4.73, 3.87, 4.69, 4.06, 3.91,\n",
              "       4.67, 4.78, 4.37, 4.61, 4.05, 4.49, 4.26, 4.38, 4.25, 4.05, 4.21,\n",
              "       3.9 , 4.04, 4.05, 4.58, 4.56, 4.25, 4.04, 4.03, 4.39, 4.47, 4.18,\n",
              "       4.35, 4.02, 4.76, 4.51, 4.61])"
            ]
          },
          "metadata": {},
          "execution_count": 229
        }
      ]
    },
    {
      "cell_type": "code",
      "source": [
        "y_test.size\n"
      ],
      "metadata": {
        "colab": {
          "base_uri": "https://localhost:8080/"
        },
        "id": "ndvOAegBj64p",
        "outputId": "dcbf193d-d2b5-4179-f2e6-528269b72d92"
      },
      "execution_count": 174,
      "outputs": [
        {
          "output_type": "execute_result",
          "data": {
            "text/plain": [
              "49"
            ]
          },
          "metadata": {},
          "execution_count": 174
        }
      ]
    },
    {
      "cell_type": "code",
      "source": [
        "y_train.size"
      ],
      "metadata": {
        "colab": {
          "base_uri": "https://localhost:8080/"
        },
        "id": "ze2bh23skDaT",
        "outputId": "e7b07069-d2ce-46ce-d427-6f82b2fbdbdb"
      },
      "execution_count": 175,
      "outputs": [
        {
          "output_type": "execute_result",
          "data": {
            "text/plain": [
              "49"
            ]
          },
          "metadata": {},
          "execution_count": 175
        }
      ]
    },
    {
      "cell_type": "code",
      "source": [
        "X_train.size"
      ],
      "metadata": {
        "colab": {
          "base_uri": "https://localhost:8080/"
        },
        "id": "H3yyxdY4kF0Z",
        "outputId": "abdb82b0-c4ea-41b3-b1a5-884eb06bf415"
      },
      "execution_count": 176,
      "outputs": [
        {
          "output_type": "execute_result",
          "data": {
            "text/plain": [
              "49"
            ]
          },
          "metadata": {},
          "execution_count": 176
        }
      ]
    },
    {
      "cell_type": "code",
      "source": [
        "X_test.size"
      ],
      "metadata": {
        "colab": {
          "base_uri": "https://localhost:8080/"
        },
        "id": "f0YcwGZ4kJHb",
        "outputId": "bd748a99-94d8-4ad7-905b-51410b97254b"
      },
      "execution_count": 177,
      "outputs": [
        {
          "output_type": "execute_result",
          "data": {
            "text/plain": [
              "49"
            ]
          },
          "metadata": {},
          "execution_count": 177
        }
      ]
    },
    {
      "cell_type": "code",
      "source": [
        "print(\"##########################################################\")\n",
        "print(\"        Model build using various parameters              \")\n",
        "print(\"##########################################################\")\n",
        "rnnmodel = Sequential()\n",
        "rnnmodel.add(LSTM(5,activation = 'tanh',input_shape = (1,1),recurrent_activation= 'hard_sigmoid'))\n",
        "rnnmodel.add(Dense(1))\n",
        "rnnmodel.compile(loss= 'mean_squared_error',optimizer = 'rmsprop', metrics=[metrics.mae])\n",
        "rnnmodel.summary()"
      ],
      "metadata": {
        "colab": {
          "base_uri": "https://localhost:8080/"
        },
        "id": "yuLuo1hIga4X",
        "outputId": "2d143957-b7d4-458a-a6b7-11a1c272de5b"
      },
      "execution_count": 252,
      "outputs": [
        {
          "output_type": "stream",
          "name": "stdout",
          "text": [
            "##########################################################\n",
            "        Model build using various parameters              \n",
            "##########################################################\n",
            "Model: \"sequential_22\"\n",
            "_________________________________________________________________\n",
            " Layer (type)                Output Shape              Param #   \n",
            "=================================================================\n",
            " lstm_19 (LSTM)              (None, 5)                 140       \n",
            "                                                                 \n",
            " dense_22 (Dense)            (None, 1)                 6         \n",
            "                                                                 \n",
            "=================================================================\n",
            "Total params: 146\n",
            "Trainable params: 146\n",
            "Non-trainable params: 0\n",
            "_________________________________________________________________\n"
          ]
        }
      ]
    },
    {
      "cell_type": "code",
      "source": [
        "print(\"########################################\")\n",
        "print(\"        Fitting the Model               \")\n",
        "print(\"########################################\")\n",
        "rnnmodel.fit(tf.expand_dims(X_test, axis=-1), y_test, epochs=100)"
      ],
      "metadata": {
        "colab": {
          "base_uri": "https://localhost:8080/"
        },
        "id": "mwBDIhRdsW5e",
        "outputId": "07c8f1e6-ee8d-454b-cf52-7be813c19205"
      },
      "execution_count": 257,
      "outputs": [
        {
          "output_type": "stream",
          "name": "stdout",
          "text": [
            "########################################\n",
            "        Fitting the Model               \n",
            "########################################\n",
            "Epoch 1/100\n",
            "2/2 [==============================] - 0s 12ms/step - loss: 7.7123 - mean_absolute_error: 2.7643\n",
            "Epoch 2/100\n",
            "2/2 [==============================] - 0s 16ms/step - loss: 7.6375 - mean_absolute_error: 2.7507\n",
            "Epoch 3/100\n",
            "2/2 [==============================] - 0s 11ms/step - loss: 7.5630 - mean_absolute_error: 2.7371\n",
            "Epoch 4/100\n",
            "2/2 [==============================] - 0s 12ms/step - loss: 7.4887 - mean_absolute_error: 2.7236\n",
            "Epoch 5/100\n",
            "2/2 [==============================] - 0s 11ms/step - loss: 7.4144 - mean_absolute_error: 2.7098\n",
            "Epoch 6/100\n",
            "2/2 [==============================] - 0s 12ms/step - loss: 7.3409 - mean_absolute_error: 2.6962\n",
            "Epoch 7/100\n",
            "2/2 [==============================] - 0s 12ms/step - loss: 7.2671 - mean_absolute_error: 2.6826\n",
            "Epoch 8/100\n",
            "2/2 [==============================] - 0s 11ms/step - loss: 7.1934 - mean_absolute_error: 2.6687\n",
            "Epoch 9/100\n",
            "2/2 [==============================] - 0s 10ms/step - loss: 7.1207 - mean_absolute_error: 2.6551\n",
            "Epoch 10/100\n",
            "2/2 [==============================] - 0s 16ms/step - loss: 7.0478 - mean_absolute_error: 2.6414\n",
            "Epoch 11/100\n",
            "2/2 [==============================] - 0s 16ms/step - loss: 6.9750 - mean_absolute_error: 2.6275\n",
            "Epoch 12/100\n",
            "2/2 [==============================] - 0s 15ms/step - loss: 6.9028 - mean_absolute_error: 2.6138\n",
            "Epoch 13/100\n",
            "2/2 [==============================] - 0s 19ms/step - loss: 6.8310 - mean_absolute_error: 2.6000\n",
            "Epoch 14/100\n",
            "2/2 [==============================] - 0s 10ms/step - loss: 6.7599 - mean_absolute_error: 2.5862\n",
            "Epoch 15/100\n",
            "2/2 [==============================] - 0s 13ms/step - loss: 6.6895 - mean_absolute_error: 2.5726\n",
            "Epoch 16/100\n",
            "2/2 [==============================] - 0s 11ms/step - loss: 6.6196 - mean_absolute_error: 2.5590\n",
            "Epoch 17/100\n",
            "2/2 [==============================] - 0s 13ms/step - loss: 6.5500 - mean_absolute_error: 2.5454\n",
            "Epoch 18/100\n",
            "2/2 [==============================] - 0s 12ms/step - loss: 6.4805 - mean_absolute_error: 2.5317\n",
            "Epoch 19/100\n",
            "2/2 [==============================] - 0s 12ms/step - loss: 6.4113 - mean_absolute_error: 2.5179\n",
            "Epoch 20/100\n",
            "2/2 [==============================] - 0s 13ms/step - loss: 6.3424 - mean_absolute_error: 2.5044\n",
            "Epoch 21/100\n",
            "2/2 [==============================] - 0s 12ms/step - loss: 6.2736 - mean_absolute_error: 2.4905\n",
            "Epoch 22/100\n",
            "2/2 [==============================] - 0s 12ms/step - loss: 6.2056 - mean_absolute_error: 2.4768\n",
            "Epoch 23/100\n",
            "2/2 [==============================] - 0s 12ms/step - loss: 6.1380 - mean_absolute_error: 2.4632\n",
            "Epoch 24/100\n",
            "2/2 [==============================] - 0s 12ms/step - loss: 6.0707 - mean_absolute_error: 2.4494\n",
            "Epoch 25/100\n",
            "2/2 [==============================] - 0s 17ms/step - loss: 6.0045 - mean_absolute_error: 2.4359\n",
            "Epoch 26/100\n",
            "2/2 [==============================] - 0s 11ms/step - loss: 5.9384 - mean_absolute_error: 2.4223\n",
            "Epoch 27/100\n",
            "2/2 [==============================] - 0s 11ms/step - loss: 5.8730 - mean_absolute_error: 2.4088\n",
            "Epoch 28/100\n",
            "2/2 [==============================] - 0s 10ms/step - loss: 5.8080 - mean_absolute_error: 2.3953\n",
            "Epoch 29/100\n",
            "2/2 [==============================] - 0s 11ms/step - loss: 5.7433 - mean_absolute_error: 2.3817\n",
            "Epoch 30/100\n",
            "2/2 [==============================] - 0s 11ms/step - loss: 5.6792 - mean_absolute_error: 2.3681\n",
            "Epoch 31/100\n",
            "2/2 [==============================] - 0s 12ms/step - loss: 5.6161 - mean_absolute_error: 2.3548\n",
            "Epoch 32/100\n",
            "2/2 [==============================] - 0s 10ms/step - loss: 5.5529 - mean_absolute_error: 2.3414\n",
            "Epoch 33/100\n",
            "2/2 [==============================] - 0s 16ms/step - loss: 5.4900 - mean_absolute_error: 2.3279\n",
            "Epoch 34/100\n",
            "2/2 [==============================] - 0s 15ms/step - loss: 5.4272 - mean_absolute_error: 2.3144\n",
            "Epoch 35/100\n",
            "2/2 [==============================] - 0s 14ms/step - loss: 5.3646 - mean_absolute_error: 2.3009\n",
            "Epoch 36/100\n",
            "2/2 [==============================] - 0s 10ms/step - loss: 5.3029 - mean_absolute_error: 2.2872\n",
            "Epoch 37/100\n",
            "2/2 [==============================] - 0s 13ms/step - loss: 5.2422 - mean_absolute_error: 2.2740\n",
            "Epoch 38/100\n",
            "2/2 [==============================] - 0s 14ms/step - loss: 5.1809 - mean_absolute_error: 2.2606\n",
            "Epoch 39/100\n",
            "2/2 [==============================] - 0s 13ms/step - loss: 5.1202 - mean_absolute_error: 2.2470\n",
            "Epoch 40/100\n",
            "2/2 [==============================] - 0s 15ms/step - loss: 5.0600 - mean_absolute_error: 2.2337\n",
            "Epoch 41/100\n",
            "2/2 [==============================] - 0s 15ms/step - loss: 4.9996 - mean_absolute_error: 2.2202\n",
            "Epoch 42/100\n",
            "2/2 [==============================] - 0s 10ms/step - loss: 4.9398 - mean_absolute_error: 2.2066\n",
            "Epoch 43/100\n",
            "2/2 [==============================] - 0s 16ms/step - loss: 4.8807 - mean_absolute_error: 2.1931\n",
            "Epoch 44/100\n",
            "2/2 [==============================] - 0s 11ms/step - loss: 4.8222 - mean_absolute_error: 2.1797\n",
            "Epoch 45/100\n",
            "2/2 [==============================] - 0s 12ms/step - loss: 4.7635 - mean_absolute_error: 2.1663\n",
            "Epoch 46/100\n",
            "2/2 [==============================] - 0s 13ms/step - loss: 4.7046 - mean_absolute_error: 2.1527\n",
            "Epoch 47/100\n",
            "2/2 [==============================] - 0s 13ms/step - loss: 4.6459 - mean_absolute_error: 2.1390\n",
            "Epoch 48/100\n",
            "2/2 [==============================] - 0s 10ms/step - loss: 4.5876 - mean_absolute_error: 2.1253\n",
            "Epoch 49/100\n",
            "2/2 [==============================] - 0s 11ms/step - loss: 4.5299 - mean_absolute_error: 2.1118\n",
            "Epoch 50/100\n",
            "2/2 [==============================] - 0s 15ms/step - loss: 4.4730 - mean_absolute_error: 2.0981\n",
            "Epoch 51/100\n",
            "2/2 [==============================] - 0s 13ms/step - loss: 4.4167 - mean_absolute_error: 2.0848\n",
            "Epoch 52/100\n",
            "2/2 [==============================] - 0s 12ms/step - loss: 4.3606 - mean_absolute_error: 2.0712\n",
            "Epoch 53/100\n",
            "2/2 [==============================] - 0s 35ms/step - loss: 4.3049 - mean_absolute_error: 2.0578\n",
            "Epoch 54/100\n",
            "2/2 [==============================] - 0s 18ms/step - loss: 4.2494 - mean_absolute_error: 2.0443\n",
            "Epoch 55/100\n",
            "2/2 [==============================] - 0s 30ms/step - loss: 4.1939 - mean_absolute_error: 2.0307\n",
            "Epoch 56/100\n",
            "2/2 [==============================] - 0s 12ms/step - loss: 4.1389 - mean_absolute_error: 2.0170\n",
            "Epoch 57/100\n",
            "2/2 [==============================] - 0s 12ms/step - loss: 4.0846 - mean_absolute_error: 2.0034\n",
            "Epoch 58/100\n",
            "2/2 [==============================] - 0s 34ms/step - loss: 4.0308 - mean_absolute_error: 1.9901\n",
            "Epoch 59/100\n",
            "2/2 [==============================] - 0s 16ms/step - loss: 3.9768 - mean_absolute_error: 1.9765\n",
            "Epoch 60/100\n",
            "2/2 [==============================] - 0s 21ms/step - loss: 3.9235 - mean_absolute_error: 1.9629\n",
            "Epoch 61/100\n",
            "2/2 [==============================] - 0s 16ms/step - loss: 3.8707 - mean_absolute_error: 1.9494\n",
            "Epoch 62/100\n",
            "2/2 [==============================] - 0s 20ms/step - loss: 3.8186 - mean_absolute_error: 1.9359\n",
            "Epoch 63/100\n",
            "2/2 [==============================] - 0s 11ms/step - loss: 3.7670 - mean_absolute_error: 1.9227\n",
            "Epoch 64/100\n",
            "2/2 [==============================] - 0s 28ms/step - loss: 3.7154 - mean_absolute_error: 1.9093\n",
            "Epoch 65/100\n",
            "2/2 [==============================] - 0s 16ms/step - loss: 3.6638 - mean_absolute_error: 1.8956\n",
            "Epoch 66/100\n",
            "2/2 [==============================] - 0s 26ms/step - loss: 3.6130 - mean_absolute_error: 1.8822\n",
            "Epoch 67/100\n",
            "2/2 [==============================] - 0s 26ms/step - loss: 3.5628 - mean_absolute_error: 1.8688\n",
            "Epoch 68/100\n",
            "2/2 [==============================] - 0s 24ms/step - loss: 3.5131 - mean_absolute_error: 1.8555\n",
            "Epoch 69/100\n",
            "2/2 [==============================] - 0s 25ms/step - loss: 3.4639 - mean_absolute_error: 1.8422\n",
            "Epoch 70/100\n",
            "2/2 [==============================] - 0s 12ms/step - loss: 3.4147 - mean_absolute_error: 1.8288\n",
            "Epoch 71/100\n",
            "2/2 [==============================] - 0s 16ms/step - loss: 3.3658 - mean_absolute_error: 1.8154\n",
            "Epoch 72/100\n",
            "2/2 [==============================] - 0s 15ms/step - loss: 3.3175 - mean_absolute_error: 1.8020\n",
            "Epoch 73/100\n",
            "2/2 [==============================] - 0s 12ms/step - loss: 3.2697 - mean_absolute_error: 1.7888\n",
            "Epoch 74/100\n",
            "2/2 [==============================] - 0s 21ms/step - loss: 3.2223 - mean_absolute_error: 1.7754\n",
            "Epoch 75/100\n",
            "2/2 [==============================] - 0s 33ms/step - loss: 3.1756 - mean_absolute_error: 1.7622\n",
            "Epoch 76/100\n",
            "2/2 [==============================] - 0s 22ms/step - loss: 3.1289 - mean_absolute_error: 1.7489\n",
            "Epoch 77/100\n",
            "2/2 [==============================] - 0s 28ms/step - loss: 3.0829 - mean_absolute_error: 1.7357\n",
            "Epoch 78/100\n",
            "2/2 [==============================] - 0s 25ms/step - loss: 3.0375 - mean_absolute_error: 1.7226\n",
            "Epoch 79/100\n",
            "2/2 [==============================] - 0s 25ms/step - loss: 2.9925 - mean_absolute_error: 1.7095\n",
            "Epoch 80/100\n",
            "2/2 [==============================] - 0s 20ms/step - loss: 2.9479 - mean_absolute_error: 1.6963\n",
            "Epoch 81/100\n",
            "2/2 [==============================] - 0s 24ms/step - loss: 2.9038 - mean_absolute_error: 1.6833\n",
            "Epoch 82/100\n",
            "2/2 [==============================] - 0s 31ms/step - loss: 2.8598 - mean_absolute_error: 1.6702\n",
            "Epoch 83/100\n",
            "2/2 [==============================] - 0s 17ms/step - loss: 2.8159 - mean_absolute_error: 1.6569\n",
            "Epoch 84/100\n",
            "2/2 [==============================] - 0s 23ms/step - loss: 2.7726 - mean_absolute_error: 1.6438\n",
            "Epoch 85/100\n",
            "2/2 [==============================] - 0s 14ms/step - loss: 2.7293 - mean_absolute_error: 1.6307\n",
            "Epoch 86/100\n",
            "2/2 [==============================] - 0s 15ms/step - loss: 2.6861 - mean_absolute_error: 1.6174\n",
            "Epoch 87/100\n",
            "2/2 [==============================] - 0s 23ms/step - loss: 2.6435 - mean_absolute_error: 1.6040\n",
            "Epoch 88/100\n",
            "2/2 [==============================] - 0s 22ms/step - loss: 2.6019 - mean_absolute_error: 1.5910\n",
            "Epoch 89/100\n",
            "2/2 [==============================] - 0s 17ms/step - loss: 2.5607 - mean_absolute_error: 1.5780\n",
            "Epoch 90/100\n",
            "2/2 [==============================] - 0s 30ms/step - loss: 2.5196 - mean_absolute_error: 1.5651\n",
            "Epoch 91/100\n",
            "2/2 [==============================] - 0s 24ms/step - loss: 2.4785 - mean_absolute_error: 1.5519\n",
            "Epoch 92/100\n",
            "2/2 [==============================] - 0s 16ms/step - loss: 2.4376 - mean_absolute_error: 1.5387\n",
            "Epoch 93/100\n",
            "2/2 [==============================] - 0s 21ms/step - loss: 2.3975 - mean_absolute_error: 1.5255\n",
            "Epoch 94/100\n",
            "2/2 [==============================] - 0s 34ms/step - loss: 2.3582 - mean_absolute_error: 1.5126\n",
            "Epoch 95/100\n",
            "2/2 [==============================] - 0s 44ms/step - loss: 2.3190 - mean_absolute_error: 1.4995\n",
            "Epoch 96/100\n",
            "2/2 [==============================] - 0s 30ms/step - loss: 2.2799 - mean_absolute_error: 1.4867\n",
            "Epoch 97/100\n",
            "2/2 [==============================] - 0s 17ms/step - loss: 2.2407 - mean_absolute_error: 1.4734\n",
            "Epoch 98/100\n",
            "2/2 [==============================] - 0s 40ms/step - loss: 2.2022 - mean_absolute_error: 1.4603\n",
            "Epoch 99/100\n",
            "2/2 [==============================] - 0s 25ms/step - loss: 2.1642 - mean_absolute_error: 1.4473\n",
            "Epoch 100/100\n",
            "2/2 [==============================] - 0s 43ms/step - loss: 2.1269 - mean_absolute_error: 1.4342\n"
          ]
        },
        {
          "output_type": "execute_result",
          "data": {
            "text/plain": [
              "<keras.callbacks.History at 0x799c4e824c40>"
            ]
          },
          "metadata": {},
          "execution_count": 257
        }
      ]
    },
    {
      "cell_type": "code",
      "source": [
        "print(\"#############################################\")\n",
        "print(\"         Model Predition process             \")\n",
        "print(\"#############################################\")\n",
        "y_pred_test_nn = model.predict(X_test)\n",
        "y_train_pred_nn = model.predict(X_train)\n",
        "print(\"R Square score (Train set):\\t{:0.2f}\".format(r2_score(y_train, y_train_pred_nn)))\n",
        "print(\"R Square (Test set):\\t{:0.2f}\".format(r2_score(y_test, y_pred_test_nn)))\n",
        "print(\"#############################################\")"
      ],
      "metadata": {
        "id": "Qgl8raPKtfoZ",
        "outputId": "fd1623cf-7556-4139-dea9-638345416baa",
        "colab": {
          "base_uri": "https://localhost:8080/"
        }
      },
      "execution_count": 267,
      "outputs": [
        {
          "output_type": "stream",
          "name": "stdout",
          "text": [
            "#############################################\n",
            "         Model Predition process             \n",
            "#############################################\n",
            "2/2 [==============================] - 0s 7ms/step\n",
            "2/2 [==============================] - 0s 5ms/step\n",
            "R Square score (Train set):\t-0.85\n",
            "R Square (Test set):\t-1.21\n",
            "#############################################\n"
          ]
        }
      ]
    },
    {
      "cell_type": "code",
      "source": [
        "import tensorflow as tf"
      ],
      "metadata": {
        "id": "z_MViHla3y4i"
      },
      "execution_count": 261,
      "outputs": []
    },
    {
      "cell_type": "code",
      "source": [
        "test_mse = model.evaluate(X_test, y_test, batch_size=1)\n",
        "#lstm_test_mse = lstm_model.evaluate(X_test_lmse, y_test, batch_size=1)\n",
        "print(\"############################################################\")\n",
        "print(\"        Model Evaluation process (ANN and LSTM)             \")\n",
        "print(\"###########################################################\")\n",
        "print('ANN: %f',rnntest_mse)\n",
        "#print('LSTM: %f'%lstm_test_mse)\n",
        "print(\"###########################################################\")"
      ],
      "metadata": {
        "id": "X-a0n3WqvAlk",
        "outputId": "ec49de73-dbe4-438a-e795-5b5dbe5dc2d6",
        "colab": {
          "base_uri": "https://localhost:8080/"
        }
      },
      "execution_count": 268,
      "outputs": [
        {
          "output_type": "stream",
          "name": "stdout",
          "text": [
            "49/49 [==============================] - 0s 2ms/step - loss: 0.3066 - mae: 0.3066\n",
            "############################################################\n",
            "        Model Evaluation process (ANN and LSTM)             \n",
            "###########################################################\n",
            "ANN: %f [0.3065764307975769, 0.3065764307975769]\n",
            "###########################################################\n"
          ]
        }
      ]
    },
    {
      "cell_type": "code",
      "source": [
        "plt.figure(figsize=(8,5))\n",
        "plt.plot(y_test,label = 'Test')\n",
        "plt.plot(Predict, label = 'Prediction')\n",
        "plt.legend(loc='best')\n",
        "plt.show()"
      ],
      "metadata": {
        "id": "uUbBOmlRuJR9",
        "outputId": "a01339be-2390-42e2-abf7-a01a5bf7fe3f",
        "colab": {
          "base_uri": "https://localhost:8080/",
          "height": 445
        }
      },
      "execution_count": 241,
      "outputs": [
        {
          "output_type": "display_data",
          "data": {
            "text/plain": [
              "<Figure size 800x500 with 1 Axes>"
            ],
            "image/png": "[encoded data removed]"
          },
          "metadata": {}
        }
      ]
    }
  ]
}